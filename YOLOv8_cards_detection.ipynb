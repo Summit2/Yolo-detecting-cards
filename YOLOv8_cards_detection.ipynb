{
  "cells": [
    {
      "cell_type": "code",
      "execution_count": 4,
      "metadata": {
        "colab": {
          "base_uri": "https://localhost:8080/"
        },
        "id": "wbvMlHd_QwMG",
        "outputId": "e4caccb4-7e1f-473f-c9f5-1f72ce7de83d"
      },
      "outputs": [
        {
          "name": "stdout",
          "output_type": "stream",
          "text": [
            "Ultralytics YOLOv8.2.38  Python-3.10.11 torch-2.1.0+cpu CPU (11th Gen Intel Core(TM) i7-11370H 3.30GHz)\n",
            "Setup complete  (8 CPUs, 15.8 GB RAM, 494.9/836.1 GB disk)\n"
          ]
        }
      ],
      "source": [
        "# %pip install ultralytics\n",
        "# %pip install unrar\n",
        "import ultralytics\n",
        "ultralytics.checks()"
      ]
    },
    {
      "cell_type": "code",
      "execution_count": 2,
      "metadata": {
        "colab": {
          "base_uri": "https://localhost:8080/"
        },
        "collapsed": true,
        "id": "pVG9OtPvofN7",
        "outputId": "e3753f6e-0cd8-4399-eca5-6c10a9619b34"
      },
      "outputs": [
        {
          "name": "stdout",
          "output_type": "stream",
          "text": [
            "\n",
            "UNRAR 6.11 beta 1 freeware      Copyright (c) 1993-2022 Alexander Roshal\n",
            "\n",
            "\n",
            "Extracting from cards_dataset.rar\n",
            "\n",
            "Creating    cards_dataset                                             OK\n",
            "Extracting  cards_dataset/data.yaml                                      \b\b\b\b  0%\b\b\b\b\b  OK \n",
            "Creating    cards_dataset/images                                      OK\n",
            "Extracting  cards_dataset/images/test_labels.csv                         \b\b\b\b  0%\b\b\b\b\b  OK \n",
            "Creating    cards_dataset/images/train                                OK\n",
            "Extracting  cards_dataset/images/train/cam_image1.jpg                    \b\b\b\b  0%\b\b\b\b\b  OK \n",
            "Extracting  cards_dataset/images/train/cam_image10.jpg                   \b\b\b\b  0%\b\b\b\b\b  OK \n",
            "Extracting  cards_dataset/images/train/cam_image11.jpg                   \b\b\b\b  1%\b\b\b\b\b  OK \n",
            "Extracting  cards_dataset/images/train/cam_image12.jpg                   \b\b\b\b  2%\b\b\b\b\b  OK \n",
            "Extracting  cards_dataset/images/train/cam_image13.jpg                   \b\b\b\b  2%\b\b\b\b\b  OK \n",
            "Extracting  cards_dataset/images/train/cam_image14.jpg                   \b\b\b\b  3%\b\b\b\b\b  OK \n",
            "Extracting  cards_dataset/images/train/cam_image15.jpg                   \b\b\b\b  3%\b\b\b\b\b  OK \n",
            "Extracting  cards_dataset/images/train/cam_image16.jpg                   \b\b\b\b  4%\b\b\b\b\b  OK \n",
            "Extracting  cards_dataset/images/train/cam_image17.jpg                   \b\b\b\b  5%\b\b\b\b\b  OK \n",
            "Extracting  cards_dataset/images/train/cam_image18.jpg                   \b\b\b\b  5%\b\b\b\b\b  OK \n",
            "Extracting  cards_dataset/images/train/cam_image19.jpg                   \b\b\b\b  6%\b\b\b\b\b  OK \n",
            "Extracting  cards_dataset/images/train/cam_image20.jpg                   \b\b\b\b  6%\b\b\b\b\b  OK \n",
            "Extracting  cards_dataset/images/train/cam_image21.jpg                   \b\b\b\b  7%\b\b\b\b\b  OK \n",
            "Extracting  cards_dataset/images/train/cam_image22.jpg                   \b\b\b\b  8%\b\b\b\b\b  OK \n",
            "Extracting  cards_dataset/images/train/cam_image23.jpg                   \b\b\b\b  8%\b\b\b\b\b  OK \n",
            "Extracting  cards_dataset/images/train/cam_image24.jpg                   \b\b\b\b  9%\b\b\b\b\b  OK \n",
            "Extracting  cards_dataset/images/train/cam_image25.jpg                   \b\b\b\b  9%\b\b\b\b\b  OK \n",
            "Extracting  cards_dataset/images/train/cam_image26.jpg                   \b\b\b\b 10%\b\b\b\b\b  OK \n",
            "Extracting  cards_dataset/images/train/cam_image27.jpg                   \b\b\b\b 11%\b\b\b\b\b  OK \n",
            "Extracting  cards_dataset/images/train/cam_image28.jpg                   \b\b\b\b 11%\b\b\b\b\b  OK \n",
            "Extracting  cards_dataset/images/train/cam_image29.jpg                   \b\b\b\b 12%\b\b\b\b\b  OK \n",
            "Extracting  cards_dataset/images/train/cam_image3.jpg                    \b\b\b\b 13%\b\b\b\b\b  OK \n",
            "Extracting  cards_dataset/images/train/cam_image30.jpg                   \b\b\b\b 13%\b\b\b\b\b  OK \n",
            "Extracting  cards_dataset/images/train/cam_image31.jpg                   \b\b\b\b 14%\b\b\b\b\b  OK \n",
            "Extracting  cards_dataset/images/train/cam_image32.jpg                   \b\b\b\b 14%\b\b\b\b\b  OK \n",
            "Extracting  cards_dataset/images/train/cam_image33.jpg                   \b\b\b\b 15%\b\b\b\b\b  OK \n",
            "Extracting  cards_dataset/images/train/cam_image34.jpg                   \b\b\b\b 16%\b\b\b\b\b  OK \n",
            "Extracting  cards_dataset/images/train/cam_image35.jpg                   \b\b\b\b 16%\b\b\b\b\b  OK \n",
            "Extracting  cards_dataset/images/train/cam_image36.jpg                   \b\b\b\b 17%\b\b\b\b\b  OK \n",
            "Extracting  cards_dataset/images/train/cam_image37.jpg                   \b\b\b\b 17%\b\b\b\b\b  OK \n",
            "Extracting  cards_dataset/images/train/cam_image38.jpg                   \b\b\b\b 18%\b\b\b\b\b  OK \n",
            "Extracting  cards_dataset/images/train/cam_image39.jpg                   \b\b\b\b 18%\b\b\b\b\b  OK \n",
            "Extracting  cards_dataset/images/train/cam_image40.jpg                   \b\b\b\b 19%\b\b\b\b\b  OK \n",
            "Extracting  cards_dataset/images/train/cam_image41.jpg                   \b\b\b\b 19%\b\b\b\b\b  OK \n",
            "Extracting  cards_dataset/images/train/cam_image42.jpg                   \b\b\b\b 20%\b\b\b\b\b  OK \n",
            "Extracting  cards_dataset/images/train/cam_image43.jpg                   \b\b\b\b 20%\b\b\b\b\b  OK \n",
            "Extracting  cards_dataset/images/train/cam_image44.jpg                   \b\b\b\b 20%\b\b\b\b\b  OK \n",
            "Extracting  cards_dataset/images/train/cam_image46.jpg                   \b\b\b\b 21%\b\b\b\b\b  OK \n",
            "Extracting  cards_dataset/images/train/cam_image47.jpg                   \b\b\b\b 21%\b\b\b\b\b  OK \n",
            "Extracting  cards_dataset/images/train/cam_image48.jpg                   \b\b\b\b 21%\b\b\b\b\b  OK \n",
            "Extracting  cards_dataset/images/train/cam_image50.jpg                   \b\b\b\b 21%\b\b\b\b\b  OK \n",
            "Extracting  cards_dataset/images/train/cam_image51.jpg                   \b\b\b\b 22%\b\b\b\b\b  OK \n",
            "Extracting  cards_dataset/images/train/cam_image52.jpg                   \b\b\b\b 22%\b\b\b\b\b  OK \n",
            "Extracting  cards_dataset/images/train/cam_image54.jpg                   \b\b\b\b 23%\b\b\b\b\b  OK \n",
            "Extracting  cards_dataset/images/train/cam_image9.jpg                    \b\b\b\b 23%\b\b\b\b\b  OK \n",
            "Extracting  cards_dataset/images/train/IMG_2385.JPG                      \b\b\b\b 24%\b\b\b\b\b  OK \n",
            "Extracting  cards_dataset/images/train/IMG_2386.JPG                      \b\b\b\b 24%\b\b\b\b\b  OK \n",
            "Extracting  cards_dataset/images/train/IMG_2388.JPG                      \b\b\b\b 24%\b\b\b\b\b  OK \n",
            "Extracting  cards_dataset/images/train/IMG_2389.JPG                      \b\b\b\b 25%\b\b\b\b\b  OK \n",
            "Extracting  cards_dataset/images/train/IMG_2390.JPG                      \b\b\b\b 25%\b\b\b\b\b  OK \n",
            "Extracting  cards_dataset/images/train/IMG_2392.JPG                      \b\b\b\b 25%\b\b\b\b\b  OK \n",
            "Extracting  cards_dataset/images/train/IMG_2393.JPG                      \b\b\b\b 25%\b\b\b\b\b  OK \n",
            "Extracting  cards_dataset/images/train/IMG_2394.JPG                      \b\b\b\b 26%\b\b\b\b\b  OK \n",
            "Extracting  cards_dataset/images/train/IMG_2396.JPG                      \b\b\b\b 26%\b\b\b\b\b  OK \n",
            "Extracting  cards_dataset/images/train/IMG_2397.JPG                      \b\b\b\b 27%\b\b\b\b\b  OK \n",
            "Extracting  cards_dataset/images/train/IMG_2398.JPG                      \b\b\b\b 27%\b\b\b\b\b  OK \n",
            "Extracting  cards_dataset/images/train/IMG_2399.JPG                      \b\b\b\b 27%\b\b\b\b\b  OK \n",
            "Extracting  cards_dataset/images/train/IMG_2400.JPG                      \b\b\b\b 28%\b\b\b\b\b  OK \n",
            "Extracting  cards_dataset/images/train/IMG_2401.JPG                      \b\b\b\b 28%\b\b\b\b\b  OK \n",
            "Extracting  cards_dataset/images/train/IMG_2402.JPG                      \b\b\b\b 28%\b\b\b\b\b  OK \n",
            "Extracting  cards_dataset/images/train/IMG_2404.JPG                      \b\b\b\b 29%\b\b\b\b\b  OK \n",
            "Extracting  cards_dataset/images/train/IMG_2405.JPG                      \b\b\b\b 29%\b\b\b\b\b  OK \n",
            "Extracting  cards_dataset/images/train/IMG_2406.JPG                      \b\b\b\b 29%\b\b\b\b\b  OK \n",
            "Extracting  cards_dataset/images/train/IMG_2407.JPG                      \b\b\b\b 30%\b\b\b\b\b  OK \n",
            "Extracting  cards_dataset/images/train/IMG_2408.JPG                      \b\b\b\b 30%\b\b\b\b\b  OK \n",
            "Extracting  cards_dataset/images/train/IMG_2409.JPG                      \b\b\b\b 30%\b\b\b\b\b  OK \n",
            "Extracting  cards_dataset/images/train/IMG_2410.JPG                      \b\b\b\b 30%\b\b\b\b\b  OK \n",
            "Extracting  cards_dataset/images/train/IMG_2411.JPG                      \b\b\b\b 30%\b\b\b\b\b  OK \n",
            "Extracting  cards_dataset/images/train/IMG_2412.JPG                      \b\b\b\b 30%\b\b\b\b\b  OK \n",
            "Extracting  cards_dataset/images/train/IMG_2413.JPG                      \b\b\b\b 31%\b\b\b\b\b  OK \n",
            "Extracting  cards_dataset/images/train/IMG_2414.JPG                      \b\b\b\b 31%\b\b\b\b\b  OK \n",
            "Extracting  cards_dataset/images/train/IMG_2415.JPG                      \b\b\b\b 31%\b\b\b\b\b  OK \n",
            "Extracting  cards_dataset/images/train/IMG_2416.JPG                      \b\b\b\b 31%\b\b\b\b\b  OK \n",
            "Extracting  cards_dataset/images/train/IMG_2417.JPG                      \b\b\b\b 31%\b\b\b\b\b  OK \n",
            "Extracting  cards_dataset/images/train/IMG_2418.JPG                      \b\b\b\b 31%\b\b\b\b\b  OK \n",
            "Extracting  cards_dataset/images/train/IMG_2419.JPG                      \b\b\b\b 32%\b\b\b\b\b  OK \n",
            "Extracting  cards_dataset/images/train/IMG_2420.JPG                      \b\b\b\b 32%\b\b\b\b\b  OK \n",
            "Extracting  cards_dataset/images/train/IMG_2421.JPG                      \b\b\b\b 32%\b\b\b\b\b  OK \n",
            "Extracting  cards_dataset/images/train/IMG_2422.JPG                      \b\b\b\b 32%\b\b\b\b\b  OK \n",
            "Extracting  cards_dataset/images/train/IMG_2423.JPG                      \b\b\b\b 32%\b\b\b\b\b  OK \n",
            "Extracting  cards_dataset/images/train/IMG_2424.JPG                      \b\b\b\b 33%\b\b\b\b\b  OK \n",
            "Extracting  cards_dataset/images/train/IMG_2425.JPG                      \b\b\b\b 33%\b\b\b\b\b  OK \n",
            "Extracting  cards_dataset/images/train/IMG_2426.JPG                      \b\b\b\b 33%\b\b\b\b\b  OK \n",
            "Extracting  cards_dataset/images/train/IMG_2427.JPG                      \b\b\b\b 33%\b\b\b\b\b  OK \n",
            "Extracting  cards_dataset/images/train/IMG_2428.JPG                      \b\b\b\b 33%\b\b\b\b\b  OK \n",
            "Extracting  cards_dataset/images/train/IMG_2429.JPG                      \b\b\b\b 34%\b\b\b\b\b  OK \n",
            "Extracting  cards_dataset/images/train/IMG_2430.JPG                      \b\b\b\b 34%\b\b\b\b\b  OK \n",
            "Extracting  cards_dataset/images/train/IMG_2431.JPG                      \b\b\b\b 34%\b\b\b\b\b  OK \n",
            "Extracting  cards_dataset/images/train/IMG_2434.JPG                      \b\b\b\b 34%\b\b\b\b\b  OK \n",
            "Extracting  cards_dataset/images/train/IMG_2437.JPG                      \b\b\b\b 34%\b\b\b\b\b  OK \n",
            "Extracting  cards_dataset/images/train/IMG_2439.JPG                      \b\b\b\b 35%\b\b\b\b\b  OK \n",
            "Extracting  cards_dataset/images/train/IMG_2441.JPG                      \b\b\b\b 35%\b\b\b\b\b  OK \n",
            "Extracting  cards_dataset/images/train/IMG_2442.JPG                      \b\b\b\b 35%\b\b\b\b\b  OK \n",
            "Extracting  cards_dataset/images/train/IMG_2443.JPG                      \b\b\b\b 35%\b\b\b\b\b  OK \n",
            "Extracting  cards_dataset/images/train/IMG_2445.JPG                      \b\b\b\b 35%\b\b\b\b\b  OK \n",
            "Extracting  cards_dataset/images/train/IMG_2446.JPG                      \b\b\b\b 36%\b\b\b\b\b  OK \n",
            "Extracting  cards_dataset/images/train/IMG_2447.JPG                      \b\b\b\b 36%\b\b\b\b\b  OK \n",
            "Extracting  cards_dataset/images/train/IMG_2448.JPG                      \b\b\b\b 36%\b\b\b\b\b  OK \n",
            "Extracting  cards_dataset/images/train/IMG_2449.JPG                      \b\b\b\b 36%\b\b\b\b\b  OK \n",
            "Extracting  cards_dataset/images/train/IMG_2450.JPG                      \b\b\b\b 36%\b\b\b\b\b  OK \n",
            "Extracting  cards_dataset/images/train/IMG_2451.JPG                      \b\b\b\b 36%\b\b\b\b\b  OK \n",
            "Extracting  cards_dataset/images/train/IMG_2452.JPG                      \b\b\b\b 36%\b\b\b\b\b  OK \n",
            "Extracting  cards_dataset/images/train/IMG_2453.JPG                      \b\b\b\b 37%\b\b\b\b\b  OK \n",
            "Extracting  cards_dataset/images/train/IMG_2454.JPG                      \b\b\b\b 37%\b\b\b\b\b  OK \n",
            "Extracting  cards_dataset/images/train/IMG_2455.JPG                      \b\b\b\b 37%\b\b\b\b\b  OK \n",
            "Extracting  cards_dataset/images/train/IMG_2456.JPG                      \b\b\b\b 37%\b\b\b\b\b  OK \n",
            "Extracting  cards_dataset/images/train/IMG_2457.JPG                      \b\b\b\b 37%\b\b\b\b\b  OK \n",
            "Extracting  cards_dataset/images/train/IMG_2458.JPG                      \b\b\b\b 38%\b\b\b\b\b  OK \n",
            "Extracting  cards_dataset/images/train/IMG_2459.JPG                      \b\b\b\b 38%\b\b\b\b\b  OK \n",
            "Extracting  cards_dataset/images/train/IMG_2460.JPG                      \b\b\b\b 38%\b\b\b\b\b  OK \n",
            "Extracting  cards_dataset/images/train/IMG_2462.JPG                      \b\b\b\b 38%\b\b\b\b\b  OK \n",
            "Extracting  cards_dataset/images/train/IMG_2464.JPG                      \b\b\b\b 38%\b\b\b\b\b  OK \n",
            "Extracting  cards_dataset/images/train/IMG_2465.JPG                      \b\b\b\b 39%\b\b\b\b\b  OK \n",
            "Extracting  cards_dataset/images/train/IMG_2466.JPG                      \b\b\b\b 39%\b\b\b\b\b  OK \n",
            "Extracting  cards_dataset/images/train/IMG_2467.JPG                      \b\b\b\b 39%\b\b\b\b\b  OK \n",
            "Extracting  cards_dataset/images/train/IMG_2468.JPG                      \b\b\b\b 39%\b\b\b\b\b  OK \n",
            "Extracting  cards_dataset/images/train/IMG_2469.JPG                      \b\b\b\b 39%\b\b\b\b\b  OK \n",
            "Extracting  cards_dataset/images/train/IMG_2471.JPG                      \b\b\b\b 40%\b\b\b\b\b  OK \n",
            "Extracting  cards_dataset/images/train/IMG_2472.JPG                      \b\b\b\b 40%\b\b\b\b\b  OK \n",
            "Extracting  cards_dataset/images/train/IMG_2473.JPG                      \b\b\b\b 40%\b\b\b\b\b  OK \n",
            "Extracting  cards_dataset/images/train/IMG_2474.JPG                      \b\b\b\b 40%\b\b\b\b\b  OK \n",
            "Extracting  cards_dataset/images/train/IMG_2475.JPG                      \b\b\b\b 40%\b\b\b\b\b  OK \n",
            "Extracting  cards_dataset/images/train/IMG_2477.JPG                      \b\b\b\b 41%\b\b\b\b\b  OK \n",
            "Extracting  cards_dataset/images/train/IMG_2478.JPG                      \b\b\b\b 41%\b\b\b\b\b  OK \n",
            "Extracting  cards_dataset/images/train/IMG_2480.JPG                      \b\b\b\b 41%\b\b\b\b\b  OK \n",
            "Extracting  cards_dataset/images/train/IMG_2481.JPG                      \b\b\b\b 41%\b\b\b\b\b  OK \n",
            "Extracting  cards_dataset/images/train/IMG_2483.JPG                      \b\b\b\b 41%\b\b\b\b\b  OK \n",
            "Extracting  cards_dataset/images/train/IMG_2484.JPG                      \b\b\b\b 42%\b\b\b\b\b  OK \n",
            "Extracting  cards_dataset/images/train/IMG_2486.JPG                      \b\b\b\b 42%\b\b\b\b\b  OK \n",
            "Extracting  cards_dataset/images/train/IMG_2487.JPG                      \b\b\b\b 42%\b\b\b\b\b  OK \n",
            "Extracting  cards_dataset/images/train/IMG_2488.JPG                      \b\b\b\b 42%\b\b\b\b\b  OK \n",
            "Extracting  cards_dataset/images/train/IMG_2489.JPG                      \b\b\b\b 43%\b\b\b\b\b  OK \n",
            "Extracting  cards_dataset/images/train/IMG_2490.JPG                      \b\b\b\b 43%\b\b\b\b\b  OK \n",
            "Extracting  cards_dataset/images/train/IMG_2491.JPG                      \b\b\b\b 43%\b\b\b\b\b  OK \n",
            "Extracting  cards_dataset/images/train/IMG_2492.JPG                      \b\b\b\b 43%\b\b\b\b\b  OK \n",
            "Extracting  cards_dataset/images/train/IMG_2493.JPG                      \b\b\b\b 44%\b\b\b\b\b  OK \n",
            "Extracting  cards_dataset/images/train/IMG_2494.JPG                      \b\b\b\b 44%\b\b\b\b\b  OK \n",
            "Extracting  cards_dataset/images/train/IMG_2495.JPG                      \b\b\b\b 44%\b\b\b\b\b  OK \n",
            "Extracting  cards_dataset/images/train/IMG_2496.JPG                      \b\b\b\b 44%\b\b\b\b\b  OK \n",
            "Extracting  cards_dataset/images/train/IMG_2497.JPG                      \b\b\b\b 45%\b\b\b\b\b  OK \n",
            "Extracting  cards_dataset/images/train/IMG_2498.JPG                      \b\b\b\b 45%\b\b\b\b\b  OK \n",
            "Extracting  cards_dataset/images/train/IMG_2499.JPG                      \b\b\b\b 45%\b\b\b\b\b  OK \n",
            "Extracting  cards_dataset/images/train/IMG_2500.JPG                      \b\b\b\b 45%\b\b\b\b\b  OK \n",
            "Extracting  cards_dataset/images/train/IMG_2501.JPG                      \b\b\b\b 46%\b\b\b\b\b  OK \n",
            "Extracting  cards_dataset/images/train/IMG_2502.JPG                      \b\b\b\b 46%\b\b\b\b\b  OK \n",
            "Extracting  cards_dataset/images/train/IMG_2503.JPG                      \b\b\b\b 46%\b\b\b\b\b  OK \n",
            "Extracting  cards_dataset/images/train/IMG_2504.JPG                      \b\b\b\b 46%\b\b\b\b\b  OK \n",
            "Extracting  cards_dataset/images/train/IMG_2505.JPG                      \b\b\b\b 46%\b\b\b\b\b  OK \n",
            "Extracting  cards_dataset/images/train/IMG_2506.JPG                      \b\b\b\b 47%\b\b\b\b\b  OK \n",
            "Extracting  cards_dataset/images/train/IMG_2507.JPG                      \b\b\b\b 47%\b\b\b\b\b  OK \n",
            "Extracting  cards_dataset/images/train/IMG_2508.JPG                      \b\b\b\b 47%\b\b\b\b\b  OK \n",
            "Extracting  cards_dataset/images/train/IMG_2509.JPG                      \b\b\b\b 47%\b\b\b\b\b  OK \n",
            "Extracting  cards_dataset/images/train/IMG_2511.JPG                      \b\b\b\b 47%\b\b\b\b\b  OK \n",
            "Extracting  cards_dataset/images/train/IMG_2512.JPG                      \b\b\b\b 48%\b\b\b\b\b  OK \n",
            "Extracting  cards_dataset/images/train/IMG_2513.JPG                      \b\b\b\b 48%\b\b\b\b\b  OK \n",
            "Extracting  cards_dataset/images/train/IMG_2514.JPG                      \b\b\b\b 48%\b\b\b\b\b  OK \n",
            "Extracting  cards_dataset/images/train/IMG_2515.JPG                      \b\b\b\b 48%\b\b\b\b\b  OK \n",
            "Extracting  cards_dataset/images/train/IMG_2516.JPG                      \b\b\b\b 48%\b\b\b\b\b  OK \n",
            "Extracting  cards_dataset/images/train/IMG_2517.JPG                      \b\b\b\b 49%\b\b\b\b\b  OK \n",
            "Extracting  cards_dataset/images/train/IMG_2518.JPG                      \b\b\b\b 49%\b\b\b\b\b  OK \n",
            "Extracting  cards_dataset/images/train/IMG_2519.JPG                      \b\b\b\b 49%\b\b\b\b\b  OK \n",
            "Extracting  cards_dataset/images/train/IMG_2520.JPG                      \b\b\b\b 49%\b\b\b\b\b  OK \n",
            "Extracting  cards_dataset/images/train/IMG_2521.JPG                      \b\b\b\b 49%\b\b\b\b\b  OK \n",
            "Extracting  cards_dataset/images/train/IMG_2522.JPG                      \b\b\b\b 50%\b\b\b\b\b  OK \n",
            "Extracting  cards_dataset/images/train/IMG_2523.JPG                      \b\b\b\b 50%\b\b\b\b\b  OK \n",
            "Extracting  cards_dataset/images/train/IMG_2524.JPG                      \b\b\b\b 50%\b\b\b\b\b  OK \n",
            "Extracting  cards_dataset/images/train/IMG_2525.JPG                      \b\b\b\b 50%\b\b\b\b\b  OK \n",
            "Extracting  cards_dataset/images/train/IMG_2526.JPG                      \b\b\b\b 51%\b\b\b\b\b  OK \n",
            "Extracting  cards_dataset/images/train/IMG_2527.JPG                      \b\b\b\b 51%\b\b\b\b\b  OK \n",
            "Extracting  cards_dataset/images/train/IMG_2528.JPG                      \b\b\b\b 51%\b\b\b\b\b  OK \n",
            "Extracting  cards_dataset/images/train/IMG_2529.JPG                      \b\b\b\b 51%\b\b\b\b\b  OK \n",
            "Extracting  cards_dataset/images/train/IMG_2533.JPG                      \b\b\b\b 52%\b\b\b\b\b  OK \n",
            "Extracting  cards_dataset/images/train/IMG_2535.JPG                      \b\b\b\b 52%\b\b\b\b\b  OK \n",
            "Extracting  cards_dataset/images/train/IMG_2536.JPG                      \b\b\b\b 52%\b\b\b\b\b  OK \n",
            "Extracting  cards_dataset/images/train/IMG_2537.JPG                      \b\b\b\b 52%\b\b\b\b\b  OK \n",
            "Extracting  cards_dataset/images/train/IMG_2538.JPG                      \b\b\b\b 53%\b\b\b\b\b  OK \n",
            "Extracting  cards_dataset/images/train/IMG_2542.JPG                      \b\b\b\b 53%\b\b\b\b\b  OK \n",
            "Extracting  cards_dataset/images/train/IMG_2543.JPG                      \b\b\b\b 53%\b\b\b\b\b  OK \n",
            "Extracting  cards_dataset/images/train/IMG_2545.JPG                      \b\b\b\b 53%\b\b\b\b\b  OK \n",
            "Extracting  cards_dataset/images/train/IMG_2546.JPG                      \b\b\b\b 54%\b\b\b\b\b  OK \n",
            "Extracting  cards_dataset/images/train/IMG_2548.JPG                      \b\b\b\b 54%\b\b\b\b\b  OK \n",
            "Extracting  cards_dataset/images/train/IMG_2549.JPG                      \b\b\b\b 54%\b\b\b\b\b  OK \n",
            "Extracting  cards_dataset/images/train/IMG_2552.JPG                      \b\b\b\b 54%\b\b\b\b\b  OK \n",
            "Extracting  cards_dataset/images/train/IMG_2553.JPG                      \b\b\b\b 54%\b\b\b\b\b  OK \n",
            "Extracting  cards_dataset/images/train/IMG_2556.JPG                      \b\b\b\b 54%\b\b\b\b\b  OK \n",
            "Extracting  cards_dataset/images/train/IMG_2558.JPG                      \b\b\b\b 55%\b\b\b\b\b  OK \n",
            "Extracting  cards_dataset/images/train/IMG_2559.JPG                      \b\b\b\b 55%\b\b\b\b\b  OK \n",
            "Extracting  cards_dataset/images/train/IMG_2562.JPG                      \b\b\b\b 55%\b\b\b\b\b  OK \n",
            "Extracting  cards_dataset/images/train/IMG_2563.JPG                      \b\b\b\b 56%\b\b\b\b\b  OK \n",
            "Extracting  cards_dataset/images/train/IMG_2565.JPG                      \b\b\b\b 56%\b\b\b\b\b  OK \n",
            "Extracting  cards_dataset/images/train/IMG_2566.JPG                      \b\b\b\b 56%\b\b\b\b\b  OK \n",
            "Extracting  cards_dataset/images/train/IMG_2567.JPG                      \b\b\b\b 57%\b\b\b\b\b  OK \n",
            "Extracting  cards_dataset/images/train/IMG_2569.JPG                      \b\b\b\b 57%\b\b\b\b\b  OK \n",
            "Extracting  cards_dataset/images/train/IMG_2570.JPG                      \b\b\b\b 57%\b\b\b\b\b  OK \n",
            "Extracting  cards_dataset/images/train/IMG_2572.JPG                      \b\b\b\b 57%\b\b\b\b\b  OK \n",
            "Extracting  cards_dataset/images/train/IMG_2574.JPG                      \b\b\b\b 57%\b\b\b\b\b  OK \n",
            "Extracting  cards_dataset/images/train/IMG_2576.JPG                      \b\b\b\b 58%\b\b\b\b\b  OK \n",
            "Extracting  cards_dataset/images/train/IMG_2577.JPG                      \b\b\b\b 58%\b\b\b\b\b  OK \n",
            "Extracting  cards_dataset/images/train/IMG_2578.JPG                      \b\b\b\b 58%\b\b\b\b\b  OK \n",
            "Extracting  cards_dataset/images/train/IMG_2579.JPG                      \b\b\b\b 58%\b\b\b\b\b  OK \n",
            "Extracting  cards_dataset/images/train/IMG_2581.JPG                      \b\b\b\b 58%\b\b\b\b\b  OK \n",
            "Extracting  cards_dataset/images/train/IMG_2582.JPG                      \b\b\b\b 58%\b\b\b\b\b  OK \n",
            "Extracting  cards_dataset/images/train/IMG_2584.JPG                      \b\b\b\b 59%\b\b\b\b\b  OK \n",
            "Extracting  cards_dataset/images/train/IMG_2586.JPG                      \b\b\b\b 59%\b\b\b\b\b  OK \n",
            "Extracting  cards_dataset/images/train/IMG_2587.JPG                      \b\b\b\b 59%\b\b\b\b\b  OK \n",
            "Extracting  cards_dataset/images/train/IMG_2588.JPG                      \b\b\b\b 60%\b\b\b\b\b  OK \n",
            "Extracting  cards_dataset/images/train/IMG_2589.JPG                      \b\b\b\b 60%\b\b\b\b\b  OK \n",
            "Extracting  cards_dataset/images/train/IMG_2590.JPG                      \b\b\b\b 60%\b\b\b\b\b  OK \n",
            "Extracting  cards_dataset/images/train/IMG_2593.JPG                      \b\b\b\b 61%\b\b\b\b\b  OK \n",
            "Extracting  cards_dataset/images/train/IMG_2596.JPG                      \b\b\b\b 61%\b\b\b\b\b  OK \n",
            "Extracting  cards_dataset/images/train/IMG_2597.JPG                      \b\b\b\b 61%\b\b\b\b\b  OK \n",
            "Extracting  cards_dataset/images/train/IMG_2599.JPG                      \b\b\b\b 61%\b\b\b\b\b  OK \n",
            "Extracting  cards_dataset/images/train/IMG_2601.JPG                      \b\b\b\b 61%\b\b\b\b\b  OK \n",
            "Extracting  cards_dataset/images/train/IMG_2602.JPG                      \b\b\b\b 61%\b\b\b\b\b  OK \n",
            "Extracting  cards_dataset/images/train/IMG_2603.JPG                      \b\b\b\b 61%\b\b\b\b\b  OK \n",
            "Extracting  cards_dataset/images/train/IMG_2605.JPG                      \b\b\b\b 62%\b\b\b\b\b  OK \n",
            "Extracting  cards_dataset/images/train/IMG_2607.JPG                      \b\b\b\b 62%\b\b\b\b\b  OK \n",
            "Extracting  cards_dataset/images/train/IMG_2608.JPG                      \b\b\b\b 62%\b\b\b\b\b  OK \n",
            "Extracting  cards_dataset/images/train/IMG_2609.JPG                      \b\b\b\b 62%\b\b\b\b\b  OK \n",
            "Extracting  cards_dataset/images/train/IMG_2610.JPG                      \b\b\b\b 62%\b\b\b\b\b  OK \n",
            "Extracting  cards_dataset/images/train/IMG_2611.JPG                      \b\b\b\b 62%\b\b\b\b\b  OK \n",
            "Extracting  cards_dataset/images/train/IMG_2612.JPG                      \b\b\b\b 62%\b\b\b\b\b  OK \n",
            "Extracting  cards_dataset/images/train/IMG_2613.JPG                      \b\b\b\b 63%\b\b\b\b\b  OK \n",
            "Extracting  cards_dataset/images/train/IMG_2614.JPG                      \b\b\b\b 63%\b\b\b\b\b  OK \n",
            "Extracting  cards_dataset/images/train/IMG_2615.JPG                      \b\b\b\b 63%\b\b\b\b\b  OK \n",
            "Extracting  cards_dataset/images/train/IMG_2616.JPG                      \b\b\b\b 63%\b\b\b\b\b  OK \n",
            "Extracting  cards_dataset/images/train/IMG_2617.JPG                      \b\b\b\b 63%\b\b\b\b\b  OK \n",
            "Extracting  cards_dataset/images/train/IMG_2618.JPG                      \b\b\b\b 64%\b\b\b\b\b  OK \n",
            "Extracting  cards_dataset/images/train/IMG_2619.JPG                      \b\b\b\b 64%\b\b\b\b\b  OK \n",
            "Extracting  cards_dataset/images/train/IMG_2620.JPG                      \b\b\b\b 64%\b\b\b\b\b  OK \n",
            "Extracting  cards_dataset/images/train/IMG_2621.JPG                      \b\b\b\b 64%\b\b\b\b\b  OK \n",
            "Extracting  cards_dataset/images/train/IMG_2622.JPG                      \b\b\b\b 65%\b\b\b\b\b  OK \n",
            "Extracting  cards_dataset/images/train/IMG_2623.JPG                      \b\b\b\b 65%\b\b\b\b\b  OK \n",
            "Extracting  cards_dataset/images/train/IMG_2624.JPG                      \b\b\b\b 65%\b\b\b\b\b  OK \n",
            "Extracting  cards_dataset/images/train/IMG_2626.JPG                      \b\b\b\b 65%\b\b\b\b\b  OK \n",
            "Extracting  cards_dataset/images/train/IMG_2627.JPG                      \b\b\b\b 66%\b\b\b\b\b  OK \n",
            "Extracting  cards_dataset/images/train/IMG_2628.JPG                      \b\b\b\b 66%\b\b\b\b\b  OK \n",
            "Extracting  cards_dataset/images/train/IMG_2629.JPG                      \b\b\b\b 66%\b\b\b\b\b  OK \n",
            "Extracting  cards_dataset/images/train/IMG_2630.JPG                      \b\b\b\b 66%\b\b\b\b\b  OK \n",
            "Extracting  cards_dataset/images/train/IMG_2631.JPG                      \b\b\b\b 66%\b\b\b\b\b  OK \n",
            "Extracting  cards_dataset/images/train/IMG_2632.JPG                      \b\b\b\b 67%\b\b\b\b\b  OK \n",
            "Extracting  cards_dataset/images/train/IMG_2633.JPG                      \b\b\b\b 67%\b\b\b\b\b  OK \n",
            "Extracting  cards_dataset/images/train/IMG_2635.JPG                      \b\b\b\b 67%\b\b\b\b\b  OK \n",
            "Extracting  cards_dataset/images/train/IMG_2637.JPG                      \b\b\b\b 67%\b\b\b\b\b  OK \n",
            "Extracting  cards_dataset/images/train/IMG_2638.JPG                      \b\b\b\b 68%\b\b\b\b\b  OK \n",
            "Extracting  cards_dataset/images/train/IMG_2641.JPG                      \b\b\b\b 68%\b\b\b\b\b  OK \n",
            "Extracting  cards_dataset/images/train/IMG_2642.JPG                      \b\b\b\b 68%\b\b\b\b\b  OK \n",
            "Extracting  cards_dataset/images/train/IMG_2643.JPG                      \b\b\b\b 69%\b\b\b\b\b  OK \n",
            "Extracting  cards_dataset/images/train/IMG_2644.JPG                      \b\b\b\b 69%\b\b\b\b\b  OK \n",
            "Extracting  cards_dataset/images/train/IMG_2645.JPG                      \b\b\b\b 69%\b\b\b\b\b  OK \n",
            "Extracting  cards_dataset/images/train/IMG_2648.JPG                      \b\b\b\b 70%\b\b\b\b\b  OK \n",
            "Extracting  cards_dataset/images/train/IMG_2649.JPG                      \b\b\b\b 70%\b\b\b\b\b  OK \n",
            "Extracting  cards_dataset/images/train/IMG_2650.JPG                      \b\b\b\b 70%\b\b\b\b\b  OK \n",
            "Extracting  cards_dataset/images/train/IMG_2652.JPG                      \b\b\b\b 70%\b\b\b\b\b  OK \n",
            "Extracting  cards_dataset/images/train/IMG_2653.JPG                      \b\b\b\b 70%\b\b\b\b\b  OK \n",
            "Extracting  cards_dataset/images/train/IMG_2655.JPG                      \b\b\b\b 71%\b\b\b\b\b  OK \n",
            "Extracting  cards_dataset/images/train/IMG_2657.JPG                      \b\b\b\b 71%\b\b\b\b\b  OK \n",
            "Extracting  cards_dataset/images/train/IMG_2658.JPG                      \b\b\b\b 71%\b\b\b\b\b  OK \n",
            "Extracting  cards_dataset/images/train/IMG_2659.JPG                      \b\b\b\b 72%\b\b\b\b\b  OK \n",
            "Extracting  cards_dataset/images/train/IMG_2660.JPG                      \b\b\b\b 72%\b\b\b\b\b  OK \n",
            "Extracting  cards_dataset/images/train/IMG_2661.JPG                      \b\b\b\b 72%\b\b\b\b\b  OK \n",
            "Extracting  cards_dataset/images/train/IMG_2663.JPG                      \b\b\b\b 72%\b\b\b\b\b  OK \n",
            "Extracting  cards_dataset/images/train/IMG_2664.JPG                      \b\b\b\b 73%\b\b\b\b\b  OK \n",
            "Extracting  cards_dataset/images/train/IMG_2665.JPG                      \b\b\b\b 73%\b\b\b\b\b  OK \n",
            "Extracting  cards_dataset/images/train/IMG_2666.JPG                      \b\b\b\b 73%\b\b\b\b\b  OK \n",
            "Extracting  cards_dataset/images/train/IMG_2667.JPG                      \b\b\b\b 73%\b\b\b\b\b  OK \n",
            "Extracting  cards_dataset/images/train/IMG_2668.JPG                      \b\b\b\b 74%\b\b\b\b\b  OK \n",
            "Extracting  cards_dataset/images/train/IMG_2669.JPG                      \b\b\b\b 74%\b\b\b\b\b  OK \n",
            "Extracting  cards_dataset/images/train/IMG_2671.JPG                      \b\b\b\b 74%\b\b\b\b\b  OK \n",
            "Extracting  cards_dataset/images/train/IMG_2672.JPG                      \b\b\b\b 74%\b\b\b\b\b  OK \n",
            "Extracting  cards_dataset/images/train/IMG_2673.JPG                      \b\b\b\b 75%\b\b\b\b\b  OK \n",
            "Extracting  cards_dataset/images/train/IMG_2674.JPG                      \b\b\b\b 75%\b\b\b\b\b  OK \n",
            "Extracting  cards_dataset/images/train/IMG_2679.JPG                      \b\b\b\b 75%\b\b\b\b\b  OK \n",
            "Extracting  cards_dataset/images/train/IMG_2680.JPG                      \b\b\b\b 75%\b\b\b\b\b  OK \n",
            "Extracting  cards_dataset/images/train/IMG_2681.JPG                      \b\b\b\b 76%\b\b\b\b\b  OK \n",
            "Extracting  cards_dataset/images/train/IMG_2682.JPG                      \b\b\b\b 76%\b\b\b\b\b  OK \n",
            "Extracting  cards_dataset/images/train/IMG_2683.JPG                      \b\b\b\b 76%\b\b\b\b\b  OK \n",
            "Extracting  cards_dataset/images/train/IMG_2684.JPG                      \b\b\b\b 76%\b\b\b\b\b  OK \n",
            "Extracting  cards_dataset/images/train/IMG_2685.JPG                      \b\b\b\b 77%\b\b\b\b\b  OK \n",
            "Extracting  cards_dataset/images/train/IMG_2687.JPG                      \b\b\b\b 77%\b\b\b\b\b  OK \n",
            "Extracting  cards_dataset/images/train/IMG_2689.JPG                      \b\b\b\b 77%\b\b\b\b\b  OK \n",
            "Extracting  cards_dataset/images/train/IMG_2690.JPG                      \b\b\b\b 77%\b\b\b\b\b  OK \n",
            "Extracting  cards_dataset/images/train/IMG_2691.JPG                      \b\b\b\b 78%\b\b\b\b\b  OK \n",
            "Extracting  cards_dataset/images/train/IMG_2692.JPG                      \b\b\b\b 78%\b\b\b\b\b  OK \n",
            "Extracting  cards_dataset/images/train/IMG_2693.JPG                      \b\b\b\b 78%\b\b\b\b\b  OK \n",
            "Extracting  cards_dataset/images/train/IMG_2694.JPG                      \b\b\b\b 79%\b\b\b\b\b  OK \n",
            "Extracting  cards_dataset/images/train/IMG_2695.JPG                      \b\b\b\b 79%\b\b\b\b\b  OK \n",
            "Extracting  cards_dataset/images/train/IMG_2696.JPG                      \b\b\b\b 79%\b\b\b\b\b  OK \n",
            "Extracting  cards_dataset/images/train/IMG_2697.JPG                      \b\b\b\b 79%\b\b\b\b\b  OK \n",
            "Extracting  cards_dataset/images/train/IMG_2698.JPG                      \b\b\b\b 80%\b\b\b\b\b  OK \n",
            "Extracting  cards_dataset/images/train/IMG_2699.JPG                      \b\b\b\b 80%\b\b\b\b\b  OK \n",
            "Extracting  cards_dataset/images/train/IMG_2700.JPG                      \b\b\b\b 80%\b\b\b\b\b  OK \n",
            "Extracting  cards_dataset/images/train/IMG_2701.JPG                      \b\b\b\b 80%\b\b\b\b\b  OK \n",
            "Extracting  cards_dataset/images/train/IMG_2702.JPG                      \b\b\b\b 81%\b\b\b\b\b  OK \n",
            "Extracting  cards_dataset/images/train/IMG_2703.JPG                      \b\b\b\b 81%\b\b\b\b\b  OK \n",
            "Extracting  cards_dataset/images/train/IMG_2704.JPG                      \b\b\b\b 81%\b\b\b\b\b  OK \n",
            "Extracting  cards_dataset/images/train_labels.csv                        \b\b\b\b 81%\b\b\b\b\b  OK \n",
            "Creating    cards_dataset/images/val                                  OK\n",
            "Extracting  cards_dataset/images/val/cam_image2.jpg                      \b\b\b\b 82%\b\b\b\b\b  OK \n",
            "Extracting  cards_dataset/images/val/cam_image4.jpg                      \b\b\b\b 82%\b\b\b\b\b  OK \n",
            "Extracting  cards_dataset/images/val/cam_image45.jpg                     \b\b\b\b 83%\b\b\b\b\b  OK \n",
            "Extracting  cards_dataset/images/val/cam_image5.jpg                      \b\b\b\b 83%\b\b\b\b\b  OK \n",
            "Extracting  cards_dataset/images/val/cam_image6.jpg                      \b\b\b\b 84%\b\b\b\b\b  OK \n",
            "Extracting  cards_dataset/images/val/cam_image7.jpg                      \b\b\b\b 84%\b\b\b\b\b  OK \n",
            "Extracting  cards_dataset/images/val/cam_image8.jpg                      \b\b\b\b 85%\b\b\b\b\b  OK \n",
            "Extracting  cards_dataset/images/val/IMG_2383.JPG                        \b\b\b\b 85%\b\b\b\b\b  OK \n",
            "Extracting  cards_dataset/images/val/IMG_2384.JPG                        \b\b\b\b 86%\b\b\b\b\b  OK \n",
            "Extracting  cards_dataset/images/val/IMG_2387.JPG                        \b\b\b\b 86%\b\b\b\b\b  OK \n",
            "Extracting  cards_dataset/images/val/IMG_2391.JPG                        \b\b\b\b 86%\b\b\b\b\b  OK \n",
            "Extracting  cards_dataset/images/val/IMG_2395.JPG                        \b\b\b\b 87%\b\b\b\b\b  OK \n",
            "Extracting  cards_dataset/images/val/IMG_2403.JPG                        \b\b\b\b 87%\b\b\b\b\b  OK \n",
            "Extracting  cards_dataset/images/val/IMG_2432.JPG                        \b\b\b\b 87%\b\b\b\b\b  OK \n",
            "Extracting  cards_dataset/images/val/IMG_2433.JPG                        \b\b\b\b 87%\b\b\b\b\b  OK \n",
            "Extracting  cards_dataset/images/val/IMG_2435.JPG                        \b\b\b\b 87%\b\b\b\b\b  OK \n",
            "Extracting  cards_dataset/images/val/IMG_2436.JPG                        \b\b\b\b 88%\b\b\b\b\b  OK \n",
            "Extracting  cards_dataset/images/val/IMG_2440.JPG                        \b\b\b\b 88%\b\b\b\b\b  OK \n",
            "Extracting  cards_dataset/images/val/IMG_2461.JPG                        \b\b\b\b 88%\b\b\b\b\b  OK \n",
            "Extracting  cards_dataset/images/val/IMG_2463.JPG                        \b\b\b\b 88%\b\b\b\b\b  OK \n",
            "Extracting  cards_dataset/images/val/IMG_2470.JPG                        \b\b\b\b 89%\b\b\b\b\b  OK \n",
            "Extracting  cards_dataset/images/val/IMG_2476.JPG                        \b\b\b\b 89%\b\b\b\b\b  OK \n",
            "Extracting  cards_dataset/images/val/IMG_2479.JPG                        \b\b\b\b 89%\b\b\b\b\b  OK \n",
            "Extracting  cards_dataset/images/val/IMG_2482.JPG                        \b\b\b\b 89%\b\b\b\b\b  OK \n",
            "Extracting  cards_dataset/images/val/IMG_2485.JPG                        \b\b\b\b 89%\b\b\b\b\b  OK \n",
            "Extracting  cards_dataset/images/val/IMG_2510.JPG                        \b\b\b\b 90%\b\b\b\b\b  OK \n",
            "Extracting  cards_dataset/images/val/IMG_2530.JPG                        \b\b\b\b 90%\b\b\b\b\b  OK \n",
            "Extracting  cards_dataset/images/val/IMG_2531.JPG                        \b\b\b\b 90%\b\b\b\b\b  OK \n",
            "Extracting  cards_dataset/images/val/IMG_2532.JPG                        \b\b\b\b 90%\b\b\b\b\b  OK \n",
            "Extracting  cards_dataset/images/val/IMG_2539.JPG                        \b\b\b\b 91%\b\b\b\b\b  OK \n",
            "Extracting  cards_dataset/images/val/IMG_2540.JPG                        \b\b\b\b 91%\b\b\b\b\b  OK \n",
            "Extracting  cards_dataset/images/val/IMG_2544.JPG                        \b\b\b\b 91%\b\b\b\b\b  OK \n",
            "Extracting  cards_dataset/images/val/IMG_2550.JPG                        \b\b\b\b 91%\b\b\b\b\b  OK \n",
            "Extracting  cards_dataset/images/val/IMG_2551.JPG                        \b\b\b\b 91%\b\b\b\b\b  OK \n",
            "Extracting  cards_dataset/images/val/IMG_2554.JPG                        \b\b\b\b 92%\b\b\b\b\b  OK \n",
            "Extracting  cards_dataset/images/val/IMG_2555.JPG                        \b\b\b\b 92%\b\b\b\b\b  OK \n",
            "Extracting  cards_dataset/images/val/IMG_2557.JPG                        \b\b\b\b 92%\b\b\b\b\b  OK \n",
            "Extracting  cards_dataset/images/val/IMG_2560.JPG                        \b\b\b\b 93%\b\b\b\b\b  OK \n",
            "Extracting  cards_dataset/images/val/IMG_2561.JPG                        \b\b\b\b 93%\b\b\b\b\b  OK \n",
            "Extracting  cards_dataset/images/val/IMG_2564.JPG                        \b\b\b\b 93%\b\b\b\b\b  OK \n",
            "Extracting  cards_dataset/images/val/IMG_2568.JPG                        \b\b\b\b 93%\b\b\b\b\b  OK \n",
            "Extracting  cards_dataset/images/val/IMG_2571.JPG                        \b\b\b\b 94%\b\b\b\b\b  OK \n",
            "Extracting  cards_dataset/images/val/IMG_2573.JPG                        \b\b\b\b 94%\b\b\b\b\b  OK \n",
            "Extracting  cards_dataset/images/val/IMG_2580.JPG                        \b\b\b\b 94%\b\b\b\b\b  OK \n",
            "Extracting  cards_dataset/images/val/IMG_2583.JPG                        \b\b\b\b 94%\b\b\b\b\b  OK \n",
            "Extracting  cards_dataset/images/val/IMG_2585.JPG                        \b\b\b\b 95%\b\b\b\b\b  OK \n",
            "Extracting  cards_dataset/images/val/IMG_2591.JPG                        \b\b\b\b 95%\b\b\b\b\b  OK \n",
            "Extracting  cards_dataset/images/val/IMG_2592.JPG                        \b\b\b\b 95%\b\b\b\b\b  OK \n",
            "Extracting  cards_dataset/images/val/IMG_2594.JPG                        \b\b\b\b 95%\b\b\b\b\b  OK \n",
            "Extracting  cards_dataset/images/val/IMG_2595.JPG                        \b\b\b\b 95%\b\b\b\b\b  OK \n",
            "Extracting  cards_dataset/images/val/IMG_2598.JPG                        \b\b\b\b 95%\b\b\b\b\b  OK \n",
            "Extracting  cards_dataset/images/val/IMG_2600.JPG                        \b\b\b\b 95%\b\b\b\b\b  OK \n",
            "Extracting  cards_dataset/images/val/IMG_2604.JPG                        \b\b\b\b 96%\b\b\b\b\b  OK \n",
            "Extracting  cards_dataset/images/val/IMG_2634.JPG                        \b\b\b\b 96%\b\b\b\b\b  OK \n",
            "Extracting  cards_dataset/images/val/IMG_2636.JPG                        \b\b\b\b 96%\b\b\b\b\b  OK \n",
            "Extracting  cards_dataset/images/val/IMG_2639.JPG                        \b\b\b\b 97%\b\b\b\b\b  OK \n",
            "Extracting  cards_dataset/images/val/IMG_2640.JPG                        \b\b\b\b 97%\b\b\b\b\b  OK \n",
            "Extracting  cards_dataset/images/val/IMG_2647.JPG                        \b\b\b\b 97%\b\b\b\b\b  OK \n",
            "Extracting  cards_dataset/images/val/IMG_2651.JPG                        \b\b\b\b 97%\b\b\b\b\b  OK \n",
            "Extracting  cards_dataset/images/val/IMG_2654.JPG                        \b\b\b\b 98%\b\b\b\b\b  OK \n",
            "Extracting  cards_dataset/images/val/IMG_2656.JPG                        \b\b\b\b 98%\b\b\b\b\b  OK \n",
            "Extracting  cards_dataset/images/val/IMG_2662.JPG                        \b\b\b\b 98%\b\b\b\b\b  OK \n",
            "Extracting  cards_dataset/images/val/IMG_2670.JPG                        \b\b\b\b 98%\b\b\b\b\b  OK \n",
            "Extracting  cards_dataset/images/val/IMG_2675.JPG                        \b\b\b\b 99%\b\b\b\b\b  OK \n",
            "Extracting  cards_dataset/images/val/IMG_2677.JPG                        \b\b\b\b 99%\b\b\b\b\b  OK \n",
            "Extracting  cards_dataset/images/val/IMG_2678.JPG                        \b\b\b\b 99%\b\b\b\b\b  OK \n",
            "Extracting  cards_dataset/images/val/IMG_2686.JPG                        \b\b\b\b 99%\b\b\b\b\b  OK \n",
            "Creating    cards_dataset/labels                                      OK\n",
            "Creating    cards_dataset/labels/train                                OK\n",
            "Extracting  cards_dataset/labels/train/cam_image1.txt                    \b\b\b\b 99%\b\b\b\b\b  OK \n",
            "Extracting  cards_dataset/labels/train/cam_image10.txt                   \b\b\b\b 99%\b\b\b\b\b  OK \n",
            "Extracting  cards_dataset/labels/train/cam_image11.txt                   \b\b\b\b 99%\b\b\b\b\b  OK \n",
            "Extracting  cards_dataset/labels/train/cam_image12.txt                   \b\b\b\b 99%\b\b\b\b\b  OK \n",
            "Extracting  cards_dataset/labels/train/cam_image13.txt                   \b\b\b\b 99%\b\b\b\b\b  OK \n",
            "Extracting  cards_dataset/labels/train/cam_image14.txt                   \b\b\b\b 99%\b\b\b\b\b  OK \n",
            "Extracting  cards_dataset/labels/train/cam_image15.txt                   \b\b\b\b 99%\b\b\b\b\b  OK \n",
            "Extracting  cards_dataset/labels/train/cam_image16.txt                   \b\b\b\b 99%\b\b\b\b\b  OK \n",
            "Extracting  cards_dataset/labels/train/cam_image17.txt                   \b\b\b\b 99%\b\b\b\b\b  OK \n",
            "Extracting  cards_dataset/labels/train/cam_image18.txt                   \b\b\b\b 99%\b\b\b\b\b  OK \n",
            "Extracting  cards_dataset/labels/train/cam_image19.txt                   \b\b\b\b 99%\b\b\b\b\b  OK \n",
            "Extracting  cards_dataset/labels/train/cam_image20.txt                   \b\b\b\b 99%\b\b\b\b\b  OK \n",
            "Extracting  cards_dataset/labels/train/cam_image21.txt                   \b\b\b\b 99%\b\b\b\b\b  OK \n",
            "Extracting  cards_dataset/labels/train/cam_image22.txt                   \b\b\b\b 99%\b\b\b\b\b  OK \n",
            "Extracting  cards_dataset/labels/train/cam_image23.txt                   \b\b\b\b 99%\b\b\b\b\b  OK \n",
            "Extracting  cards_dataset/labels/train/cam_image24.txt                   \b\b\b\b 99%\b\b\b\b\b  OK \n",
            "Extracting  cards_dataset/labels/train/cam_image25.txt                   \b\b\b\b 99%\b\b\b\b\b  OK \n",
            "Extracting  cards_dataset/labels/train/cam_image26.txt                   \b\b\b\b 99%\b\b\b\b\b  OK \n",
            "Extracting  cards_dataset/labels/train/cam_image27.txt                   \b\b\b\b 99%\b\b\b\b\b  OK \n",
            "Extracting  cards_dataset/labels/train/cam_image28.txt                   \b\b\b\b 99%\b\b\b\b\b  OK \n",
            "Extracting  cards_dataset/labels/train/cam_image29.txt                   \b\b\b\b 99%\b\b\b\b\b  OK \n",
            "Extracting  cards_dataset/labels/train/cam_image3.txt                    \b\b\b\b 99%\b\b\b\b\b  OK \n",
            "Extracting  cards_dataset/labels/train/cam_image30.txt                   \b\b\b\b 99%\b\b\b\b\b  OK \n",
            "Extracting  cards_dataset/labels/train/cam_image31.txt                   \b\b\b\b 99%\b\b\b\b\b  OK \n",
            "Extracting  cards_dataset/labels/train/cam_image32.txt                   \b\b\b\b 99%\b\b\b\b\b  OK \n",
            "Extracting  cards_dataset/labels/train/cam_image33.txt                   \b\b\b\b 99%\b\b\b\b\b  OK \n",
            "Extracting  cards_dataset/labels/train/cam_image34.txt                   \b\b\b\b 99%\b\b\b\b\b  OK \n",
            "Extracting  cards_dataset/labels/train/cam_image35.txt                   \b\b\b\b 99%\b\b\b\b\b  OK \n",
            "Extracting  cards_dataset/labels/train/cam_image36.txt                   \b\b\b\b 99%\b\b\b\b\b  OK \n",
            "Extracting  cards_dataset/labels/train/cam_image37.txt                   \b\b\b\b 99%\b\b\b\b\b  OK \n",
            "Extracting  cards_dataset/labels/train/cam_image38.txt                   \b\b\b\b 99%\b\b\b\b\b  OK \n",
            "Extracting  cards_dataset/labels/train/cam_image39.txt                   \b\b\b\b 99%\b\b\b\b\b  OK \n",
            "Extracting  cards_dataset/labels/train/cam_image40.txt                   \b\b\b\b 99%\b\b\b\b\b  OK \n",
            "Extracting  cards_dataset/labels/train/cam_image41.txt                   \b\b\b\b 99%\b\b\b\b\b  OK \n",
            "Extracting  cards_dataset/labels/train/cam_image42.txt                   \b\b\b\b 99%\b\b\b\b\b  OK \n",
            "Extracting  cards_dataset/labels/train/cam_image43.txt                   \b\b\b\b 99%\b\b\b\b\b  OK \n",
            "Extracting  cards_dataset/labels/train/cam_image44.txt                   \b\b\b\b 99%\b\b\b\b\b  OK \n",
            "Extracting  cards_dataset/labels/train/cam_image46.txt                   \b\b\b\b 99%\b\b\b\b\b  OK \n",
            "Extracting  cards_dataset/labels/train/cam_image47.txt                   \b\b\b\b 99%\b\b\b\b\b  OK \n",
            "Extracting  cards_dataset/labels/train/cam_image48.txt                   \b\b\b\b 99%\b\b\b\b\b  OK \n",
            "Extracting  cards_dataset/labels/train/cam_image50.txt                   \b\b\b\b 99%\b\b\b\b\b  OK \n",
            "Extracting  cards_dataset/labels/train/cam_image51.txt                   \b\b\b\b 99%\b\b\b\b\b  OK \n",
            "Extracting  cards_dataset/labels/train/cam_image52.txt                   \b\b\b\b 99%\b\b\b\b\b  OK \n",
            "Extracting  cards_dataset/labels/train/cam_image54.txt                   \b\b\b\b 99%\b\b\b\b\b  OK \n",
            "Extracting  cards_dataset/labels/train/cam_image9.txt                    \b\b\b\b 99%\b\b\b\b\b  OK \n",
            "Extracting  cards_dataset/labels/train/IMG_2385.txt                      \b\b\b\b 99%\b\b\b\b\b  OK \n",
            "Extracting  cards_dataset/labels/train/IMG_2386.txt                      \b\b\b\b 99%\b\b\b\b\b  OK \n",
            "Extracting  cards_dataset/labels/train/IMG_2388.txt                      \b\b\b\b 99%\b\b\b\b\b  OK \n",
            "Extracting  cards_dataset/labels/train/IMG_2389.txt                      \b\b\b\b 99%\b\b\b\b\b  OK \n",
            "Extracting  cards_dataset/labels/train/IMG_2390.txt                      \b\b\b\b 99%\b\b\b\b\b  OK \n",
            "Extracting  cards_dataset/labels/train/IMG_2392.txt                      \b\b\b\b 99%\b\b\b\b\b  OK \n",
            "Extracting  cards_dataset/labels/train/IMG_2393.txt                      \b\b\b\b 99%\b\b\b\b\b  OK \n",
            "Extracting  cards_dataset/labels/train/IMG_2394.txt                      \b\b\b\b 99%\b\b\b\b\b  OK \n",
            "Extracting  cards_dataset/labels/train/IMG_2396.txt                      \b\b\b\b 99%\b\b\b\b\b  OK \n",
            "Extracting  cards_dataset/labels/train/IMG_2397.txt                      \b\b\b\b 99%\b\b\b\b\b  OK \n",
            "Extracting  cards_dataset/labels/train/IMG_2398.txt                      \b\b\b\b 99%\b\b\b\b\b  OK \n",
            "Extracting  cards_dataset/labels/train/IMG_2399.txt                      \b\b\b\b 99%\b\b\b\b\b  OK \n",
            "Extracting  cards_dataset/labels/train/IMG_2400.txt                      \b\b\b\b 99%\b\b\b\b\b  OK \n",
            "Extracting  cards_dataset/labels/train/IMG_2401.txt                      \b\b\b\b 99%\b\b\b\b\b  OK \n",
            "Extracting  cards_dataset/labels/train/IMG_2402.txt                      \b\b\b\b 99%\b\b\b\b\b  OK \n",
            "Extracting  cards_dataset/labels/train/IMG_2404.txt                      \b\b\b\b 99%\b\b\b\b\b  OK \n",
            "Extracting  cards_dataset/labels/train/IMG_2405.txt                      \b\b\b\b 99%\b\b\b\b\b  OK \n",
            "Extracting  cards_dataset/labels/train/IMG_2406.txt                      \b\b\b\b 99%\b\b\b\b\b  OK \n",
            "Extracting  cards_dataset/labels/train/IMG_2407.txt                      \b\b\b\b 99%\b\b\b\b\b  OK \n",
            "Extracting  cards_dataset/labels/train/IMG_2408.txt                      \b\b\b\b 99%\b\b\b\b\b  OK \n",
            "Extracting  cards_dataset/labels/train/IMG_2409.txt                      \b\b\b\b 99%\b\b\b\b\b  OK \n",
            "Extracting  cards_dataset/labels/train/IMG_2410.txt                      \b\b\b\b 99%\b\b\b\b\b  OK \n",
            "Extracting  cards_dataset/labels/train/IMG_2411.txt                      \b\b\b\b 99%\b\b\b\b\b  OK \n",
            "Extracting  cards_dataset/labels/train/IMG_2412.txt                      \b\b\b\b 99%\b\b\b\b\b  OK \n",
            "Extracting  cards_dataset/labels/train/IMG_2413.txt                      \b\b\b\b 99%\b\b\b\b\b  OK \n",
            "Extracting  cards_dataset/labels/train/IMG_2414.txt                      \b\b\b\b 99%\b\b\b\b\b  OK \n",
            "Extracting  cards_dataset/labels/train/IMG_2415.txt                      \b\b\b\b 99%\b\b\b\b\b  OK \n",
            "Extracting  cards_dataset/labels/train/IMG_2416.txt                      \b\b\b\b 99%\b\b\b\b\b  OK \n",
            "Extracting  cards_dataset/labels/train/IMG_2417.txt                      \b\b\b\b 99%\b\b\b\b\b  OK \n",
            "Extracting  cards_dataset/labels/train/IMG_2418.txt                      \b\b\b\b 99%\b\b\b\b\b  OK \n",
            "Extracting  cards_dataset/labels/train/IMG_2419.txt                      \b\b\b\b 99%\b\b\b\b\b  OK \n",
            "Extracting  cards_dataset/labels/train/IMG_2420.txt                      \b\b\b\b 99%\b\b\b\b\b  OK \n",
            "Extracting  cards_dataset/labels/train/IMG_2421.txt                      \b\b\b\b 99%\b\b\b\b\b  OK \n",
            "Extracting  cards_dataset/labels/train/IMG_2422.txt                      \b\b\b\b 99%\b\b\b\b\b  OK \n",
            "Extracting  cards_dataset/labels/train/IMG_2423.txt                      \b\b\b\b 99%\b\b\b\b\b  OK \n",
            "Extracting  cards_dataset/labels/train/IMG_2424.txt                      \b\b\b\b 99%\b\b\b\b\b  OK \n",
            "Extracting  cards_dataset/labels/train/IMG_2425.txt                      \b\b\b\b 99%\b\b\b\b\b  OK \n",
            "Extracting  cards_dataset/labels/train/IMG_2426.txt                      \b\b\b\b 99%\b\b\b\b\b  OK \n",
            "Extracting  cards_dataset/labels/train/IMG_2427.txt                      \b\b\b\b 99%\b\b\b\b\b  OK \n",
            "Extracting  cards_dataset/labels/train/IMG_2428.txt                      \b\b\b\b 99%\b\b\b\b\b  OK \n",
            "Extracting  cards_dataset/labels/train/IMG_2429.txt                      \b\b\b\b 99%\b\b\b\b\b  OK \n",
            "Extracting  cards_dataset/labels/train/IMG_2430.txt                      \b\b\b\b 99%\b\b\b\b\b  OK \n",
            "Extracting  cards_dataset/labels/train/IMG_2431.txt                      \b\b\b\b 99%\b\b\b\b\b  OK \n",
            "Extracting  cards_dataset/labels/train/IMG_2434.txt                      \b\b\b\b 99%\b\b\b\b\b  OK \n",
            "Extracting  cards_dataset/labels/train/IMG_2437.txt                      \b\b\b\b 99%\b\b\b\b\b  OK \n",
            "Extracting  cards_dataset/labels/train/IMG_2439.txt                      \b\b\b\b 99%\b\b\b\b\b  OK \n",
            "Extracting  cards_dataset/labels/train/IMG_2441.txt                      \b\b\b\b 99%\b\b\b\b\b  OK \n",
            "Extracting  cards_dataset/labels/train/IMG_2442.txt                      \b\b\b\b 99%\b\b\b\b\b  OK \n",
            "Extracting  cards_dataset/labels/train/IMG_2443.txt                      \b\b\b\b 99%\b\b\b\b\b  OK \n",
            "Extracting  cards_dataset/labels/train/IMG_2445.txt                      \b\b\b\b 99%\b\b\b\b\b  OK \n",
            "Extracting  cards_dataset/labels/train/IMG_2446.txt                      \b\b\b\b 99%\b\b\b\b\b  OK \n",
            "Extracting  cards_dataset/labels/train/IMG_2447.txt                      \b\b\b\b 99%\b\b\b\b\b  OK \n",
            "Extracting  cards_dataset/labels/train/IMG_2448.txt                      \b\b\b\b 99%\b\b\b\b\b  OK \n",
            "Extracting  cards_dataset/labels/train/IMG_2449.txt                      \b\b\b\b 99%\b\b\b\b\b  OK \n",
            "Extracting  cards_dataset/labels/train/IMG_2450.txt                      \b\b\b\b 99%\b\b\b\b\b  OK \n",
            "Extracting  cards_dataset/labels/train/IMG_2451.txt                      \b\b\b\b 99%\b\b\b\b\b  OK \n",
            "Extracting  cards_dataset/labels/train/IMG_2452.txt                      \b\b\b\b 99%\b\b\b\b\b  OK \n",
            "Extracting  cards_dataset/labels/train/IMG_2453.txt                      \b\b\b\b 99%\b\b\b\b\b  OK \n",
            "Extracting  cards_dataset/labels/train/IMG_2454.txt                      \b\b\b\b 99%\b\b\b\b\b  OK \n",
            "Extracting  cards_dataset/labels/train/IMG_2455.txt                      \b\b\b\b 99%\b\b\b\b\b  OK \n",
            "Extracting  cards_dataset/labels/train/IMG_2456.txt                      \b\b\b\b 99%\b\b\b\b\b  OK \n",
            "Extracting  cards_dataset/labels/train/IMG_2457.txt                      \b\b\b\b 99%\b\b\b\b\b  OK \n",
            "Extracting  cards_dataset/labels/train/IMG_2458.txt                      \b\b\b\b 99%\b\b\b\b\b  OK \n",
            "Extracting  cards_dataset/labels/train/IMG_2459.txt                      \b\b\b\b 99%\b\b\b\b\b  OK \n",
            "Extracting  cards_dataset/labels/train/IMG_2460.txt                      \b\b\b\b 99%\b\b\b\b\b  OK \n",
            "Extracting  cards_dataset/labels/train/IMG_2462.txt                      \b\b\b\b 99%\b\b\b\b\b  OK \n",
            "Extracting  cards_dataset/labels/train/IMG_2464.txt                      \b\b\b\b 99%\b\b\b\b\b  OK \n",
            "Extracting  cards_dataset/labels/train/IMG_2465.txt                      \b\b\b\b 99%\b\b\b\b\b  OK \n",
            "Extracting  cards_dataset/labels/train/IMG_2466.txt                      \b\b\b\b 99%\b\b\b\b\b  OK \n",
            "Extracting  cards_dataset/labels/train/IMG_2467.txt                      \b\b\b\b 99%\b\b\b\b\b  OK \n",
            "Extracting  cards_dataset/labels/train/IMG_2468.txt                      \b\b\b\b 99%\b\b\b\b\b  OK \n",
            "Extracting  cards_dataset/labels/train/IMG_2469.txt                      \b\b\b\b 99%\b\b\b\b\b  OK \n",
            "Extracting  cards_dataset/labels/train/IMG_2471.txt                      \b\b\b\b 99%\b\b\b\b\b  OK \n",
            "Extracting  cards_dataset/labels/train/IMG_2472.txt                      \b\b\b\b 99%\b\b\b\b\b  OK \n",
            "Extracting  cards_dataset/labels/train/IMG_2473.txt                      \b\b\b\b 99%\b\b\b\b\b  OK \n",
            "Extracting  cards_dataset/labels/train/IMG_2474.txt                      \b\b\b\b 99%\b\b\b\b\b  OK \n",
            "Extracting  cards_dataset/labels/train/IMG_2475.txt                      \b\b\b\b 99%\b\b\b\b\b  OK \n",
            "Extracting  cards_dataset/labels/train/IMG_2477.txt                      \b\b\b\b 99%\b\b\b\b\b  OK \n",
            "Extracting  cards_dataset/labels/train/IMG_2478.txt                      \b\b\b\b 99%\b\b\b\b\b  OK \n",
            "Extracting  cards_dataset/labels/train/IMG_2480.txt                      \b\b\b\b 99%\b\b\b\b\b  OK \n",
            "Extracting  cards_dataset/labels/train/IMG_2481.txt                      \b\b\b\b 99%\b\b\b\b\b  OK \n",
            "Extracting  cards_dataset/labels/train/IMG_2483.txt                      \b\b\b\b 99%\b\b\b\b\b  OK \n",
            "Extracting  cards_dataset/labels/train/IMG_2484.txt                      \b\b\b\b 99%\b\b\b\b\b  OK \n",
            "Extracting  cards_dataset/labels/train/IMG_2486.txt                      \b\b\b\b 99%\b\b\b\b\b  OK \n",
            "Extracting  cards_dataset/labels/train/IMG_2487.txt                      \b\b\b\b 99%\b\b\b\b\b  OK \n",
            "Extracting  cards_dataset/labels/train/IMG_2488.txt                      \b\b\b\b 99%\b\b\b\b\b  OK \n",
            "Extracting  cards_dataset/labels/train/IMG_2489.txt                      \b\b\b\b 99%\b\b\b\b\b  OK \n",
            "Extracting  cards_dataset/labels/train/IMG_2490.txt                      \b\b\b\b 99%\b\b\b\b\b  OK \n",
            "Extracting  cards_dataset/labels/train/IMG_2491.txt                      \b\b\b\b 99%\b\b\b\b\b  OK \n",
            "Extracting  cards_dataset/labels/train/IMG_2492.txt                      \b\b\b\b 99%\b\b\b\b\b  OK \n",
            "Extracting  cards_dataset/labels/train/IMG_2493.txt                      \b\b\b\b 99%\b\b\b\b\b  OK \n",
            "Extracting  cards_dataset/labels/train/IMG_2494.txt                      \b\b\b\b 99%\b\b\b\b\b  OK \n",
            "Extracting  cards_dataset/labels/train/IMG_2495.txt                      \b\b\b\b 99%\b\b\b\b\b  OK \n",
            "Extracting  cards_dataset/labels/train/IMG_2496.txt                      \b\b\b\b 99%\b\b\b\b\b  OK \n",
            "Extracting  cards_dataset/labels/train/IMG_2497.txt                      \b\b\b\b 99%\b\b\b\b\b  OK \n",
            "Extracting  cards_dataset/labels/train/IMG_2498.txt                      \b\b\b\b 99%\b\b\b\b\b  OK \n",
            "Extracting  cards_dataset/labels/train/IMG_2499.txt                      \b\b\b\b 99%\b\b\b\b\b  OK \n",
            "Extracting  cards_dataset/labels/train/IMG_2500.txt                      \b\b\b\b 99%\b\b\b\b\b  OK \n",
            "Extracting  cards_dataset/labels/train/IMG_2501.txt                      \b\b\b\b 99%\b\b\b\b\b  OK \n",
            "Extracting  cards_dataset/labels/train/IMG_2502.txt                      \b\b\b\b 99%\b\b\b\b\b  OK \n",
            "Extracting  cards_dataset/labels/train/IMG_2503.txt                      \b\b\b\b 99%\b\b\b\b\b  OK \n",
            "Extracting  cards_dataset/labels/train/IMG_2504.txt                      \b\b\b\b 99%\b\b\b\b\b  OK \n",
            "Extracting  cards_dataset/labels/train/IMG_2505.txt                      \b\b\b\b 99%\b\b\b\b\b  OK \n",
            "Extracting  cards_dataset/labels/train/IMG_2506.txt                      \b\b\b\b 99%\b\b\b\b\b  OK \n",
            "Extracting  cards_dataset/labels/train/IMG_2507.txt                      \b\b\b\b 99%\b\b\b\b\b  OK \n",
            "Extracting  cards_dataset/labels/train/IMG_2508.txt                      \b\b\b\b 99%\b\b\b\b\b  OK \n",
            "Extracting  cards_dataset/labels/train/IMG_2509.txt                      \b\b\b\b 99%\b\b\b\b\b  OK \n",
            "Extracting  cards_dataset/labels/train/IMG_2511.txt                      \b\b\b\b 99%\b\b\b\b\b  OK \n",
            "Extracting  cards_dataset/labels/train/IMG_2512.txt                      \b\b\b\b 99%\b\b\b\b\b  OK \n",
            "Extracting  cards_dataset/labels/train/IMG_2513.txt                      \b\b\b\b 99%\b\b\b\b\b  OK \n",
            "Extracting  cards_dataset/labels/train/IMG_2514.txt                      \b\b\b\b 99%\b\b\b\b\b  OK \n",
            "Extracting  cards_dataset/labels/train/IMG_2515.txt                      \b\b\b\b 99%\b\b\b\b\b  OK \n",
            "Extracting  cards_dataset/labels/train/IMG_2516.txt                      \b\b\b\b 99%\b\b\b\b\b  OK \n",
            "Extracting  cards_dataset/labels/train/IMG_2517.txt                      \b\b\b\b 99%\b\b\b\b\b  OK \n",
            "Extracting  cards_dataset/labels/train/IMG_2518.txt                      \b\b\b\b 99%\b\b\b\b\b  OK \n",
            "Extracting  cards_dataset/labels/train/IMG_2519.txt                      \b\b\b\b 99%\b\b\b\b\b  OK \n",
            "Extracting  cards_dataset/labels/train/IMG_2520.txt                      \b\b\b\b 99%\b\b\b\b\b  OK \n",
            "Extracting  cards_dataset/labels/train/IMG_2521.txt                      \b\b\b\b 99%\b\b\b\b\b  OK \n",
            "Extracting  cards_dataset/labels/train/IMG_2522.txt                      \b\b\b\b 99%\b\b\b\b\b  OK \n",
            "Extracting  cards_dataset/labels/train/IMG_2523.txt                      \b\b\b\b 99%\b\b\b\b\b  OK \n",
            "Extracting  cards_dataset/labels/train/IMG_2524.txt                      \b\b\b\b 99%\b\b\b\b\b  OK \n",
            "Extracting  cards_dataset/labels/train/IMG_2525.txt                      \b\b\b\b 99%\b\b\b\b\b  OK \n",
            "Extracting  cards_dataset/labels/train/IMG_2526.txt                      \b\b\b\b 99%\b\b\b\b\b  OK \n",
            "Extracting  cards_dataset/labels/train/IMG_2527.txt                      \b\b\b\b 99%\b\b\b\b\b  OK \n",
            "Extracting  cards_dataset/labels/train/IMG_2528.txt                      \b\b\b\b 99%\b\b\b\b\b  OK \n",
            "Extracting  cards_dataset/labels/train/IMG_2529.txt                      \b\b\b\b 99%\b\b\b\b\b  OK \n",
            "Extracting  cards_dataset/labels/train/IMG_2533.txt                      \b\b\b\b 99%\b\b\b\b\b  OK \n",
            "Extracting  cards_dataset/labels/train/IMG_2535.txt                      \b\b\b\b 99%\b\b\b\b\b  OK \n",
            "Extracting  cards_dataset/labels/train/IMG_2536.txt                      \b\b\b\b 99%\b\b\b\b\b  OK \n",
            "Extracting  cards_dataset/labels/train/IMG_2537.txt                      \b\b\b\b 99%\b\b\b\b\b  OK \n",
            "Extracting  cards_dataset/labels/train/IMG_2538.txt                      \b\b\b\b 99%\b\b\b\b\b  OK \n",
            "Extracting  cards_dataset/labels/train/IMG_2542.txt                      \b\b\b\b 99%\b\b\b\b\b  OK \n",
            "Extracting  cards_dataset/labels/train/IMG_2543.txt                      \b\b\b\b 99%\b\b\b\b\b  OK \n",
            "Extracting  cards_dataset/labels/train/IMG_2545.txt                      \b\b\b\b 99%\b\b\b\b\b  OK \n",
            "Extracting  cards_dataset/labels/train/IMG_2546.txt                      \b\b\b\b 99%\b\b\b\b\b  OK \n",
            "Extracting  cards_dataset/labels/train/IMG_2548.txt                      \b\b\b\b 99%\b\b\b\b\b  OK \n",
            "Extracting  cards_dataset/labels/train/IMG_2549.txt                      \b\b\b\b 99%\b\b\b\b\b  OK \n",
            "Extracting  cards_dataset/labels/train/IMG_2552.txt                      \b\b\b\b 99%\b\b\b\b\b  OK \n",
            "Extracting  cards_dataset/labels/train/IMG_2553.txt                      \b\b\b\b 99%\b\b\b\b\b  OK \n",
            "Extracting  cards_dataset/labels/train/IMG_2556.txt                      \b\b\b\b 99%\b\b\b\b\b  OK \n",
            "Extracting  cards_dataset/labels/train/IMG_2558.txt                      \b\b\b\b 99%\b\b\b\b\b  OK \n",
            "Extracting  cards_dataset/labels/train/IMG_2559.txt                      \b\b\b\b 99%\b\b\b\b\b  OK \n",
            "Extracting  cards_dataset/labels/train/IMG_2562.txt                      \b\b\b\b 99%\b\b\b\b\b  OK \n",
            "Extracting  cards_dataset/labels/train/IMG_2563.txt                      \b\b\b\b 99%\b\b\b\b\b  OK \n",
            "Extracting  cards_dataset/labels/train/IMG_2565.txt                      \b\b\b\b 99%\b\b\b\b\b  OK \n",
            "Extracting  cards_dataset/labels/train/IMG_2566.txt                      \b\b\b\b 99%\b\b\b\b\b  OK \n",
            "Extracting  cards_dataset/labels/train/IMG_2567.txt                      \b\b\b\b 99%\b\b\b\b\b  OK \n",
            "Extracting  cards_dataset/labels/train/IMG_2569.txt                      \b\b\b\b 99%\b\b\b\b\b  OK \n",
            "Extracting  cards_dataset/labels/train/IMG_2570.txt                      \b\b\b\b 99%\b\b\b\b\b  OK \n",
            "Extracting  cards_dataset/labels/train/IMG_2572.txt                      \b\b\b\b 99%\b\b\b\b\b  OK \n",
            "Extracting  cards_dataset/labels/train/IMG_2574.txt                      \b\b\b\b 99%\b\b\b\b\b  OK \n",
            "Extracting  cards_dataset/labels/train/IMG_2576.txt                      \b\b\b\b 99%\b\b\b\b\b  OK \n",
            "Extracting  cards_dataset/labels/train/IMG_2577.txt                      \b\b\b\b 99%\b\b\b\b\b  OK \n",
            "Extracting  cards_dataset/labels/train/IMG_2578.txt                      \b\b\b\b 99%\b\b\b\b\b  OK \n",
            "Extracting  cards_dataset/labels/train/IMG_2579.txt                      \b\b\b\b 99%\b\b\b\b\b  OK \n",
            "Extracting  cards_dataset/labels/train/IMG_2581.txt                      \b\b\b\b 99%\b\b\b\b\b  OK \n",
            "Extracting  cards_dataset/labels/train/IMG_2582.txt                      \b\b\b\b 99%\b\b\b\b\b  OK \n",
            "Extracting  cards_dataset/labels/train/IMG_2584.txt                      \b\b\b\b 99%\b\b\b\b\b  OK \n",
            "Extracting  cards_dataset/labels/train/IMG_2586.txt                      \b\b\b\b 99%\b\b\b\b\b  OK \n",
            "Extracting  cards_dataset/labels/train/IMG_2587.txt                      \b\b\b\b 99%\b\b\b\b\b  OK \n",
            "Extracting  cards_dataset/labels/train/IMG_2588.txt                      \b\b\b\b 99%\b\b\b\b\b  OK \n",
            "Extracting  cards_dataset/labels/train/IMG_2589.txt                      \b\b\b\b 99%\b\b\b\b\b  OK \n",
            "Extracting  cards_dataset/labels/train/IMG_2590.txt                      \b\b\b\b 99%\b\b\b\b\b  OK \n",
            "Extracting  cards_dataset/labels/train/IMG_2593.txt                      \b\b\b\b 99%\b\b\b\b\b  OK \n",
            "Extracting  cards_dataset/labels/train/IMG_2596.txt                      \b\b\b\b 99%\b\b\b\b\b  OK \n",
            "Extracting  cards_dataset/labels/train/IMG_2597.txt                      \b\b\b\b 99%\b\b\b\b\b  OK \n",
            "Extracting  cards_dataset/labels/train/IMG_2599.txt                      \b\b\b\b 99%\b\b\b\b\b  OK \n",
            "Extracting  cards_dataset/labels/train/IMG_2601.txt                      \b\b\b\b 99%\b\b\b\b\b  OK \n",
            "Extracting  cards_dataset/labels/train/IMG_2602.txt                      \b\b\b\b 99%\b\b\b\b\b  OK \n",
            "Extracting  cards_dataset/labels/train/IMG_2603.txt                      \b\b\b\b 99%\b\b\b\b\b  OK \n",
            "Extracting  cards_dataset/labels/train/IMG_2605.txt                      \b\b\b\b 99%\b\b\b\b\b  OK \n",
            "Extracting  cards_dataset/labels/train/IMG_2607.txt                      \b\b\b\b 99%\b\b\b\b\b  OK \n",
            "Extracting  cards_dataset/labels/train/IMG_2608.txt                      \b\b\b\b 99%\b\b\b\b\b  OK \n",
            "Extracting  cards_dataset/labels/train/IMG_2609.txt                      \b\b\b\b 99%\b\b\b\b\b  OK \n",
            "Extracting  cards_dataset/labels/train/IMG_2610.txt                      \b\b\b\b 99%\b\b\b\b\b  OK \n",
            "Extracting  cards_dataset/labels/train/IMG_2611.txt                      \b\b\b\b 99%\b\b\b\b\b  OK \n",
            "Extracting  cards_dataset/labels/train/IMG_2612.txt                      \b\b\b\b 99%\b\b\b\b\b  OK \n",
            "Extracting  cards_dataset/labels/train/IMG_2613.txt                      \b\b\b\b 99%\b\b\b\b\b  OK \n",
            "Extracting  cards_dataset/labels/train/IMG_2614.txt                      \b\b\b\b 99%\b\b\b\b\b  OK \n",
            "Extracting  cards_dataset/labels/train/IMG_2615.txt                      \b\b\b\b 99%\b\b\b\b\b  OK \n",
            "Extracting  cards_dataset/labels/train/IMG_2616.txt                      \b\b\b\b 99%\b\b\b\b\b  OK \n",
            "Extracting  cards_dataset/labels/train/IMG_2617.txt                      \b\b\b\b 99%\b\b\b\b\b  OK \n",
            "Extracting  cards_dataset/labels/train/IMG_2618.txt                      \b\b\b\b 99%\b\b\b\b\b  OK \n",
            "Extracting  cards_dataset/labels/train/IMG_2619.txt                      \b\b\b\b 99%\b\b\b\b\b  OK \n",
            "Extracting  cards_dataset/labels/train/IMG_2620.txt                      \b\b\b\b 99%\b\b\b\b\b  OK \n",
            "Extracting  cards_dataset/labels/train/IMG_2621.txt                      \b\b\b\b 99%\b\b\b\b\b  OK \n",
            "Extracting  cards_dataset/labels/train/IMG_2622.txt                      \b\b\b\b 99%\b\b\b\b\b  OK \n",
            "Extracting  cards_dataset/labels/train/IMG_2623.txt                      \b\b\b\b 99%\b\b\b\b\b  OK \n",
            "Extracting  cards_dataset/labels/train/IMG_2624.txt                      \b\b\b\b 99%\b\b\b\b\b  OK \n",
            "Extracting  cards_dataset/labels/train/IMG_2626.txt                      \b\b\b\b 99%\b\b\b\b\b  OK \n",
            "Extracting  cards_dataset/labels/train/IMG_2627.txt                      \b\b\b\b 99%\b\b\b\b\b  OK \n",
            "Extracting  cards_dataset/labels/train/IMG_2628.txt                      \b\b\b\b 99%\b\b\b\b\b  OK \n",
            "Extracting  cards_dataset/labels/train/IMG_2629.txt                      \b\b\b\b 99%\b\b\b\b\b  OK \n",
            "Extracting  cards_dataset/labels/train/IMG_2630.txt                      \b\b\b\b 99%\b\b\b\b\b  OK \n",
            "Extracting  cards_dataset/labels/train/IMG_2631.txt                      \b\b\b\b 99%\b\b\b\b\b  OK \n",
            "Extracting  cards_dataset/labels/train/IMG_2632.txt                      \b\b\b\b 99%\b\b\b\b\b  OK \n",
            "Extracting  cards_dataset/labels/train/IMG_2633.txt                      \b\b\b\b 99%\b\b\b\b\b  OK \n",
            "Extracting  cards_dataset/labels/train/IMG_2635.txt                      \b\b\b\b 99%\b\b\b\b\b  OK \n",
            "Extracting  cards_dataset/labels/train/IMG_2637.txt                      \b\b\b\b 99%\b\b\b\b\b  OK \n",
            "Extracting  cards_dataset/labels/train/IMG_2638.txt                      \b\b\b\b 99%\b\b\b\b\b  OK \n",
            "Extracting  cards_dataset/labels/train/IMG_2641.txt                      \b\b\b\b 99%\b\b\b\b\b  OK \n",
            "Extracting  cards_dataset/labels/train/IMG_2642.txt                      \b\b\b\b 99%\b\b\b\b\b  OK \n",
            "Extracting  cards_dataset/labels/train/IMG_2643.txt                      \b\b\b\b 99%\b\b\b\b\b  OK \n",
            "Extracting  cards_dataset/labels/train/IMG_2644.txt                      \b\b\b\b 99%\b\b\b\b\b  OK \n",
            "Extracting  cards_dataset/labels/train/IMG_2645.txt                      \b\b\b\b 99%\b\b\b\b\b  OK \n",
            "Extracting  cards_dataset/labels/train/IMG_2648.txt                      \b\b\b\b 99%\b\b\b\b\b  OK \n",
            "Extracting  cards_dataset/labels/train/IMG_2649.txt                      \b\b\b\b 99%\b\b\b\b\b  OK \n",
            "Extracting  cards_dataset/labels/train/IMG_2650.txt                      \b\b\b\b 99%\b\b\b\b\b  OK \n",
            "Extracting  cards_dataset/labels/train/IMG_2652.txt                      \b\b\b\b 99%\b\b\b\b\b  OK \n",
            "Extracting  cards_dataset/labels/train/IMG_2653.txt                      \b\b\b\b 99%\b\b\b\b\b  OK \n",
            "Extracting  cards_dataset/labels/train/IMG_2655.txt                      \b\b\b\b 99%\b\b\b\b\b  OK \n",
            "Extracting  cards_dataset/labels/train/IMG_2657.txt                      \b\b\b\b 99%\b\b\b\b\b  OK \n",
            "Extracting  cards_dataset/labels/train/IMG_2658.txt                      \b\b\b\b 99%\b\b\b\b\b  OK \n",
            "Extracting  cards_dataset/labels/train/IMG_2659.txt                      \b\b\b\b 99%\b\b\b\b\b  OK \n",
            "Extracting  cards_dataset/labels/train/IMG_2660.txt                      \b\b\b\b 99%\b\b\b\b\b  OK \n",
            "Extracting  cards_dataset/labels/train/IMG_2661.txt                      \b\b\b\b 99%\b\b\b\b\b  OK \n",
            "Extracting  cards_dataset/labels/train/IMG_2663.txt                      \b\b\b\b 99%\b\b\b\b\b  OK \n",
            "Extracting  cards_dataset/labels/train/IMG_2664.txt                      \b\b\b\b 99%\b\b\b\b\b  OK \n",
            "Extracting  cards_dataset/labels/train/IMG_2665.txt                      \b\b\b\b 99%\b\b\b\b\b  OK \n",
            "Extracting  cards_dataset/labels/train/IMG_2666.txt                      \b\b\b\b 99%\b\b\b\b\b  OK \n",
            "Extracting  cards_dataset/labels/train/IMG_2667.txt                      \b\b\b\b 99%\b\b\b\b\b  OK \n",
            "Extracting  cards_dataset/labels/train/IMG_2668.txt                      \b\b\b\b 99%\b\b\b\b\b  OK \n",
            "Extracting  cards_dataset/labels/train/IMG_2669.txt                      \b\b\b\b 99%\b\b\b\b\b  OK \n",
            "Extracting  cards_dataset/labels/train/IMG_2671.txt                      \b\b\b\b 99%\b\b\b\b\b  OK \n",
            "Extracting  cards_dataset/labels/train/IMG_2672.txt                      \b\b\b\b 99%\b\b\b\b\b  OK \n",
            "Extracting  cards_dataset/labels/train/IMG_2673.txt                      \b\b\b\b 99%\b\b\b\b\b  OK \n",
            "Extracting  cards_dataset/labels/train/IMG_2674.txt                      \b\b\b\b 99%\b\b\b\b\b  OK \n",
            "Extracting  cards_dataset/labels/train/IMG_2679.txt                      \b\b\b\b 99%\b\b\b\b\b  OK \n",
            "Extracting  cards_dataset/labels/train/IMG_2680.txt                      \b\b\b\b 99%\b\b\b\b\b  OK \n",
            "Extracting  cards_dataset/labels/train/IMG_2681.txt                      \b\b\b\b 99%\b\b\b\b\b  OK \n",
            "Extracting  cards_dataset/labels/train/IMG_2682.txt                      \b\b\b\b 99%\b\b\b\b\b  OK \n",
            "Extracting  cards_dataset/labels/train/IMG_2683.txt                      \b\b\b\b 99%\b\b\b\b\b  OK \n",
            "Extracting  cards_dataset/labels/train/IMG_2684.txt                      \b\b\b\b 99%\b\b\b\b\b  OK \n",
            "Extracting  cards_dataset/labels/train/IMG_2685.txt                      \b\b\b\b 99%\b\b\b\b\b  OK \n",
            "Extracting  cards_dataset/labels/train/IMG_2687.txt                      \b\b\b\b 99%\b\b\b\b\b  OK \n",
            "Extracting  cards_dataset/labels/train/IMG_2689.txt                      \b\b\b\b 99%\b\b\b\b\b  OK \n",
            "Extracting  cards_dataset/labels/train/IMG_2690.txt                      \b\b\b\b 99%\b\b\b\b\b  OK \n",
            "Extracting  cards_dataset/labels/train/IMG_2691.txt                      \b\b\b\b 99%\b\b\b\b\b  OK \n",
            "Extracting  cards_dataset/labels/train/IMG_2692.txt                      \b\b\b\b 99%\b\b\b\b\b  OK \n",
            "Extracting  cards_dataset/labels/train/IMG_2693.txt                      \b\b\b\b 99%\b\b\b\b\b  OK \n",
            "Extracting  cards_dataset/labels/train/IMG_2694.txt                      \b\b\b\b 99%\b\b\b\b\b  OK \n",
            "Extracting  cards_dataset/labels/train/IMG_2695.txt                      \b\b\b\b 99%\b\b\b\b\b  OK \n",
            "Extracting  cards_dataset/labels/train/IMG_2696.txt                      \b\b\b\b 99%\b\b\b\b\b  OK \n",
            "Extracting  cards_dataset/labels/train/IMG_2697.txt                      \b\b\b\b 99%\b\b\b\b\b  OK \n",
            "Extracting  cards_dataset/labels/train/IMG_2698.txt                      \b\b\b\b 99%\b\b\b\b\b  OK \n",
            "Extracting  cards_dataset/labels/train/IMG_2699.txt                      \b\b\b\b 99%\b\b\b\b\b  OK \n",
            "Extracting  cards_dataset/labels/train/IMG_2700.txt                      \b\b\b\b 99%\b\b\b\b\b  OK \n",
            "Extracting  cards_dataset/labels/train/IMG_2701.txt                      \b\b\b\b 99%\b\b\b\b\b  OK \n",
            "Extracting  cards_dataset/labels/train/IMG_2702.txt                      \b\b\b\b 99%\b\b\b\b\b  OK \n",
            "Extracting  cards_dataset/labels/train/IMG_2703.txt                      \b\b\b\b 99%\b\b\b\b\b  OK \n",
            "Extracting  cards_dataset/labels/train/IMG_2704.txt                      \b\b\b\b 99%\b\b\b\b\b  OK \n",
            "Creating    cards_dataset/labels/val                                  OK\n",
            "Extracting  cards_dataset/labels/val/cam_image2.txt                      \b\b\b\b 99%\b\b\b\b\b  OK \n",
            "Extracting  cards_dataset/labels/val/cam_image4.txt                      \b\b\b\b 99%\b\b\b\b\b  OK \n",
            "Extracting  cards_dataset/labels/val/cam_image45.txt                     \b\b\b\b 99%\b\b\b\b\b  OK \n",
            "Extracting  cards_dataset/labels/val/cam_image5.txt                      \b\b\b\b 99%\b\b\b\b\b  OK \n",
            "Extracting  cards_dataset/labels/val/cam_image6.txt                      \b\b\b\b 99%\b\b\b\b\b  OK \n",
            "Extracting  cards_dataset/labels/val/cam_image7.txt                      \b\b\b\b 99%\b\b\b\b\b  OK \n",
            "Extracting  cards_dataset/labels/val/cam_image8.txt                      \b\b\b\b 99%\b\b\b\b\b  OK \n",
            "Extracting  cards_dataset/labels/val/IMG_2383.txt                        \b\b\b\b 99%\b\b\b\b\b  OK \n",
            "Extracting  cards_dataset/labels/val/IMG_2384.txt                        \b\b\b\b 99%\b\b\b\b\b  OK \n",
            "Extracting  cards_dataset/labels/val/IMG_2387.txt                        \b\b\b\b 99%\b\b\b\b\b  OK \n",
            "Extracting  cards_dataset/labels/val/IMG_2391.txt                        \b\b\b\b 99%\b\b\b\b\b  OK \n",
            "Extracting  cards_dataset/labels/val/IMG_2395.txt                        \b\b\b\b 99%\b\b\b\b\b  OK \n",
            "Extracting  cards_dataset/labels/val/IMG_2403.txt                        \b\b\b\b 99%\b\b\b\b\b  OK \n",
            "Extracting  cards_dataset/labels/val/IMG_2432.txt                        \b\b\b\b 99%\b\b\b\b\b  OK \n",
            "Extracting  cards_dataset/labels/val/IMG_2433.txt                        \b\b\b\b 99%\b\b\b\b\b  OK \n",
            "Extracting  cards_dataset/labels/val/IMG_2435.txt                        \b\b\b\b 99%\b\b\b\b\b  OK \n",
            "Extracting  cards_dataset/labels/val/IMG_2436.txt                        \b\b\b\b 99%\b\b\b\b\b  OK \n",
            "Extracting  cards_dataset/labels/val/IMG_2440.txt                        \b\b\b\b 99%\b\b\b\b\b  OK \n",
            "Extracting  cards_dataset/labels/val/IMG_2461.txt                        \b\b\b\b 99%\b\b\b\b\b  OK \n",
            "Extracting  cards_dataset/labels/val/IMG_2463.txt                        \b\b\b\b 99%\b\b\b\b\b  OK \n",
            "Extracting  cards_dataset/labels/val/IMG_2470.txt                        \b\b\b\b 99%\b\b\b\b\b  OK \n",
            "Extracting  cards_dataset/labels/val/IMG_2476.txt                        \b\b\b\b 99%\b\b\b\b\b  OK \n",
            "Extracting  cards_dataset/labels/val/IMG_2479.txt                        \b\b\b\b 99%\b\b\b\b\b  OK \n",
            "Extracting  cards_dataset/labels/val/IMG_2482.txt                        \b\b\b\b 99%\b\b\b\b\b  OK \n",
            "Extracting  cards_dataset/labels/val/IMG_2485.txt                        \b\b\b\b 99%\b\b\b\b\b  OK \n",
            "Extracting  cards_dataset/labels/val/IMG_2510.txt                        \b\b\b\b 99%\b\b\b\b\b  OK \n",
            "Extracting  cards_dataset/labels/val/IMG_2530.txt                        \b\b\b\b 99%\b\b\b\b\b  OK \n",
            "Extracting  cards_dataset/labels/val/IMG_2531.txt                        \b\b\b\b 99%\b\b\b\b\b  OK \n",
            "Extracting  cards_dataset/labels/val/IMG_2532.txt                        \b\b\b\b 99%\b\b\b\b\b  OK \n",
            "Extracting  cards_dataset/labels/val/IMG_2539.txt                        \b\b\b\b 99%\b\b\b\b\b  OK \n",
            "Extracting  cards_dataset/labels/val/IMG_2540.txt                        \b\b\b\b 99%\b\b\b\b\b  OK \n",
            "Extracting  cards_dataset/labels/val/IMG_2544.txt                        \b\b\b\b 99%\b\b\b\b\b  OK \n",
            "Extracting  cards_dataset/labels/val/IMG_2550.txt                        \b\b\b\b 99%\b\b\b\b\b  OK \n",
            "Extracting  cards_dataset/labels/val/IMG_2551.txt                        \b\b\b\b 99%\b\b\b\b\b  OK \n",
            "Extracting  cards_dataset/labels/val/IMG_2554.txt                        \b\b\b\b 99%\b\b\b\b\b  OK \n",
            "Extracting  cards_dataset/labels/val/IMG_2555.txt                        \b\b\b\b 99%\b\b\b\b\b  OK \n",
            "Extracting  cards_dataset/labels/val/IMG_2557.txt                        \b\b\b\b 99%\b\b\b\b\b  OK \n",
            "Extracting  cards_dataset/labels/val/IMG_2560.txt                        \b\b\b\b 99%\b\b\b\b\b  OK \n",
            "Extracting  cards_dataset/labels/val/IMG_2561.txt                        \b\b\b\b 99%\b\b\b\b\b  OK \n",
            "Extracting  cards_dataset/labels/val/IMG_2564.txt                        \b\b\b\b 99%\b\b\b\b\b  OK \n",
            "Extracting  cards_dataset/labels/val/IMG_2568.txt                        \b\b\b\b 99%\b\b\b\b\b  OK \n",
            "Extracting  cards_dataset/labels/val/IMG_2571.txt                        \b\b\b\b 99%\b\b\b\b\b  OK \n",
            "Extracting  cards_dataset/labels/val/IMG_2573.txt                        \b\b\b\b 99%\b\b\b\b\b  OK \n",
            "Extracting  cards_dataset/labels/val/IMG_2580.txt                        \b\b\b\b 99%\b\b\b\b\b  OK \n",
            "Extracting  cards_dataset/labels/val/IMG_2583.txt                        \b\b\b\b 99%\b\b\b\b\b  OK \n",
            "Extracting  cards_dataset/labels/val/IMG_2585.txt                        \b\b\b\b 99%\b\b\b\b\b  OK \n",
            "Extracting  cards_dataset/labels/val/IMG_2591.txt                        \b\b\b\b 99%\b\b\b\b\b  OK \n",
            "Extracting  cards_dataset/labels/val/IMG_2592.txt                        \b\b\b\b 99%\b\b\b\b\b  OK \n",
            "Extracting  cards_dataset/labels/val/IMG_2594.txt                        \b\b\b\b 99%\b\b\b\b\b  OK \n",
            "Extracting  cards_dataset/labels/val/IMG_2595.txt                        \b\b\b\b 99%\b\b\b\b\b  OK \n",
            "Extracting  cards_dataset/labels/val/IMG_2598.txt                        \b\b\b\b 99%\b\b\b\b\b  OK \n",
            "Extracting  cards_dataset/labels/val/IMG_2600.txt                        \b\b\b\b 99%\b\b\b\b\b  OK \n",
            "Extracting  cards_dataset/labels/val/IMG_2604.txt                        \b\b\b\b 99%\b\b\b\b\b  OK \n",
            "Extracting  cards_dataset/labels/val/IMG_2634.txt                        \b\b\b\b 99%\b\b\b\b\b  OK \n",
            "Extracting  cards_dataset/labels/val/IMG_2636.txt                        \b\b\b\b 99%\b\b\b\b\b  OK \n",
            "Extracting  cards_dataset/labels/val/IMG_2639.txt                        \b\b\b\b 99%\b\b\b\b\b  OK \n",
            "Extracting  cards_dataset/labels/val/IMG_2640.txt                        \b\b\b\b 99%\b\b\b\b\b  OK \n",
            "Extracting  cards_dataset/labels/val/IMG_2647.txt                        \b\b\b\b 99%\b\b\b\b\b  OK \n",
            "Extracting  cards_dataset/labels/val/IMG_2651.txt                        \b\b\b\b 99%\b\b\b\b\b  OK \n",
            "Extracting  cards_dataset/labels/val/IMG_2654.txt                        \b\b\b\b 99%\b\b\b\b\b  OK \n",
            "Extracting  cards_dataset/labels/val/IMG_2656.txt                        \b\b\b\b 99%\b\b\b\b\b  OK \n",
            "Extracting  cards_dataset/labels/val/IMG_2662.txt                        \b\b\b\b 99%\b\b\b\b\b  OK \n",
            "Extracting  cards_dataset/labels/val/IMG_2670.txt                        \b\b\b\b 99%\b\b\b\b\b  OK \n",
            "Extracting  cards_dataset/labels/val/IMG_2675.txt                        \b\b\b\b 99%\b\b\b\b\b  OK \n",
            "Extracting  cards_dataset/labels/val/IMG_2677.txt                        \b\b\b\b 99%\b\b\b\b\b  OK \n",
            "Extracting  cards_dataset/labels/val/IMG_2678.txt                        \b\b\b\b 99%\b\b\b\b\b  OK \n",
            "Extracting  cards_dataset/labels/val/IMG_2686.txt                        \b\b\b\b 99%\b\b\b\b\b  OK \n",
            "All OK\n"
          ]
        }
      ],
      "source": [
        "!unrar x cards_dataset.rar"
      ]
    },
    {
      "cell_type": "code",
      "execution_count": 1,
      "metadata": {},
      "outputs": [],
      "source": [
        "from ultralytics import YOLO"
      ]
    },
    {
      "cell_type": "markdown",
      "metadata": {
        "id": "05_4rhyg3Zbv"
      },
      "source": [
        "### Train\n"
      ]
    },
    {
      "cell_type": "code",
      "execution_count": 6,
      "metadata": {
        "colab": {
          "base_uri": "https://localhost:8080/"
        },
        "id": "vIv4UjrBoRyS",
        "outputId": "90df9f1c-e9e8-4e28-eb46-32be023b083f"
      },
      "outputs": [
        {
          "name": "stdout",
          "output_type": "stream",
          "text": [
            "Ultralytics YOLOv8.2.45 🚀 Python-3.10.12 torch-2.3.0+cu121 CUDA:0 (Tesla T4, 15102MiB)\n",
            "\u001b[34m\u001b[1mengine/trainer: \u001b[0mtask=detect, mode=train, model=yolov8n.pt, data=cards_dataset/data.yaml, epochs=100, time=None, patience=100, batch=16, imgsz=640, save=True, save_period=-1, cache=False, device=None, workers=8, project=None, name=train2, exist_ok=False, pretrained=True, optimizer=auto, verbose=True, seed=0, deterministic=True, single_cls=False, rect=False, cos_lr=False, close_mosaic=10, resume=False, amp=True, fraction=1.0, profile=False, freeze=None, multi_scale=False, overlap_mask=True, mask_ratio=4, dropout=0.0, val=True, split=val, save_json=False, save_hybrid=False, conf=None, iou=0.7, max_det=300, half=False, dnn=False, plots=True, source=None, vid_stride=1, stream_buffer=False, visualize=False, augment=False, agnostic_nms=False, classes=None, retina_masks=False, embed=None, show=False, save_frames=False, save_txt=False, save_conf=False, save_crop=False, show_labels=True, show_conf=True, show_boxes=True, line_width=None, format=torchscript, keras=False, optimize=False, int8=False, dynamic=False, simplify=False, opset=None, workspace=4, nms=False, lr0=0.01, lrf=0.01, momentum=0.937, weight_decay=0.0005, warmup_epochs=3.0, warmup_momentum=0.8, warmup_bias_lr=0.1, box=7.5, cls=0.5, dfl=1.5, pose=12.0, kobj=1.0, label_smoothing=0.0, nbs=64, hsv_h=0.015, hsv_s=0.7, hsv_v=0.4, degrees=0.0, translate=0.1, scale=0.5, shear=0.0, perspective=0.0, flipud=0.0, fliplr=0.5, bgr=0.0, mosaic=1.0, mixup=0.0, copy_paste=0.0, auto_augment=randaugment, erasing=0.4, crop_fraction=1.0, cfg=None, tracker=botsort.yaml, save_dir=runs/detect/train2\n",
            "Overriding model.yaml nc=80 with nc=6\n",
            "\n",
            "                   from  n    params  module                                       arguments                     \n",
            "  0                  -1  1       464  ultralytics.nn.modules.conv.Conv             [3, 16, 3, 2]                 \n",
            "  1                  -1  1      4672  ultralytics.nn.modules.conv.Conv             [16, 32, 3, 2]                \n",
            "  2                  -1  1      7360  ultralytics.nn.modules.block.C2f             [32, 32, 1, True]             \n",
            "  3                  -1  1     18560  ultralytics.nn.modules.conv.Conv             [32, 64, 3, 2]                \n",
            "  4                  -1  2     49664  ultralytics.nn.modules.block.C2f             [64, 64, 2, True]             \n",
            "  5                  -1  1     73984  ultralytics.nn.modules.conv.Conv             [64, 128, 3, 2]               \n",
            "  6                  -1  2    197632  ultralytics.nn.modules.block.C2f             [128, 128, 2, True]           \n",
            "  7                  -1  1    295424  ultralytics.nn.modules.conv.Conv             [128, 256, 3, 2]              \n",
            "  8                  -1  1    460288  ultralytics.nn.modules.block.C2f             [256, 256, 1, True]           \n",
            "  9                  -1  1    164608  ultralytics.nn.modules.block.SPPF            [256, 256, 5]                 \n",
            " 10                  -1  1         0  torch.nn.modules.upsampling.Upsample         [None, 2, 'nearest']          \n",
            " 11             [-1, 6]  1         0  ultralytics.nn.modules.conv.Concat           [1]                           \n",
            " 12                  -1  1    148224  ultralytics.nn.modules.block.C2f             [384, 128, 1]                 \n",
            " 13                  -1  1         0  torch.nn.modules.upsampling.Upsample         [None, 2, 'nearest']          \n",
            " 14             [-1, 4]  1         0  ultralytics.nn.modules.conv.Concat           [1]                           \n",
            " 15                  -1  1     37248  ultralytics.nn.modules.block.C2f             [192, 64, 1]                  \n",
            " 16                  -1  1     36992  ultralytics.nn.modules.conv.Conv             [64, 64, 3, 2]                \n",
            " 17            [-1, 12]  1         0  ultralytics.nn.modules.conv.Concat           [1]                           \n",
            " 18                  -1  1    123648  ultralytics.nn.modules.block.C2f             [192, 128, 1]                 \n",
            " 19                  -1  1    147712  ultralytics.nn.modules.conv.Conv             [128, 128, 3, 2]              \n",
            " 20             [-1, 9]  1         0  ultralytics.nn.modules.conv.Concat           [1]                           \n",
            " 21                  -1  1    493056  ultralytics.nn.modules.block.C2f             [384, 256, 1]                 \n",
            " 22        [15, 18, 21]  1    752482  ultralytics.nn.modules.head.Detect           [6, [64, 128, 256]]           \n",
            "Model summary: 225 layers, 3012018 parameters, 3012002 gradients, 8.2 GFLOPs\n",
            "\n",
            "Transferred 319/355 items from pretrained weights\n",
            "\u001b[34m\u001b[1mTensorBoard: \u001b[0mStart with 'tensorboard --logdir runs/detect/train2', view at http://localhost:6006/\n",
            "Freezing layer 'model.22.dfl.conv.weight'\n",
            "\u001b[34m\u001b[1mAMP: \u001b[0mrunning Automatic Mixed Precision (AMP) checks with YOLOv8n...\n",
            "\u001b[34m\u001b[1mAMP: \u001b[0mchecks passed ✅\n"
          ]
        },
        {
          "name": "stderr",
          "output_type": "stream",
          "text": [
            "\u001b[34m\u001b[1mtrain: \u001b[0mScanning /content/cards_dataset/labels/train.cache... 296 images, 0 backgrounds, 0 corrupt: 100%|██████████| 296/296 [00:00<?, ?it/s]"
          ]
        },
        {
          "name": "stdout",
          "output_type": "stream",
          "text": [
            "\u001b[34m\u001b[1malbumentations: \u001b[0mBlur(p=0.01, blur_limit=(3, 7)), MedianBlur(p=0.01, blur_limit=(3, 7)), ToGray(p=0.01), CLAHE(p=0.01, clip_limit=(1, 4.0), tile_grid_size=(8, 8))\n"
          ]
        },
        {
          "name": "stderr",
          "output_type": "stream",
          "text": [
            "\n",
            "/usr/lib/python3.10/multiprocessing/popen_fork.py:66: RuntimeWarning: os.fork() was called. os.fork() is incompatible with multithreaded code, and JAX is multithreaded, so this will likely lead to a deadlock.\n",
            "  self.pid = os.fork()\n",
            "\u001b[34m\u001b[1mval: \u001b[0mScanning /content/cards_dataset/labels/val.cache... 67 images, 0 backgrounds, 0 corrupt: 100%|██████████| 67/67 [00:00<?, ?it/s]\n"
          ]
        },
        {
          "name": "stdout",
          "output_type": "stream",
          "text": [
            "Plotting labels to runs/detect/train2/labels.jpg... \n",
            "\u001b[34m\u001b[1moptimizer:\u001b[0m 'optimizer=auto' found, ignoring 'lr0=0.01' and 'momentum=0.937' and determining best 'optimizer', 'lr0' and 'momentum' automatically... \n",
            "\u001b[34m\u001b[1moptimizer:\u001b[0m AdamW(lr=0.001, momentum=0.9) with parameter groups 57 weight(decay=0.0), 64 weight(decay=0.0005), 63 bias(decay=0.0)\n",
            "\u001b[34m\u001b[1mTensorBoard: \u001b[0mmodel graph visualization added ✅\n",
            "Image sizes 640 train, 640 val\n",
            "Using 2 dataloader workers\n",
            "Logging results to \u001b[1mruns/detect/train2\u001b[0m\n",
            "Starting training for 100 epochs...\n",
            "\n",
            "      Epoch    GPU_mem   box_loss   cls_loss   dfl_loss  Instances       Size\n"
          ]
        },
        {
          "name": "stderr",
          "output_type": "stream",
          "text": [
            "      1/100      2.77G      0.634      3.318      1.048         56        640: 100%|██████████| 19/19 [00:14<00:00,  1.28it/s]\n",
            "                 Class     Images  Instances      Box(P          R      mAP50  mAP50-95): 100%|██████████| 3/3 [00:01<00:00,  2.89it/s]"
          ]
        },
        {
          "name": "stdout",
          "output_type": "stream",
          "text": [
            "                   all         67        143    0.00914          1      0.213       0.19\n"
          ]
        },
        {
          "name": "stderr",
          "output_type": "stream",
          "text": [
            "\n"
          ]
        },
        {
          "name": "stdout",
          "output_type": "stream",
          "text": [
            "\n",
            "      Epoch    GPU_mem   box_loss   cls_loss   dfl_loss  Instances       Size\n"
          ]
        },
        {
          "name": "stderr",
          "output_type": "stream",
          "text": [
            "      2/100      2.44G     0.6401      2.535      1.038         62        640: 100%|██████████| 19/19 [00:05<00:00,  3.67it/s]\n",
            "                 Class     Images  Instances      Box(P          R      mAP50  mAP50-95): 100%|██████████| 3/3 [00:00<00:00,  3.37it/s]"
          ]
        },
        {
          "name": "stdout",
          "output_type": "stream",
          "text": [
            "                   all         67        143      0.296      0.683      0.406      0.362\n"
          ]
        },
        {
          "name": "stderr",
          "output_type": "stream",
          "text": [
            "\n"
          ]
        },
        {
          "name": "stdout",
          "output_type": "stream",
          "text": [
            "\n",
            "      Epoch    GPU_mem   box_loss   cls_loss   dfl_loss  Instances       Size\n"
          ]
        },
        {
          "name": "stderr",
          "output_type": "stream",
          "text": [
            "      3/100      2.48G     0.6111      1.914      1.009         30        640: 100%|██████████| 19/19 [00:08<00:00,  2.25it/s]\n",
            "                 Class     Images  Instances      Box(P          R      mAP50  mAP50-95): 100%|██████████| 3/3 [00:01<00:00,  1.89it/s]"
          ]
        },
        {
          "name": "stdout",
          "output_type": "stream",
          "text": [
            "                   all         67        143      0.481      0.713      0.534      0.468\n"
          ]
        },
        {
          "name": "stderr",
          "output_type": "stream",
          "text": [
            "\n"
          ]
        },
        {
          "name": "stdout",
          "output_type": "stream",
          "text": [
            "\n",
            "      Epoch    GPU_mem   box_loss   cls_loss   dfl_loss  Instances       Size\n"
          ]
        },
        {
          "name": "stderr",
          "output_type": "stream",
          "text": [
            "      4/100      2.46G     0.6016      1.784     0.9887         31        640: 100%|██████████| 19/19 [00:05<00:00,  3.20it/s]\n",
            "                 Class     Images  Instances      Box(P          R      mAP50  mAP50-95): 100%|██████████| 3/3 [00:00<00:00,  3.38it/s]"
          ]
        },
        {
          "name": "stdout",
          "output_type": "stream",
          "text": [
            "                   all         67        143      0.443      0.871      0.558      0.479\n"
          ]
        },
        {
          "name": "stderr",
          "output_type": "stream",
          "text": [
            "\n"
          ]
        },
        {
          "name": "stdout",
          "output_type": "stream",
          "text": [
            "\n",
            "      Epoch    GPU_mem   box_loss   cls_loss   dfl_loss  Instances       Size\n"
          ]
        },
        {
          "name": "stderr",
          "output_type": "stream",
          "text": [
            "      5/100      2.45G     0.6094      1.654     0.9876         27        640: 100%|██████████| 19/19 [00:05<00:00,  3.79it/s]\n",
            "                 Class     Images  Instances      Box(P          R      mAP50  mAP50-95): 100%|██████████| 3/3 [00:01<00:00,  1.92it/s]"
          ]
        },
        {
          "name": "stdout",
          "output_type": "stream",
          "text": [
            "                   all         67        143       0.48      0.871      0.556      0.476\n"
          ]
        },
        {
          "name": "stderr",
          "output_type": "stream",
          "text": [
            "\n"
          ]
        },
        {
          "name": "stdout",
          "output_type": "stream",
          "text": [
            "\n",
            "      Epoch    GPU_mem   box_loss   cls_loss   dfl_loss  Instances       Size\n"
          ]
        },
        {
          "name": "stderr",
          "output_type": "stream",
          "text": [
            "      6/100      2.48G     0.5723      1.577     0.9512         38        640: 100%|██████████| 19/19 [00:09<00:00,  2.04it/s]\n",
            "                 Class     Images  Instances      Box(P          R      mAP50  mAP50-95): 100%|██████████| 3/3 [00:01<00:00,  1.82it/s]"
          ]
        },
        {
          "name": "stdout",
          "output_type": "stream",
          "text": [
            "                   all         67        143      0.481      0.823      0.573      0.494\n"
          ]
        },
        {
          "name": "stderr",
          "output_type": "stream",
          "text": [
            "\n"
          ]
        },
        {
          "name": "stdout",
          "output_type": "stream",
          "text": [
            "\n",
            "      Epoch    GPU_mem   box_loss   cls_loss   dfl_loss  Instances       Size\n"
          ]
        },
        {
          "name": "stderr",
          "output_type": "stream",
          "text": [
            "      7/100      2.44G     0.5898      1.529     0.9662         25        640: 100%|██████████| 19/19 [00:04<00:00,  3.84it/s]\n",
            "                 Class     Images  Instances      Box(P          R      mAP50  mAP50-95): 100%|██████████| 3/3 [00:00<00:00,  3.66it/s]"
          ]
        },
        {
          "name": "stdout",
          "output_type": "stream",
          "text": [
            "                   all         67        143      0.558      0.861      0.675      0.585\n"
          ]
        },
        {
          "name": "stderr",
          "output_type": "stream",
          "text": [
            "\n"
          ]
        },
        {
          "name": "stdout",
          "output_type": "stream",
          "text": [
            "\n",
            "      Epoch    GPU_mem   box_loss   cls_loss   dfl_loss  Instances       Size\n"
          ]
        },
        {
          "name": "stderr",
          "output_type": "stream",
          "text": [
            "      8/100      2.46G      0.592      1.481     0.9797         14        640: 100%|██████████| 19/19 [00:06<00:00,  2.80it/s]\n",
            "                 Class     Images  Instances      Box(P          R      mAP50  mAP50-95): 100%|██████████| 3/3 [00:01<00:00,  1.63it/s]"
          ]
        },
        {
          "name": "stdout",
          "output_type": "stream",
          "text": [
            "                   all         67        143       0.53      0.862      0.732      0.623\n"
          ]
        },
        {
          "name": "stderr",
          "output_type": "stream",
          "text": [
            "\n"
          ]
        },
        {
          "name": "stdout",
          "output_type": "stream",
          "text": [
            "\n",
            "      Epoch    GPU_mem   box_loss   cls_loss   dfl_loss  Instances       Size\n"
          ]
        },
        {
          "name": "stderr",
          "output_type": "stream",
          "text": [
            "      9/100      2.47G      0.583      1.368     0.9647         39        640: 100%|██████████| 19/19 [00:07<00:00,  2.51it/s]\n",
            "                 Class     Images  Instances      Box(P          R      mAP50  mAP50-95): 100%|██████████| 3/3 [00:01<00:00,  2.77it/s]"
          ]
        },
        {
          "name": "stdout",
          "output_type": "stream",
          "text": [
            "                   all         67        143      0.577      0.852      0.737      0.642\n"
          ]
        },
        {
          "name": "stderr",
          "output_type": "stream",
          "text": [
            "\n"
          ]
        },
        {
          "name": "stdout",
          "output_type": "stream",
          "text": [
            "\n",
            "      Epoch    GPU_mem   box_loss   cls_loss   dfl_loss  Instances       Size\n"
          ]
        },
        {
          "name": "stderr",
          "output_type": "stream",
          "text": [
            "     10/100      2.47G     0.5608      1.304     0.9492         40        640: 100%|██████████| 19/19 [00:04<00:00,  3.92it/s]\n",
            "                 Class     Images  Instances      Box(P          R      mAP50  mAP50-95): 100%|██████████| 3/3 [00:00<00:00,  3.88it/s]"
          ]
        },
        {
          "name": "stdout",
          "output_type": "stream",
          "text": [
            "                   all         67        143      0.659       0.88      0.805      0.708\n"
          ]
        },
        {
          "name": "stderr",
          "output_type": "stream",
          "text": [
            "\n"
          ]
        },
        {
          "name": "stdout",
          "output_type": "stream",
          "text": [
            "\n",
            "      Epoch    GPU_mem   box_loss   cls_loss   dfl_loss  Instances       Size\n"
          ]
        },
        {
          "name": "stderr",
          "output_type": "stream",
          "text": [
            "     11/100      2.46G     0.5043       1.17      0.917         30        640: 100%|██████████| 19/19 [00:08<00:00,  2.26it/s]\n",
            "                 Class     Images  Instances      Box(P          R      mAP50  mAP50-95): 100%|██████████| 3/3 [00:01<00:00,  1.68it/s]"
          ]
        },
        {
          "name": "stdout",
          "output_type": "stream",
          "text": [
            "                   all         67        143      0.683      0.843      0.863       0.78\n"
          ]
        },
        {
          "name": "stderr",
          "output_type": "stream",
          "text": [
            "\n"
          ]
        },
        {
          "name": "stdout",
          "output_type": "stream",
          "text": [
            "\n",
            "      Epoch    GPU_mem   box_loss   cls_loss   dfl_loss  Instances       Size\n"
          ]
        },
        {
          "name": "stderr",
          "output_type": "stream",
          "text": [
            "     12/100      2.47G     0.4936      1.117      0.924         24        640: 100%|██████████| 19/19 [00:05<00:00,  3.38it/s]\n",
            "                 Class     Images  Instances      Box(P          R      mAP50  mAP50-95): 100%|██████████| 3/3 [00:00<00:00,  3.13it/s]"
          ]
        },
        {
          "name": "stdout",
          "output_type": "stream",
          "text": [
            "                   all         67        143      0.774      0.867      0.892      0.774\n"
          ]
        },
        {
          "name": "stderr",
          "output_type": "stream",
          "text": [
            "\n"
          ]
        },
        {
          "name": "stdout",
          "output_type": "stream",
          "text": [
            "\n",
            "      Epoch    GPU_mem   box_loss   cls_loss   dfl_loss  Instances       Size\n"
          ]
        },
        {
          "name": "stderr",
          "output_type": "stream",
          "text": [
            "     13/100      2.45G     0.5228      1.074     0.9321         28        640: 100%|██████████| 19/19 [00:05<00:00,  3.64it/s]\n",
            "                 Class     Images  Instances      Box(P          R      mAP50  mAP50-95): 100%|██████████| 3/3 [00:01<00:00,  2.10it/s]"
          ]
        },
        {
          "name": "stdout",
          "output_type": "stream",
          "text": [
            "                   all         67        143      0.688      0.892      0.917       0.81\n"
          ]
        },
        {
          "name": "stderr",
          "output_type": "stream",
          "text": [
            "\n"
          ]
        },
        {
          "name": "stdout",
          "output_type": "stream",
          "text": [
            "\n",
            "      Epoch    GPU_mem   box_loss   cls_loss   dfl_loss  Instances       Size\n"
          ]
        },
        {
          "name": "stderr",
          "output_type": "stream",
          "text": [
            "     14/100      2.45G     0.5199      1.044     0.9385         17        640: 100%|██████████| 19/19 [00:08<00:00,  2.21it/s]\n",
            "                 Class     Images  Instances      Box(P          R      mAP50  mAP50-95): 100%|██████████| 3/3 [00:01<00:00,  1.92it/s]"
          ]
        },
        {
          "name": "stdout",
          "output_type": "stream",
          "text": [
            "                   all         67        143      0.636      0.865      0.866      0.773\n"
          ]
        },
        {
          "name": "stderr",
          "output_type": "stream",
          "text": [
            "\n"
          ]
        },
        {
          "name": "stdout",
          "output_type": "stream",
          "text": [
            "\n",
            "      Epoch    GPU_mem   box_loss   cls_loss   dfl_loss  Instances       Size\n"
          ]
        },
        {
          "name": "stderr",
          "output_type": "stream",
          "text": [
            "     15/100      2.44G     0.5315      1.027     0.9273         32        640: 100%|██████████| 19/19 [00:05<00:00,  3.78it/s]\n",
            "                 Class     Images  Instances      Box(P          R      mAP50  mAP50-95): 100%|██████████| 3/3 [00:00<00:00,  3.86it/s]"
          ]
        },
        {
          "name": "stdout",
          "output_type": "stream",
          "text": [
            "                   all         67        143      0.858      0.814      0.909      0.799\n"
          ]
        },
        {
          "name": "stderr",
          "output_type": "stream",
          "text": [
            "\n"
          ]
        },
        {
          "name": "stdout",
          "output_type": "stream",
          "text": [
            "\n",
            "      Epoch    GPU_mem   box_loss   cls_loss   dfl_loss  Instances       Size\n"
          ]
        },
        {
          "name": "stderr",
          "output_type": "stream",
          "text": [
            "     16/100      2.47G     0.5134     0.9602     0.9334         24        640: 100%|██████████| 19/19 [00:06<00:00,  2.98it/s]\n",
            "                 Class     Images  Instances      Box(P          R      mAP50  mAP50-95): 100%|██████████| 3/3 [00:01<00:00,  1.95it/s]\n"
          ]
        },
        {
          "name": "stdout",
          "output_type": "stream",
          "text": [
            "                   all         67        143      0.852      0.864      0.929      0.824\n",
            "\n",
            "      Epoch    GPU_mem   box_loss   cls_loss   dfl_loss  Instances       Size\n"
          ]
        },
        {
          "name": "stderr",
          "output_type": "stream",
          "text": [
            "     17/100      2.48G     0.5204     0.9121     0.9281         23        640: 100%|██████████| 19/19 [00:08<00:00,  2.37it/s]\n",
            "                 Class     Images  Instances      Box(P          R      mAP50  mAP50-95): 100%|██████████| 3/3 [00:00<00:00,  3.77it/s]"
          ]
        },
        {
          "name": "stdout",
          "output_type": "stream",
          "text": [
            "                   all         67        143      0.865      0.921      0.956      0.851\n"
          ]
        },
        {
          "name": "stderr",
          "output_type": "stream",
          "text": [
            "\n"
          ]
        },
        {
          "name": "stdout",
          "output_type": "stream",
          "text": [
            "\n",
            "      Epoch    GPU_mem   box_loss   cls_loss   dfl_loss  Instances       Size\n"
          ]
        },
        {
          "name": "stderr",
          "output_type": "stream",
          "text": [
            "     18/100      2.48G     0.5044     0.8582     0.9222         28        640: 100%|██████████| 19/19 [00:04<00:00,  3.95it/s]\n",
            "                 Class     Images  Instances      Box(P          R      mAP50  mAP50-95): 100%|██████████| 3/3 [00:00<00:00,  4.07it/s]"
          ]
        },
        {
          "name": "stdout",
          "output_type": "stream",
          "text": [
            "                   all         67        143      0.903       0.91      0.963      0.849\n"
          ]
        },
        {
          "name": "stderr",
          "output_type": "stream",
          "text": [
            "\n"
          ]
        },
        {
          "name": "stdout",
          "output_type": "stream",
          "text": [
            "\n",
            "      Epoch    GPU_mem   box_loss   cls_loss   dfl_loss  Instances       Size\n"
          ]
        },
        {
          "name": "stderr",
          "output_type": "stream",
          "text": [
            "     19/100      2.44G     0.5254     0.8623     0.9302         26        640: 100%|██████████| 19/19 [00:07<00:00,  2.46it/s]\n",
            "                 Class     Images  Instances      Box(P          R      mAP50  mAP50-95): 100%|██████████| 3/3 [00:01<00:00,  1.59it/s]"
          ]
        },
        {
          "name": "stdout",
          "output_type": "stream",
          "text": [
            "                   all         67        143      0.932      0.917      0.981      0.894\n"
          ]
        },
        {
          "name": "stderr",
          "output_type": "stream",
          "text": [
            "\n"
          ]
        },
        {
          "name": "stdout",
          "output_type": "stream",
          "text": [
            "\n",
            "      Epoch    GPU_mem   box_loss   cls_loss   dfl_loss  Instances       Size\n"
          ]
        },
        {
          "name": "stderr",
          "output_type": "stream",
          "text": [
            "     20/100      2.47G     0.4963     0.7956      0.938         21        640: 100%|██████████| 19/19 [00:07<00:00,  2.64it/s]\n",
            "                 Class     Images  Instances      Box(P          R      mAP50  mAP50-95): 100%|██████████| 3/3 [00:00<00:00,  4.37it/s]"
          ]
        },
        {
          "name": "stdout",
          "output_type": "stream",
          "text": [
            "                   all         67        143      0.926      0.916      0.979      0.878\n"
          ]
        },
        {
          "name": "stderr",
          "output_type": "stream",
          "text": [
            "\n"
          ]
        },
        {
          "name": "stdout",
          "output_type": "stream",
          "text": [
            "\n",
            "      Epoch    GPU_mem   box_loss   cls_loss   dfl_loss  Instances       Size\n"
          ]
        },
        {
          "name": "stderr",
          "output_type": "stream",
          "text": [
            "     21/100      2.48G     0.5005     0.8183     0.9149         33        640: 100%|██████████| 19/19 [00:04<00:00,  3.89it/s]\n",
            "                 Class     Images  Instances      Box(P          R      mAP50  mAP50-95): 100%|██████████| 3/3 [00:00<00:00,  3.53it/s]"
          ]
        },
        {
          "name": "stdout",
          "output_type": "stream",
          "text": [
            "                   all         67        143       0.84      0.894      0.964      0.879\n"
          ]
        },
        {
          "name": "stderr",
          "output_type": "stream",
          "text": [
            "\n"
          ]
        },
        {
          "name": "stdout",
          "output_type": "stream",
          "text": [
            "\n",
            "      Epoch    GPU_mem   box_loss   cls_loss   dfl_loss  Instances       Size\n"
          ]
        },
        {
          "name": "stderr",
          "output_type": "stream",
          "text": [
            "     22/100      2.47G     0.4902     0.7923     0.9198         32        640: 100%|██████████| 19/19 [00:08<00:00,  2.30it/s]\n",
            "                 Class     Images  Instances      Box(P          R      mAP50  mAP50-95): 100%|██████████| 3/3 [00:01<00:00,  1.67it/s]"
          ]
        },
        {
          "name": "stdout",
          "output_type": "stream",
          "text": [
            "                   all         67        143      0.937      0.895       0.96      0.869\n"
          ]
        },
        {
          "name": "stderr",
          "output_type": "stream",
          "text": [
            "\n"
          ]
        },
        {
          "name": "stdout",
          "output_type": "stream",
          "text": [
            "\n",
            "      Epoch    GPU_mem   box_loss   cls_loss   dfl_loss  Instances       Size\n"
          ]
        },
        {
          "name": "stderr",
          "output_type": "stream",
          "text": [
            "     23/100      2.44G     0.4737     0.7559     0.9205         22        640: 100%|██████████| 19/19 [00:06<00:00,  3.15it/s]\n",
            "                 Class     Images  Instances      Box(P          R      mAP50  mAP50-95): 100%|██████████| 3/3 [00:00<00:00,  4.45it/s]"
          ]
        },
        {
          "name": "stdout",
          "output_type": "stream",
          "text": [
            "                   all         67        143       0.89      0.892      0.962      0.863\n"
          ]
        },
        {
          "name": "stderr",
          "output_type": "stream",
          "text": [
            "\n"
          ]
        },
        {
          "name": "stdout",
          "output_type": "stream",
          "text": [
            "\n",
            "      Epoch    GPU_mem   box_loss   cls_loss   dfl_loss  Instances       Size\n"
          ]
        },
        {
          "name": "stderr",
          "output_type": "stream",
          "text": [
            "     24/100      2.48G     0.4801      0.792     0.9166         23        640: 100%|██████████| 19/19 [00:04<00:00,  3.83it/s]\n",
            "                 Class     Images  Instances      Box(P          R      mAP50  mAP50-95): 100%|██████████| 3/3 [00:01<00:00,  2.28it/s]\n"
          ]
        },
        {
          "name": "stdout",
          "output_type": "stream",
          "text": [
            "                   all         67        143      0.824        0.9      0.924      0.847\n",
            "\n",
            "      Epoch    GPU_mem   box_loss   cls_loss   dfl_loss  Instances       Size\n"
          ]
        },
        {
          "name": "stderr",
          "output_type": "stream",
          "text": [
            "     25/100      2.45G     0.4901     0.7417      0.917         33        640: 100%|██████████| 19/19 [00:08<00:00,  2.15it/s]\n",
            "                 Class     Images  Instances      Box(P          R      mAP50  mAP50-95): 100%|██████████| 3/3 [00:01<00:00,  1.69it/s]"
          ]
        },
        {
          "name": "stdout",
          "output_type": "stream",
          "text": [
            "                   all         67        143      0.881       0.87      0.952      0.857\n"
          ]
        },
        {
          "name": "stderr",
          "output_type": "stream",
          "text": [
            "\n"
          ]
        },
        {
          "name": "stdout",
          "output_type": "stream",
          "text": [
            "\n",
            "      Epoch    GPU_mem   box_loss   cls_loss   dfl_loss  Instances       Size\n"
          ]
        },
        {
          "name": "stderr",
          "output_type": "stream",
          "text": [
            "     26/100      2.48G     0.4553     0.6945     0.9088         30        640: 100%|██████████| 19/19 [00:08<00:00,  2.36it/s]\n",
            "                 Class     Images  Instances      Box(P          R      mAP50  mAP50-95): 100%|██████████| 3/3 [00:01<00:00,  2.54it/s]"
          ]
        },
        {
          "name": "stdout",
          "output_type": "stream",
          "text": [
            "                   all         67        143      0.903      0.915      0.948      0.868\n"
          ]
        },
        {
          "name": "stderr",
          "output_type": "stream",
          "text": [
            "\n"
          ]
        },
        {
          "name": "stdout",
          "output_type": "stream",
          "text": [
            "\n",
            "      Epoch    GPU_mem   box_loss   cls_loss   dfl_loss  Instances       Size\n"
          ]
        },
        {
          "name": "stderr",
          "output_type": "stream",
          "text": [
            "     27/100      2.47G     0.4582     0.7046     0.9074         39        640: 100%|██████████| 19/19 [00:09<00:00,  2.09it/s]\n",
            "                 Class     Images  Instances      Box(P          R      mAP50  mAP50-95): 100%|██████████| 3/3 [00:01<00:00,  2.13it/s]\n"
          ]
        },
        {
          "name": "stdout",
          "output_type": "stream",
          "text": [
            "                   all         67        143      0.907      0.872      0.962      0.868\n",
            "\n",
            "      Epoch    GPU_mem   box_loss   cls_loss   dfl_loss  Instances       Size\n"
          ]
        },
        {
          "name": "stderr",
          "output_type": "stream",
          "text": [
            "     28/100      2.45G     0.4538     0.6858     0.9043         17        640: 100%|██████████| 19/19 [00:04<00:00,  4.00it/s]\n",
            "                 Class     Images  Instances      Box(P          R      mAP50  mAP50-95): 100%|██████████| 3/3 [00:00<00:00,  4.12it/s]"
          ]
        },
        {
          "name": "stdout",
          "output_type": "stream",
          "text": [
            "                   all         67        143      0.912       0.96      0.966      0.878\n"
          ]
        },
        {
          "name": "stderr",
          "output_type": "stream",
          "text": [
            "\n"
          ]
        },
        {
          "name": "stdout",
          "output_type": "stream",
          "text": [
            "\n",
            "      Epoch    GPU_mem   box_loss   cls_loss   dfl_loss  Instances       Size\n"
          ]
        },
        {
          "name": "stderr",
          "output_type": "stream",
          "text": [
            "     29/100      2.45G     0.4492     0.6846     0.9156         25        640: 100%|██████████| 19/19 [00:06<00:00,  3.05it/s]\n",
            "                 Class     Images  Instances      Box(P          R      mAP50  mAP50-95): 100%|██████████| 3/3 [00:01<00:00,  1.95it/s]\n"
          ]
        },
        {
          "name": "stdout",
          "output_type": "stream",
          "text": [
            "                   all         67        143      0.922      0.943      0.962      0.868\n",
            "\n",
            "      Epoch    GPU_mem   box_loss   cls_loss   dfl_loss  Instances       Size\n"
          ]
        },
        {
          "name": "stderr",
          "output_type": "stream",
          "text": [
            "     30/100      2.47G     0.4543      0.661     0.9046         40        640: 100%|██████████| 19/19 [00:07<00:00,  2.50it/s]\n",
            "                 Class     Images  Instances      Box(P          R      mAP50  mAP50-95): 100%|██████████| 3/3 [00:00<00:00,  3.42it/s]"
          ]
        },
        {
          "name": "stdout",
          "output_type": "stream",
          "text": [
            "                   all         67        143       0.88       0.93      0.965      0.869\n"
          ]
        },
        {
          "name": "stderr",
          "output_type": "stream",
          "text": [
            "\n"
          ]
        },
        {
          "name": "stdout",
          "output_type": "stream",
          "text": [
            "\n",
            "      Epoch    GPU_mem   box_loss   cls_loss   dfl_loss  Instances       Size\n"
          ]
        },
        {
          "name": "stderr",
          "output_type": "stream",
          "text": [
            "     31/100      2.44G     0.4724     0.6551     0.9217         30        640: 100%|██████████| 19/19 [00:05<00:00,  3.75it/s]\n",
            "                 Class     Images  Instances      Box(P          R      mAP50  mAP50-95): 100%|██████████| 3/3 [00:00<00:00,  3.45it/s]"
          ]
        },
        {
          "name": "stdout",
          "output_type": "stream",
          "text": [
            "                   all         67        143      0.921      0.941      0.966      0.876\n"
          ]
        },
        {
          "name": "stderr",
          "output_type": "stream",
          "text": [
            "\n"
          ]
        },
        {
          "name": "stdout",
          "output_type": "stream",
          "text": [
            "\n",
            "      Epoch    GPU_mem   box_loss   cls_loss   dfl_loss  Instances       Size\n"
          ]
        },
        {
          "name": "stderr",
          "output_type": "stream",
          "text": [
            "     32/100      2.45G     0.4741     0.6621     0.9183         32        640: 100%|██████████| 19/19 [00:08<00:00,  2.31it/s]\n",
            "                 Class     Images  Instances      Box(P          R      mAP50  mAP50-95): 100%|██████████| 3/3 [00:01<00:00,  1.97it/s]\n"
          ]
        },
        {
          "name": "stdout",
          "output_type": "stream",
          "text": [
            "                   all         67        143      0.961      0.964      0.988      0.897\n",
            "\n",
            "      Epoch    GPU_mem   box_loss   cls_loss   dfl_loss  Instances       Size\n"
          ]
        },
        {
          "name": "stderr",
          "output_type": "stream",
          "text": [
            "     33/100      2.49G     0.4468     0.6148     0.9078         33        640: 100%|██████████| 19/19 [00:05<00:00,  3.34it/s]\n",
            "                 Class     Images  Instances      Box(P          R      mAP50  mAP50-95): 100%|██████████| 3/3 [00:00<00:00,  3.35it/s]"
          ]
        },
        {
          "name": "stdout",
          "output_type": "stream",
          "text": [
            "                   all         67        143       0.94      0.918       0.98      0.897\n"
          ]
        },
        {
          "name": "stderr",
          "output_type": "stream",
          "text": [
            "\n"
          ]
        },
        {
          "name": "stdout",
          "output_type": "stream",
          "text": [
            "\n",
            "      Epoch    GPU_mem   box_loss   cls_loss   dfl_loss  Instances       Size\n"
          ]
        },
        {
          "name": "stderr",
          "output_type": "stream",
          "text": [
            "     34/100      2.48G      0.439     0.6084      0.901         40        640: 100%|██████████| 19/19 [00:04<00:00,  3.95it/s]\n",
            "                 Class     Images  Instances      Box(P          R      mAP50  mAP50-95): 100%|██████████| 3/3 [00:01<00:00,  2.28it/s]"
          ]
        },
        {
          "name": "stdout",
          "output_type": "stream",
          "text": [
            "                   all         67        143      0.893      0.965      0.987      0.886\n"
          ]
        },
        {
          "name": "stderr",
          "output_type": "stream",
          "text": [
            "\n"
          ]
        },
        {
          "name": "stdout",
          "output_type": "stream",
          "text": [
            "\n",
            "      Epoch    GPU_mem   box_loss   cls_loss   dfl_loss  Instances       Size\n"
          ]
        },
        {
          "name": "stderr",
          "output_type": "stream",
          "text": [
            "     35/100      2.46G     0.4293     0.6081     0.8918         20        640: 100%|██████████| 19/19 [00:08<00:00,  2.16it/s]\n",
            "                 Class     Images  Instances      Box(P          R      mAP50  mAP50-95): 100%|██████████| 3/3 [00:00<00:00,  3.30it/s]"
          ]
        },
        {
          "name": "stdout",
          "output_type": "stream",
          "text": [
            "                   all         67        143      0.933      0.941      0.977      0.895\n"
          ]
        },
        {
          "name": "stderr",
          "output_type": "stream",
          "text": [
            "\n"
          ]
        },
        {
          "name": "stdout",
          "output_type": "stream",
          "text": [
            "\n",
            "      Epoch    GPU_mem   box_loss   cls_loss   dfl_loss  Instances       Size\n"
          ]
        },
        {
          "name": "stderr",
          "output_type": "stream",
          "text": [
            "     36/100      2.47G     0.4399     0.5964     0.9001         33        640: 100%|██████████| 19/19 [00:05<00:00,  3.72it/s]\n",
            "                 Class     Images  Instances      Box(P          R      mAP50  mAP50-95): 100%|██████████| 3/3 [00:00<00:00,  3.68it/s]"
          ]
        },
        {
          "name": "stdout",
          "output_type": "stream",
          "text": [
            "                   all         67        143      0.911      0.931      0.964      0.874\n"
          ]
        },
        {
          "name": "stderr",
          "output_type": "stream",
          "text": [
            "\n"
          ]
        },
        {
          "name": "stdout",
          "output_type": "stream",
          "text": [
            "\n",
            "      Epoch    GPU_mem   box_loss   cls_loss   dfl_loss  Instances       Size\n"
          ]
        },
        {
          "name": "stderr",
          "output_type": "stream",
          "text": [
            "     37/100      2.47G     0.4463      0.598     0.9049         41        640: 100%|██████████| 19/19 [00:07<00:00,  2.56it/s]\n",
            "                 Class     Images  Instances      Box(P          R      mAP50  mAP50-95): 100%|██████████| 3/3 [00:01<00:00,  1.85it/s]"
          ]
        },
        {
          "name": "stdout",
          "output_type": "stream",
          "text": [
            "                   all         67        143      0.939      0.933      0.983      0.905\n"
          ]
        },
        {
          "name": "stderr",
          "output_type": "stream",
          "text": [
            "\n"
          ]
        },
        {
          "name": "stdout",
          "output_type": "stream",
          "text": [
            "\n",
            "      Epoch    GPU_mem   box_loss   cls_loss   dfl_loss  Instances       Size\n"
          ]
        },
        {
          "name": "stderr",
          "output_type": "stream",
          "text": [
            "     38/100      2.48G     0.4362     0.5907      0.896         25        640: 100%|██████████| 19/19 [00:07<00:00,  2.66it/s]\n",
            "                 Class     Images  Instances      Box(P          R      mAP50  mAP50-95): 100%|██████████| 3/3 [00:00<00:00,  3.61it/s]"
          ]
        },
        {
          "name": "stdout",
          "output_type": "stream",
          "text": [
            "                   all         67        143      0.912      0.958       0.98      0.901\n"
          ]
        },
        {
          "name": "stderr",
          "output_type": "stream",
          "text": [
            "\n"
          ]
        },
        {
          "name": "stdout",
          "output_type": "stream",
          "text": [
            "\n",
            "      Epoch    GPU_mem   box_loss   cls_loss   dfl_loss  Instances       Size\n"
          ]
        },
        {
          "name": "stderr",
          "output_type": "stream",
          "text": [
            "     39/100      2.44G     0.4578     0.5913     0.9153         33        640: 100%|██████████| 19/19 [00:04<00:00,  4.10it/s]\n",
            "                 Class     Images  Instances      Box(P          R      mAP50  mAP50-95): 100%|██████████| 3/3 [00:00<00:00,  3.41it/s]"
          ]
        },
        {
          "name": "stdout",
          "output_type": "stream",
          "text": [
            "                   all         67        143      0.925      0.937      0.975      0.889\n"
          ]
        },
        {
          "name": "stderr",
          "output_type": "stream",
          "text": [
            "\n"
          ]
        },
        {
          "name": "stdout",
          "output_type": "stream",
          "text": [
            "\n",
            "      Epoch    GPU_mem   box_loss   cls_loss   dfl_loss  Instances       Size\n"
          ]
        },
        {
          "name": "stderr",
          "output_type": "stream",
          "text": [
            "     40/100      2.45G     0.4582     0.5838     0.9252         27        640: 100%|██████████| 19/19 [00:08<00:00,  2.28it/s]\n",
            "                 Class     Images  Instances      Box(P          R      mAP50  mAP50-95): 100%|██████████| 3/3 [00:01<00:00,  1.68it/s]"
          ]
        },
        {
          "name": "stdout",
          "output_type": "stream",
          "text": [
            "                   all         67        143      0.938      0.935      0.982      0.901\n"
          ]
        },
        {
          "name": "stderr",
          "output_type": "stream",
          "text": [
            "\n"
          ]
        },
        {
          "name": "stdout",
          "output_type": "stream",
          "text": [
            "\n",
            "      Epoch    GPU_mem   box_loss   cls_loss   dfl_loss  Instances       Size\n"
          ]
        },
        {
          "name": "stderr",
          "output_type": "stream",
          "text": [
            "     41/100      2.45G     0.4359     0.5327     0.8925         28        640: 100%|██████████| 19/19 [00:05<00:00,  3.43it/s]\n",
            "                 Class     Images  Instances      Box(P          R      mAP50  mAP50-95): 100%|██████████| 3/3 [00:00<00:00,  3.89it/s]"
          ]
        },
        {
          "name": "stdout",
          "output_type": "stream",
          "text": [
            "                   all         67        143      0.894      0.943      0.984      0.904\n"
          ]
        },
        {
          "name": "stderr",
          "output_type": "stream",
          "text": [
            "\n"
          ]
        },
        {
          "name": "stdout",
          "output_type": "stream",
          "text": [
            "\n",
            "      Epoch    GPU_mem   box_loss   cls_loss   dfl_loss  Instances       Size\n"
          ]
        },
        {
          "name": "stderr",
          "output_type": "stream",
          "text": [
            "     42/100      2.47G     0.4116     0.5534     0.8997         27        640: 100%|██████████| 19/19 [00:05<00:00,  3.79it/s]\n",
            "                 Class     Images  Instances      Box(P          R      mAP50  mAP50-95): 100%|██████████| 3/3 [00:01<00:00,  2.30it/s]"
          ]
        },
        {
          "name": "stdout",
          "output_type": "stream",
          "text": [
            "                   all         67        143      0.846      0.957       0.97      0.899\n"
          ]
        },
        {
          "name": "stderr",
          "output_type": "stream",
          "text": [
            "\n"
          ]
        },
        {
          "name": "stdout",
          "output_type": "stream",
          "text": [
            "\n",
            "      Epoch    GPU_mem   box_loss   cls_loss   dfl_loss  Instances       Size\n"
          ]
        },
        {
          "name": "stderr",
          "output_type": "stream",
          "text": [
            "     43/100      2.44G     0.4255     0.5513     0.8952         33        640: 100%|██████████| 19/19 [00:09<00:00,  2.06it/s]\n",
            "                 Class     Images  Instances      Box(P          R      mAP50  mAP50-95): 100%|██████████| 3/3 [00:01<00:00,  1.97it/s]"
          ]
        },
        {
          "name": "stdout",
          "output_type": "stream",
          "text": [
            "                   all         67        143      0.965      0.907      0.979      0.904\n"
          ]
        },
        {
          "name": "stderr",
          "output_type": "stream",
          "text": [
            "\n"
          ]
        },
        {
          "name": "stdout",
          "output_type": "stream",
          "text": [
            "\n",
            "      Epoch    GPU_mem   box_loss   cls_loss   dfl_loss  Instances       Size\n"
          ]
        },
        {
          "name": "stderr",
          "output_type": "stream",
          "text": [
            "     44/100      2.47G     0.3964     0.5082     0.8821         25        640: 100%|██████████| 19/19 [00:04<00:00,  4.00it/s]\n",
            "                 Class     Images  Instances      Box(P          R      mAP50  mAP50-95): 100%|██████████| 3/3 [00:00<00:00,  3.71it/s]"
          ]
        },
        {
          "name": "stdout",
          "output_type": "stream",
          "text": [
            "                   all         67        143      0.958      0.931      0.986      0.914\n"
          ]
        },
        {
          "name": "stderr",
          "output_type": "stream",
          "text": [
            "\n"
          ]
        },
        {
          "name": "stdout",
          "output_type": "stream",
          "text": [
            "\n",
            "      Epoch    GPU_mem   box_loss   cls_loss   dfl_loss  Instances       Size\n"
          ]
        },
        {
          "name": "stderr",
          "output_type": "stream",
          "text": [
            "     45/100      2.47G     0.4213     0.5326     0.8964         27        640: 100%|██████████| 19/19 [00:05<00:00,  3.45it/s]\n",
            "                 Class     Images  Instances      Box(P          R      mAP50  mAP50-95): 100%|██████████| 3/3 [00:01<00:00,  1.98it/s]\n"
          ]
        },
        {
          "name": "stdout",
          "output_type": "stream",
          "text": [
            "                   all         67        143      0.949      0.968       0.99      0.909\n",
            "\n",
            "      Epoch    GPU_mem   box_loss   cls_loss   dfl_loss  Instances       Size\n"
          ]
        },
        {
          "name": "stderr",
          "output_type": "stream",
          "text": [
            "     46/100      2.45G     0.4209     0.5145     0.8929         32        640: 100%|██████████| 19/19 [00:09<00:00,  2.06it/s]\n",
            "                 Class     Images  Instances      Box(P          R      mAP50  mAP50-95): 100%|██████████| 3/3 [00:01<00:00,  2.37it/s]"
          ]
        },
        {
          "name": "stdout",
          "output_type": "stream",
          "text": [
            "                   all         67        143      0.943      0.957      0.989      0.909\n"
          ]
        },
        {
          "name": "stderr",
          "output_type": "stream",
          "text": [
            "\n"
          ]
        },
        {
          "name": "stdout",
          "output_type": "stream",
          "text": [
            "\n",
            "      Epoch    GPU_mem   box_loss   cls_loss   dfl_loss  Instances       Size\n"
          ]
        },
        {
          "name": "stderr",
          "output_type": "stream",
          "text": [
            "     47/100      2.44G      0.419     0.5044      0.887         36        640: 100%|██████████| 19/19 [00:04<00:00,  3.93it/s]\n",
            "                 Class     Images  Instances      Box(P          R      mAP50  mAP50-95): 100%|██████████| 3/3 [00:00<00:00,  3.73it/s]"
          ]
        },
        {
          "name": "stdout",
          "output_type": "stream",
          "text": [
            "                   all         67        143       0.95      0.958      0.982      0.909\n"
          ]
        },
        {
          "name": "stderr",
          "output_type": "stream",
          "text": [
            "\n"
          ]
        },
        {
          "name": "stdout",
          "output_type": "stream",
          "text": [
            "\n",
            "      Epoch    GPU_mem   box_loss   cls_loss   dfl_loss  Instances       Size\n"
          ]
        },
        {
          "name": "stderr",
          "output_type": "stream",
          "text": [
            "     48/100      2.47G      0.424      0.504     0.8944         34        640: 100%|██████████| 19/19 [00:06<00:00,  2.84it/s]\n",
            "                 Class     Images  Instances      Box(P          R      mAP50  mAP50-95): 100%|██████████| 3/3 [00:01<00:00,  2.12it/s]"
          ]
        },
        {
          "name": "stdout",
          "output_type": "stream",
          "text": [
            "                   all         67        143      0.955      0.892      0.981      0.899\n"
          ]
        },
        {
          "name": "stderr",
          "output_type": "stream",
          "text": [
            "\n"
          ]
        },
        {
          "name": "stdout",
          "output_type": "stream",
          "text": [
            "\n",
            "      Epoch    GPU_mem   box_loss   cls_loss   dfl_loss  Instances       Size\n"
          ]
        },
        {
          "name": "stderr",
          "output_type": "stream",
          "text": [
            "     49/100      2.47G     0.3979     0.4825      0.885         26        640: 100%|██████████| 19/19 [00:07<00:00,  2.49it/s]\n",
            "                 Class     Images  Instances      Box(P          R      mAP50  mAP50-95): 100%|██████████| 3/3 [00:00<00:00,  4.29it/s]"
          ]
        },
        {
          "name": "stdout",
          "output_type": "stream",
          "text": [
            "                   all         67        143      0.897      0.977      0.992      0.911\n"
          ]
        },
        {
          "name": "stderr",
          "output_type": "stream",
          "text": [
            "\n"
          ]
        },
        {
          "name": "stdout",
          "output_type": "stream",
          "text": [
            "\n",
            "      Epoch    GPU_mem   box_loss   cls_loss   dfl_loss  Instances       Size\n"
          ]
        },
        {
          "name": "stderr",
          "output_type": "stream",
          "text": [
            "     50/100      2.45G      0.415     0.4948     0.8984         22        640: 100%|██████████| 19/19 [00:05<00:00,  3.79it/s]\n",
            "                 Class     Images  Instances      Box(P          R      mAP50  mAP50-95): 100%|██████████| 3/3 [00:00<00:00,  3.68it/s]"
          ]
        },
        {
          "name": "stdout",
          "output_type": "stream",
          "text": [
            "                   all         67        143       0.97      0.944       0.99      0.918\n"
          ]
        },
        {
          "name": "stderr",
          "output_type": "stream",
          "text": [
            "\n"
          ]
        },
        {
          "name": "stdout",
          "output_type": "stream",
          "text": [
            "\n",
            "      Epoch    GPU_mem   box_loss   cls_loss   dfl_loss  Instances       Size\n"
          ]
        },
        {
          "name": "stderr",
          "output_type": "stream",
          "text": [
            "     51/100      2.44G     0.3975     0.4601     0.8904         25        640: 100%|██████████| 19/19 [00:08<00:00,  2.27it/s]\n",
            "                 Class     Images  Instances      Box(P          R      mAP50  mAP50-95): 100%|██████████| 3/3 [00:01<00:00,  1.96it/s]"
          ]
        },
        {
          "name": "stdout",
          "output_type": "stream",
          "text": [
            "                   all         67        143      0.937       0.95       0.99      0.921\n"
          ]
        },
        {
          "name": "stderr",
          "output_type": "stream",
          "text": [
            "\n"
          ]
        },
        {
          "name": "stdout",
          "output_type": "stream",
          "text": [
            "\n",
            "      Epoch    GPU_mem   box_loss   cls_loss   dfl_loss  Instances       Size\n"
          ]
        },
        {
          "name": "stderr",
          "output_type": "stream",
          "text": [
            "     52/100      2.45G     0.4015     0.4727     0.8888         30        640: 100%|██████████| 19/19 [00:08<00:00,  2.20it/s]\n",
            "                 Class     Images  Instances      Box(P          R      mAP50  mAP50-95): 100%|██████████| 3/3 [00:00<00:00,  3.25it/s]"
          ]
        },
        {
          "name": "stdout",
          "output_type": "stream",
          "text": [
            "                   all         67        143      0.977      0.941      0.986      0.912\n"
          ]
        },
        {
          "name": "stderr",
          "output_type": "stream",
          "text": [
            "\n"
          ]
        },
        {
          "name": "stdout",
          "output_type": "stream",
          "text": [
            "\n",
            "      Epoch    GPU_mem   box_loss   cls_loss   dfl_loss  Instances       Size\n"
          ]
        },
        {
          "name": "stderr",
          "output_type": "stream",
          "text": [
            "     53/100      2.47G     0.3896      0.461      0.881         36        640: 100%|██████████| 19/19 [00:05<00:00,  3.71it/s]\n",
            "                 Class     Images  Instances      Box(P          R      mAP50  mAP50-95): 100%|██████████| 3/3 [00:01<00:00,  2.25it/s]"
          ]
        },
        {
          "name": "stdout",
          "output_type": "stream",
          "text": [
            "                   all         67        143      0.968       0.94       0.98      0.911\n"
          ]
        },
        {
          "name": "stderr",
          "output_type": "stream",
          "text": [
            "\n"
          ]
        },
        {
          "name": "stdout",
          "output_type": "stream",
          "text": [
            "\n",
            "      Epoch    GPU_mem   box_loss   cls_loss   dfl_loss  Instances       Size\n"
          ]
        },
        {
          "name": "stderr",
          "output_type": "stream",
          "text": [
            "     54/100      2.45G     0.3922     0.4557     0.8875         37        640: 100%|██████████| 19/19 [00:08<00:00,  2.26it/s]\n",
            "                 Class     Images  Instances      Box(P          R      mAP50  mAP50-95): 100%|██████████| 3/3 [00:00<00:00,  3.02it/s]"
          ]
        },
        {
          "name": "stdout",
          "output_type": "stream",
          "text": [
            "                   all         67        143      0.953      0.955      0.989      0.917\n"
          ]
        },
        {
          "name": "stderr",
          "output_type": "stream",
          "text": [
            "\n"
          ]
        },
        {
          "name": "stdout",
          "output_type": "stream",
          "text": [
            "\n",
            "      Epoch    GPU_mem   box_loss   cls_loss   dfl_loss  Instances       Size\n"
          ]
        },
        {
          "name": "stderr",
          "output_type": "stream",
          "text": [
            "     55/100      2.47G     0.3992     0.4532     0.8774         24        640: 100%|██████████| 19/19 [00:04<00:00,  3.91it/s]\n",
            "                 Class     Images  Instances      Box(P          R      mAP50  mAP50-95): 100%|██████████| 3/3 [00:00<00:00,  3.68it/s]"
          ]
        },
        {
          "name": "stdout",
          "output_type": "stream",
          "text": [
            "                   all         67        143      0.956      0.955      0.976      0.902\n"
          ]
        },
        {
          "name": "stderr",
          "output_type": "stream",
          "text": [
            "\n"
          ]
        },
        {
          "name": "stdout",
          "output_type": "stream",
          "text": [
            "\n",
            "      Epoch    GPU_mem   box_loss   cls_loss   dfl_loss  Instances       Size\n"
          ]
        },
        {
          "name": "stderr",
          "output_type": "stream",
          "text": [
            "     56/100      2.47G     0.3866     0.4506     0.8791         22        640: 100%|██████████| 19/19 [00:07<00:00,  2.67it/s]\n",
            "                 Class     Images  Instances      Box(P          R      mAP50  mAP50-95): 100%|██████████| 3/3 [00:01<00:00,  1.89it/s]"
          ]
        },
        {
          "name": "stdout",
          "output_type": "stream",
          "text": [
            "                   all         67        143      0.957      0.976      0.983      0.901\n"
          ]
        },
        {
          "name": "stderr",
          "output_type": "stream",
          "text": [
            "\n"
          ]
        },
        {
          "name": "stdout",
          "output_type": "stream",
          "text": [
            "\n",
            "      Epoch    GPU_mem   box_loss   cls_loss   dfl_loss  Instances       Size\n"
          ]
        },
        {
          "name": "stderr",
          "output_type": "stream",
          "text": [
            "     57/100      2.45G     0.4254     0.4712      0.901         43        640: 100%|██████████| 19/19 [00:06<00:00,  3.13it/s]\n",
            "                 Class     Images  Instances      Box(P          R      mAP50  mAP50-95): 100%|██████████| 3/3 [00:00<00:00,  3.54it/s]"
          ]
        },
        {
          "name": "stdout",
          "output_type": "stream",
          "text": [
            "                   all         67        143      0.958      0.968      0.985      0.905\n"
          ]
        },
        {
          "name": "stderr",
          "output_type": "stream",
          "text": [
            "\n"
          ]
        },
        {
          "name": "stdout",
          "output_type": "stream",
          "text": [
            "\n",
            "      Epoch    GPU_mem   box_loss   cls_loss   dfl_loss  Instances       Size\n"
          ]
        },
        {
          "name": "stderr",
          "output_type": "stream",
          "text": [
            "     58/100      2.47G     0.3568     0.4307     0.8685         34        640: 100%|██████████| 19/19 [00:04<00:00,  4.02it/s]\n",
            "                 Class     Images  Instances      Box(P          R      mAP50  mAP50-95): 100%|██████████| 3/3 [00:01<00:00,  2.35it/s]"
          ]
        },
        {
          "name": "stdout",
          "output_type": "stream",
          "text": [
            "                   all         67        143       0.96      0.967      0.987      0.905\n"
          ]
        },
        {
          "name": "stderr",
          "output_type": "stream",
          "text": [
            "\n"
          ]
        },
        {
          "name": "stdout",
          "output_type": "stream",
          "text": [
            "\n",
            "      Epoch    GPU_mem   box_loss   cls_loss   dfl_loss  Instances       Size\n"
          ]
        },
        {
          "name": "stderr",
          "output_type": "stream",
          "text": [
            "     59/100      2.46G     0.3933     0.4476     0.8867         31        640: 100%|██████████| 19/19 [00:08<00:00,  2.21it/s]\n",
            "                 Class     Images  Instances      Box(P          R      mAP50  mAP50-95): 100%|██████████| 3/3 [00:01<00:00,  1.88it/s]"
          ]
        },
        {
          "name": "stdout",
          "output_type": "stream",
          "text": [
            "                   all         67        143      0.959      0.956      0.989      0.909\n"
          ]
        },
        {
          "name": "stderr",
          "output_type": "stream",
          "text": [
            "\n"
          ]
        },
        {
          "name": "stdout",
          "output_type": "stream",
          "text": [
            "\n",
            "      Epoch    GPU_mem   box_loss   cls_loss   dfl_loss  Instances       Size\n"
          ]
        },
        {
          "name": "stderr",
          "output_type": "stream",
          "text": [
            "     60/100      2.45G     0.3626      0.427     0.8743         28        640: 100%|██████████| 19/19 [00:04<00:00,  3.94it/s]\n",
            "                 Class     Images  Instances      Box(P          R      mAP50  mAP50-95): 100%|██████████| 3/3 [00:00<00:00,  3.83it/s]"
          ]
        },
        {
          "name": "stdout",
          "output_type": "stream",
          "text": [
            "                   all         67        143      0.971      0.951      0.991      0.918\n"
          ]
        },
        {
          "name": "stderr",
          "output_type": "stream",
          "text": [
            "\n"
          ]
        },
        {
          "name": "stdout",
          "output_type": "stream",
          "text": [
            "\n",
            "      Epoch    GPU_mem   box_loss   cls_loss   dfl_loss  Instances       Size\n"
          ]
        },
        {
          "name": "stderr",
          "output_type": "stream",
          "text": [
            "     61/100      2.45G     0.3625     0.4233     0.8659         24        640: 100%|██████████| 19/19 [00:05<00:00,  3.43it/s]\n",
            "                 Class     Images  Instances      Box(P          R      mAP50  mAP50-95): 100%|██████████| 3/3 [00:01<00:00,  1.86it/s]"
          ]
        },
        {
          "name": "stdout",
          "output_type": "stream",
          "text": [
            "                   all         67        143      0.979      0.934      0.992      0.927\n"
          ]
        },
        {
          "name": "stderr",
          "output_type": "stream",
          "text": [
            "\n"
          ]
        },
        {
          "name": "stdout",
          "output_type": "stream",
          "text": [
            "\n",
            "      Epoch    GPU_mem   box_loss   cls_loss   dfl_loss  Instances       Size\n"
          ]
        },
        {
          "name": "stderr",
          "output_type": "stream",
          "text": [
            "     62/100      2.47G     0.3647     0.4083     0.8584         38        640: 100%|██████████| 19/19 [00:07<00:00,  2.46it/s]\n",
            "                 Class     Images  Instances      Box(P          R      mAP50  mAP50-95): 100%|██████████| 3/3 [00:00<00:00,  3.21it/s]"
          ]
        },
        {
          "name": "stdout",
          "output_type": "stream",
          "text": [
            "                   all         67        143      0.992       0.98      0.994      0.912\n"
          ]
        },
        {
          "name": "stderr",
          "output_type": "stream",
          "text": [
            "\n"
          ]
        },
        {
          "name": "stdout",
          "output_type": "stream",
          "text": [
            "\n",
            "      Epoch    GPU_mem   box_loss   cls_loss   dfl_loss  Instances       Size\n"
          ]
        },
        {
          "name": "stderr",
          "output_type": "stream",
          "text": [
            "     63/100      2.46G     0.3783     0.4519     0.8788         45        640: 100%|██████████| 19/19 [00:05<00:00,  3.77it/s]\n",
            "                 Class     Images  Instances      Box(P          R      mAP50  mAP50-95): 100%|██████████| 3/3 [00:00<00:00,  4.02it/s]"
          ]
        },
        {
          "name": "stdout",
          "output_type": "stream",
          "text": [
            "                   all         67        143      0.977      0.967       0.99      0.917\n"
          ]
        },
        {
          "name": "stderr",
          "output_type": "stream",
          "text": [
            "\n"
          ]
        },
        {
          "name": "stdout",
          "output_type": "stream",
          "text": [
            "\n",
            "      Epoch    GPU_mem   box_loss   cls_loss   dfl_loss  Instances       Size\n"
          ]
        },
        {
          "name": "stderr",
          "output_type": "stream",
          "text": [
            "     64/100      2.45G     0.3815      0.426     0.8818         23        640: 100%|██████████| 19/19 [00:07<00:00,  2.45it/s]\n",
            "                 Class     Images  Instances      Box(P          R      mAP50  mAP50-95): 100%|██████████| 3/3 [00:01<00:00,  1.95it/s]"
          ]
        },
        {
          "name": "stdout",
          "output_type": "stream",
          "text": [
            "                   all         67        143      0.979      0.972      0.991       0.91\n"
          ]
        },
        {
          "name": "stderr",
          "output_type": "stream",
          "text": [
            "\n"
          ]
        },
        {
          "name": "stdout",
          "output_type": "stream",
          "text": [
            "\n",
            "      Epoch    GPU_mem   box_loss   cls_loss   dfl_loss  Instances       Size\n"
          ]
        },
        {
          "name": "stderr",
          "output_type": "stream",
          "text": [
            "     65/100      2.45G     0.3858     0.4278     0.8861         37        640: 100%|██████████| 19/19 [00:05<00:00,  3.65it/s]\n",
            "                 Class     Images  Instances      Box(P          R      mAP50  mAP50-95): 100%|██████████| 3/3 [00:00<00:00,  3.75it/s]"
          ]
        },
        {
          "name": "stdout",
          "output_type": "stream",
          "text": [
            "                   all         67        143       0.97      0.973      0.992      0.908\n"
          ]
        },
        {
          "name": "stderr",
          "output_type": "stream",
          "text": [
            "\n"
          ]
        },
        {
          "name": "stdout",
          "output_type": "stream",
          "text": [
            "\n",
            "      Epoch    GPU_mem   box_loss   cls_loss   dfl_loss  Instances       Size\n"
          ]
        },
        {
          "name": "stderr",
          "output_type": "stream",
          "text": [
            "     66/100      2.45G     0.3791     0.4316     0.8876         32        640: 100%|██████████| 19/19 [00:05<00:00,  3.68it/s]\n",
            "                 Class     Images  Instances      Box(P          R      mAP50  mAP50-95): 100%|██████████| 3/3 [00:01<00:00,  2.41it/s]"
          ]
        },
        {
          "name": "stdout",
          "output_type": "stream",
          "text": [
            "                   all         67        143      0.984      0.979      0.993      0.917\n"
          ]
        },
        {
          "name": "stderr",
          "output_type": "stream",
          "text": [
            "\n"
          ]
        },
        {
          "name": "stdout",
          "output_type": "stream",
          "text": [
            "\n",
            "      Epoch    GPU_mem   box_loss   cls_loss   dfl_loss  Instances       Size\n"
          ]
        },
        {
          "name": "stderr",
          "output_type": "stream",
          "text": [
            "     67/100      2.47G     0.3631      0.411     0.8815         25        640: 100%|██████████| 19/19 [00:09<00:00,  2.07it/s]\n",
            "                 Class     Images  Instances      Box(P          R      mAP50  mAP50-95): 100%|██████████| 3/3 [00:01<00:00,  2.37it/s]"
          ]
        },
        {
          "name": "stdout",
          "output_type": "stream",
          "text": [
            "                   all         67        143      0.967      0.967      0.992      0.916\n"
          ]
        },
        {
          "name": "stderr",
          "output_type": "stream",
          "text": [
            "\n"
          ]
        },
        {
          "name": "stdout",
          "output_type": "stream",
          "text": [
            "\n",
            "      Epoch    GPU_mem   box_loss   cls_loss   dfl_loss  Instances       Size\n"
          ]
        },
        {
          "name": "stderr",
          "output_type": "stream",
          "text": [
            "     68/100      2.45G     0.3742     0.4233     0.8771         21        640: 100%|██████████| 19/19 [00:04<00:00,  4.11it/s]\n",
            "                 Class     Images  Instances      Box(P          R      mAP50  mAP50-95): 100%|██████████| 3/3 [00:00<00:00,  3.16it/s]"
          ]
        },
        {
          "name": "stdout",
          "output_type": "stream",
          "text": [
            "                   all         67        143      0.969      0.965      0.991      0.921\n"
          ]
        },
        {
          "name": "stderr",
          "output_type": "stream",
          "text": [
            "\n"
          ]
        },
        {
          "name": "stdout",
          "output_type": "stream",
          "text": [
            "\n",
            "      Epoch    GPU_mem   box_loss   cls_loss   dfl_loss  Instances       Size\n"
          ]
        },
        {
          "name": "stderr",
          "output_type": "stream",
          "text": [
            "     69/100      2.45G      0.361     0.3952     0.8772         28        640: 100%|██████████| 19/19 [00:06<00:00,  2.94it/s]\n",
            "                 Class     Images  Instances      Box(P          R      mAP50  mAP50-95): 100%|██████████| 3/3 [00:01<00:00,  2.17it/s]"
          ]
        },
        {
          "name": "stdout",
          "output_type": "stream",
          "text": [
            "                   all         67        143      0.977      0.984      0.994      0.918\n"
          ]
        },
        {
          "name": "stderr",
          "output_type": "stream",
          "text": [
            "\n"
          ]
        },
        {
          "name": "stdout",
          "output_type": "stream",
          "text": [
            "\n",
            "      Epoch    GPU_mem   box_loss   cls_loss   dfl_loss  Instances       Size\n"
          ]
        },
        {
          "name": "stderr",
          "output_type": "stream",
          "text": [
            "     70/100      2.47G     0.3747     0.4025     0.8707         27        640: 100%|██████████| 19/19 [00:07<00:00,  2.53it/s]\n",
            "                 Class     Images  Instances      Box(P          R      mAP50  mAP50-95): 100%|██████████| 3/3 [00:00<00:00,  3.30it/s]"
          ]
        },
        {
          "name": "stdout",
          "output_type": "stream",
          "text": [
            "                   all         67        143      0.941       0.97      0.991      0.922\n"
          ]
        },
        {
          "name": "stderr",
          "output_type": "stream",
          "text": [
            "\n"
          ]
        },
        {
          "name": "stdout",
          "output_type": "stream",
          "text": [
            "\n",
            "      Epoch    GPU_mem   box_loss   cls_loss   dfl_loss  Instances       Size\n"
          ]
        },
        {
          "name": "stderr",
          "output_type": "stream",
          "text": [
            "     71/100      2.44G      0.378     0.4255     0.8865         27        640: 100%|██████████| 19/19 [00:05<00:00,  3.67it/s]\n",
            "                 Class     Images  Instances      Box(P          R      mAP50  mAP50-95): 100%|██████████| 3/3 [00:00<00:00,  3.10it/s]"
          ]
        },
        {
          "name": "stdout",
          "output_type": "stream",
          "text": [
            "                   all         67        143       0.98      0.944      0.994      0.919\n"
          ]
        },
        {
          "name": "stderr",
          "output_type": "stream",
          "text": [
            "\n"
          ]
        },
        {
          "name": "stdout",
          "output_type": "stream",
          "text": [
            "\n",
            "      Epoch    GPU_mem   box_loss   cls_loss   dfl_loss  Instances       Size\n"
          ]
        },
        {
          "name": "stderr",
          "output_type": "stream",
          "text": [
            "     72/100      2.45G     0.3728     0.4025     0.8762         38        640: 100%|██████████| 19/19 [00:08<00:00,  2.27it/s]\n",
            "                 Class     Images  Instances      Box(P          R      mAP50  mAP50-95): 100%|██████████| 3/3 [00:01<00:00,  1.82it/s]"
          ]
        },
        {
          "name": "stdout",
          "output_type": "stream",
          "text": [
            "                   all         67        143       0.98      0.979      0.993      0.927\n"
          ]
        },
        {
          "name": "stderr",
          "output_type": "stream",
          "text": [
            "\n"
          ]
        },
        {
          "name": "stdout",
          "output_type": "stream",
          "text": [
            "\n",
            "      Epoch    GPU_mem   box_loss   cls_loss   dfl_loss  Instances       Size\n"
          ]
        },
        {
          "name": "stderr",
          "output_type": "stream",
          "text": [
            "     73/100      2.47G      0.359     0.3922     0.8816         27        640: 100%|██████████| 19/19 [00:05<00:00,  3.59it/s]\n",
            "                 Class     Images  Instances      Box(P          R      mAP50  mAP50-95): 100%|██████████| 3/3 [00:00<00:00,  3.09it/s]"
          ]
        },
        {
          "name": "stdout",
          "output_type": "stream",
          "text": [
            "                   all         67        143       0.98      0.936      0.993       0.92\n"
          ]
        },
        {
          "name": "stderr",
          "output_type": "stream",
          "text": [
            "\n"
          ]
        },
        {
          "name": "stdout",
          "output_type": "stream",
          "text": [
            "\n",
            "      Epoch    GPU_mem   box_loss   cls_loss   dfl_loss  Instances       Size\n"
          ]
        },
        {
          "name": "stderr",
          "output_type": "stream",
          "text": [
            "     74/100      2.45G      0.358     0.3876      0.869         33        640: 100%|██████████| 19/19 [00:04<00:00,  3.97it/s]\n",
            "                 Class     Images  Instances      Box(P          R      mAP50  mAP50-95): 100%|██████████| 3/3 [00:01<00:00,  2.08it/s]\n"
          ]
        },
        {
          "name": "stdout",
          "output_type": "stream",
          "text": [
            "                   all         67        143      0.962      0.971      0.992      0.922\n",
            "\n",
            "      Epoch    GPU_mem   box_loss   cls_loss   dfl_loss  Instances       Size\n"
          ]
        },
        {
          "name": "stderr",
          "output_type": "stream",
          "text": [
            "     75/100      2.44G     0.3537     0.3834     0.8802         28        640: 100%|██████████| 19/19 [00:09<00:00,  2.07it/s]\n",
            "                 Class     Images  Instances      Box(P          R      mAP50  mAP50-95): 100%|██████████| 3/3 [00:01<00:00,  1.93it/s]\n"
          ]
        },
        {
          "name": "stdout",
          "output_type": "stream",
          "text": [
            "                   all         67        143      0.947      0.962      0.991      0.922\n",
            "\n",
            "      Epoch    GPU_mem   box_loss   cls_loss   dfl_loss  Instances       Size\n"
          ]
        },
        {
          "name": "stderr",
          "output_type": "stream",
          "text": [
            "     76/100      2.45G     0.3438     0.3775     0.8619         27        640: 100%|██████████| 19/19 [00:04<00:00,  3.81it/s]\n",
            "                 Class     Images  Instances      Box(P          R      mAP50  mAP50-95): 100%|██████████| 3/3 [00:00<00:00,  4.02it/s]"
          ]
        },
        {
          "name": "stdout",
          "output_type": "stream",
          "text": [
            "                   all         67        143      0.978      0.974      0.994      0.926\n"
          ]
        },
        {
          "name": "stderr",
          "output_type": "stream",
          "text": [
            "\n"
          ]
        },
        {
          "name": "stdout",
          "output_type": "stream",
          "text": [
            "\n",
            "      Epoch    GPU_mem   box_loss   cls_loss   dfl_loss  Instances       Size\n"
          ]
        },
        {
          "name": "stderr",
          "output_type": "stream",
          "text": [
            "     77/100      2.45G     0.3446     0.3714     0.8739         19        640: 100%|██████████| 19/19 [00:07<00:00,  2.56it/s]\n",
            "                 Class     Images  Instances      Box(P          R      mAP50  mAP50-95): 100%|██████████| 3/3 [00:01<00:00,  1.81it/s]\n"
          ]
        },
        {
          "name": "stdout",
          "output_type": "stream",
          "text": [
            "                   all         67        143      0.958       0.99      0.994      0.935\n",
            "\n",
            "      Epoch    GPU_mem   box_loss   cls_loss   dfl_loss  Instances       Size\n"
          ]
        },
        {
          "name": "stderr",
          "output_type": "stream",
          "text": [
            "     78/100      2.45G     0.3427     0.3777     0.8691         26        640: 100%|██████████| 19/19 [00:08<00:00,  2.13it/s]\n",
            "                 Class     Images  Instances      Box(P          R      mAP50  mAP50-95): 100%|██████████| 3/3 [00:01<00:00,  2.98it/s]"
          ]
        },
        {
          "name": "stdout",
          "output_type": "stream",
          "text": [
            "                   all         67        143      0.953      0.983      0.992      0.925\n"
          ]
        },
        {
          "name": "stderr",
          "output_type": "stream",
          "text": [
            "\n"
          ]
        },
        {
          "name": "stdout",
          "output_type": "stream",
          "text": [
            "\n",
            "      Epoch    GPU_mem   box_loss   cls_loss   dfl_loss  Instances       Size\n"
          ]
        },
        {
          "name": "stderr",
          "output_type": "stream",
          "text": [
            "     79/100      2.46G     0.3536     0.3699     0.8797         32        640: 100%|██████████| 19/19 [00:04<00:00,  3.91it/s]\n",
            "                 Class     Images  Instances      Box(P          R      mAP50  mAP50-95): 100%|██████████| 3/3 [00:00<00:00,  3.85it/s]"
          ]
        },
        {
          "name": "stdout",
          "output_type": "stream",
          "text": [
            "                   all         67        143      0.979      0.976      0.991      0.917\n"
          ]
        },
        {
          "name": "stderr",
          "output_type": "stream",
          "text": [
            "\n"
          ]
        },
        {
          "name": "stdout",
          "output_type": "stream",
          "text": [
            "\n",
            "      Epoch    GPU_mem   box_loss   cls_loss   dfl_loss  Instances       Size\n"
          ]
        },
        {
          "name": "stderr",
          "output_type": "stream",
          "text": [
            "     80/100      2.47G     0.3396     0.3697      0.861         35        640: 100%|██████████| 19/19 [00:06<00:00,  2.89it/s]\n",
            "                 Class     Images  Instances      Box(P          R      mAP50  mAP50-95): 100%|██████████| 3/3 [00:01<00:00,  1.82it/s]"
          ]
        },
        {
          "name": "stdout",
          "output_type": "stream",
          "text": [
            "                   all         67        143      0.966      0.967      0.992      0.925\n"
          ]
        },
        {
          "name": "stderr",
          "output_type": "stream",
          "text": [
            "\n"
          ]
        },
        {
          "name": "stdout",
          "output_type": "stream",
          "text": [
            "\n",
            "      Epoch    GPU_mem   box_loss   cls_loss   dfl_loss  Instances       Size\n"
          ]
        },
        {
          "name": "stderr",
          "output_type": "stream",
          "text": [
            "     81/100      2.45G     0.3239     0.3438     0.8572         41        640: 100%|██████████| 19/19 [00:07<00:00,  2.62it/s]\n",
            "                 Class     Images  Instances      Box(P          R      mAP50  mAP50-95): 100%|██████████| 3/3 [00:00<00:00,  3.56it/s]"
          ]
        },
        {
          "name": "stdout",
          "output_type": "stream",
          "text": [
            "                   all         67        143      0.953      0.961      0.989      0.924\n"
          ]
        },
        {
          "name": "stderr",
          "output_type": "stream",
          "text": [
            "\n"
          ]
        },
        {
          "name": "stdout",
          "output_type": "stream",
          "text": [
            "\n",
            "      Epoch    GPU_mem   box_loss   cls_loss   dfl_loss  Instances       Size\n"
          ]
        },
        {
          "name": "stderr",
          "output_type": "stream",
          "text": [
            "     82/100      2.47G     0.3339     0.3601     0.8654         31        640: 100%|██████████| 19/19 [00:04<00:00,  3.88it/s]\n",
            "                 Class     Images  Instances      Box(P          R      mAP50  mAP50-95): 100%|██████████| 3/3 [00:00<00:00,  3.52it/s]"
          ]
        },
        {
          "name": "stdout",
          "output_type": "stream",
          "text": [
            "                   all         67        143      0.978      0.962      0.993      0.929\n"
          ]
        },
        {
          "name": "stderr",
          "output_type": "stream",
          "text": [
            "\n"
          ]
        },
        {
          "name": "stdout",
          "output_type": "stream",
          "text": [
            "\n",
            "      Epoch    GPU_mem   box_loss   cls_loss   dfl_loss  Instances       Size\n"
          ]
        },
        {
          "name": "stderr",
          "output_type": "stream",
          "text": [
            "     83/100      2.44G     0.3428     0.3691     0.8778         21        640: 100%|██████████| 19/19 [00:08<00:00,  2.24it/s]\n",
            "                 Class     Images  Instances      Box(P          R      mAP50  mAP50-95): 100%|██████████| 3/3 [00:01<00:00,  1.91it/s]"
          ]
        },
        {
          "name": "stdout",
          "output_type": "stream",
          "text": [
            "                   all         67        143       0.97      0.984      0.993      0.932\n"
          ]
        },
        {
          "name": "stderr",
          "output_type": "stream",
          "text": [
            "\n"
          ]
        },
        {
          "name": "stdout",
          "output_type": "stream",
          "text": [
            "\n",
            "      Epoch    GPU_mem   box_loss   cls_loss   dfl_loss  Instances       Size\n"
          ]
        },
        {
          "name": "stderr",
          "output_type": "stream",
          "text": [
            "     84/100      2.45G     0.3333     0.3665      0.862         38        640: 100%|██████████| 19/19 [00:04<00:00,  4.11it/s]\n",
            "                 Class     Images  Instances      Box(P          R      mAP50  mAP50-95): 100%|██████████| 3/3 [00:00<00:00,  3.22it/s]"
          ]
        },
        {
          "name": "stdout",
          "output_type": "stream",
          "text": [
            "                   all         67        143      0.991       0.98      0.995       0.93\n"
          ]
        },
        {
          "name": "stderr",
          "output_type": "stream",
          "text": [
            "\n"
          ]
        },
        {
          "name": "stdout",
          "output_type": "stream",
          "text": [
            "\n",
            "      Epoch    GPU_mem   box_loss   cls_loss   dfl_loss  Instances       Size\n"
          ]
        },
        {
          "name": "stderr",
          "output_type": "stream",
          "text": [
            "     85/100      2.47G     0.3442      0.343     0.8711         28        640: 100%|██████████| 19/19 [00:05<00:00,  3.43it/s]\n",
            "                 Class     Images  Instances      Box(P          R      mAP50  mAP50-95): 100%|██████████| 3/3 [00:01<00:00,  2.12it/s]"
          ]
        },
        {
          "name": "stdout",
          "output_type": "stream",
          "text": [
            "                   all         67        143      0.979      0.991      0.994      0.932\n"
          ]
        },
        {
          "name": "stderr",
          "output_type": "stream",
          "text": [
            "\n"
          ]
        },
        {
          "name": "stdout",
          "output_type": "stream",
          "text": [
            "\n",
            "      Epoch    GPU_mem   box_loss   cls_loss   dfl_loss  Instances       Size\n"
          ]
        },
        {
          "name": "stderr",
          "output_type": "stream",
          "text": [
            "     86/100      2.45G     0.3258     0.3545     0.8639         33        640: 100%|██████████| 19/19 [00:08<00:00,  2.30it/s]\n",
            "                 Class     Images  Instances      Box(P          R      mAP50  mAP50-95): 100%|██████████| 3/3 [00:00<00:00,  3.08it/s]"
          ]
        },
        {
          "name": "stdout",
          "output_type": "stream",
          "text": [
            "                   all         67        143      0.988      0.994      0.994      0.931\n"
          ]
        },
        {
          "name": "stderr",
          "output_type": "stream",
          "text": [
            "\n"
          ]
        },
        {
          "name": "stdout",
          "output_type": "stream",
          "text": [
            "\n",
            "      Epoch    GPU_mem   box_loss   cls_loss   dfl_loss  Instances       Size\n"
          ]
        },
        {
          "name": "stderr",
          "output_type": "stream",
          "text": [
            "     87/100      2.44G      0.324     0.3414     0.8513         36        640: 100%|██████████| 19/19 [00:04<00:00,  3.81it/s]\n",
            "                 Class     Images  Instances      Box(P          R      mAP50  mAP50-95): 100%|██████████| 3/3 [00:00<00:00,  3.45it/s]"
          ]
        },
        {
          "name": "stdout",
          "output_type": "stream",
          "text": [
            "                   all         67        143      0.973      0.986      0.994      0.924\n"
          ]
        },
        {
          "name": "stderr",
          "output_type": "stream",
          "text": [
            "\n"
          ]
        },
        {
          "name": "stdout",
          "output_type": "stream",
          "text": [
            "\n",
            "      Epoch    GPU_mem   box_loss   cls_loss   dfl_loss  Instances       Size\n"
          ]
        },
        {
          "name": "stderr",
          "output_type": "stream",
          "text": [
            "     88/100      2.47G      0.334     0.3729     0.8694         46        640: 100%|██████████| 19/19 [00:07<00:00,  2.67it/s]\n",
            "                 Class     Images  Instances      Box(P          R      mAP50  mAP50-95): 100%|██████████| 3/3 [00:01<00:00,  2.16it/s]"
          ]
        },
        {
          "name": "stdout",
          "output_type": "stream",
          "text": [
            "                   all         67        143       0.97      0.983      0.992      0.918\n"
          ]
        },
        {
          "name": "stderr",
          "output_type": "stream",
          "text": [
            "\n"
          ]
        },
        {
          "name": "stdout",
          "output_type": "stream",
          "text": [
            "\n",
            "      Epoch    GPU_mem   box_loss   cls_loss   dfl_loss  Instances       Size\n"
          ]
        },
        {
          "name": "stderr",
          "output_type": "stream",
          "text": [
            "     89/100      2.45G     0.3328     0.3537     0.8635         22        640: 100%|██████████| 19/19 [00:06<00:00,  2.95it/s]\n",
            "                 Class     Images  Instances      Box(P          R      mAP50  mAP50-95): 100%|██████████| 3/3 [00:00<00:00,  3.28it/s]"
          ]
        },
        {
          "name": "stdout",
          "output_type": "stream",
          "text": [
            "                   all         67        143      0.973      0.987      0.993       0.92\n"
          ]
        },
        {
          "name": "stderr",
          "output_type": "stream",
          "text": [
            "\n"
          ]
        },
        {
          "name": "stdout",
          "output_type": "stream",
          "text": [
            "\n",
            "      Epoch    GPU_mem   box_loss   cls_loss   dfl_loss  Instances       Size\n"
          ]
        },
        {
          "name": "stderr",
          "output_type": "stream",
          "text": [
            "     90/100      2.45G     0.3168       0.34     0.8574         37        640: 100%|██████████| 19/19 [00:04<00:00,  3.96it/s]\n",
            "                 Class     Images  Instances      Box(P          R      mAP50  mAP50-95): 100%|██████████| 3/3 [00:00<00:00,  3.23it/s]"
          ]
        },
        {
          "name": "stdout",
          "output_type": "stream",
          "text": [
            "                   all         67        143      0.982      0.983      0.994       0.92\n"
          ]
        },
        {
          "name": "stderr",
          "output_type": "stream",
          "text": [
            "\n"
          ]
        },
        {
          "name": "stdout",
          "output_type": "stream",
          "text": [
            "Closing dataloader mosaic\n",
            "\u001b[34m\u001b[1malbumentations: \u001b[0mBlur(p=0.01, blur_limit=(3, 7)), MedianBlur(p=0.01, blur_limit=(3, 7)), ToGray(p=0.01), CLAHE(p=0.01, clip_limit=(1, 4.0), tile_grid_size=(8, 8))\n"
          ]
        },
        {
          "name": "stderr",
          "output_type": "stream",
          "text": [
            "/usr/lib/python3.10/multiprocessing/popen_fork.py:66: RuntimeWarning: os.fork() was called. os.fork() is incompatible with multithreaded code, and JAX is multithreaded, so this will likely lead to a deadlock.\n",
            "  self.pid = os.fork()\n",
            "/usr/lib/python3.10/multiprocessing/popen_fork.py:66: RuntimeWarning: os.fork() was called. os.fork() is incompatible with multithreaded code, and JAX is multithreaded, so this will likely lead to a deadlock.\n",
            "  self.pid = os.fork()\n"
          ]
        },
        {
          "name": "stdout",
          "output_type": "stream",
          "text": [
            "\n",
            "      Epoch    GPU_mem   box_loss   cls_loss   dfl_loss  Instances       Size\n"
          ]
        },
        {
          "name": "stderr",
          "output_type": "stream",
          "text": [
            "     91/100      2.58G     0.2556     0.2758     0.7931         13        640: 100%|██████████| 19/19 [00:11<00:00,  1.60it/s]\n",
            "                 Class     Images  Instances      Box(P          R      mAP50  mAP50-95): 100%|██████████| 3/3 [00:00<00:00,  4.05it/s]"
          ]
        },
        {
          "name": "stdout",
          "output_type": "stream",
          "text": [
            "                   all         67        143      0.981      0.977      0.994      0.926\n"
          ]
        },
        {
          "name": "stderr",
          "output_type": "stream",
          "text": [
            "\n"
          ]
        },
        {
          "name": "stdout",
          "output_type": "stream",
          "text": [
            "\n",
            "      Epoch    GPU_mem   box_loss   cls_loss   dfl_loss  Instances       Size\n"
          ]
        },
        {
          "name": "stderr",
          "output_type": "stream",
          "text": [
            "     92/100      2.46G     0.2465     0.2719     0.7997          9        640: 100%|██████████| 19/19 [00:04<00:00,  3.94it/s]\n",
            "                 Class     Images  Instances      Box(P          R      mAP50  mAP50-95): 100%|██████████| 3/3 [00:00<00:00,  4.32it/s]"
          ]
        },
        {
          "name": "stdout",
          "output_type": "stream",
          "text": [
            "                   all         67        143      0.962      0.989      0.993      0.923\n"
          ]
        },
        {
          "name": "stderr",
          "output_type": "stream",
          "text": [
            "\n"
          ]
        },
        {
          "name": "stdout",
          "output_type": "stream",
          "text": [
            "\n",
            "      Epoch    GPU_mem   box_loss   cls_loss   dfl_loss  Instances       Size\n"
          ]
        },
        {
          "name": "stderr",
          "output_type": "stream",
          "text": [
            "     93/100      2.46G     0.2437     0.2554     0.8009         10        640: 100%|██████████| 19/19 [00:07<00:00,  2.67it/s]\n",
            "                 Class     Images  Instances      Box(P          R      mAP50  mAP50-95): 100%|██████████| 3/3 [00:01<00:00,  1.78it/s]"
          ]
        },
        {
          "name": "stdout",
          "output_type": "stream",
          "text": [
            "                   all         67        143      0.971      0.973      0.993      0.928\n"
          ]
        },
        {
          "name": "stderr",
          "output_type": "stream",
          "text": [
            "\n"
          ]
        },
        {
          "name": "stdout",
          "output_type": "stream",
          "text": [
            "\n",
            "      Epoch    GPU_mem   box_loss   cls_loss   dfl_loss  Instances       Size\n"
          ]
        },
        {
          "name": "stderr",
          "output_type": "stream",
          "text": [
            "     94/100      2.43G     0.2352     0.2503     0.7953         11        640: 100%|██████████| 19/19 [00:05<00:00,  3.20it/s]\n",
            "                 Class     Images  Instances      Box(P          R      mAP50  mAP50-95): 100%|██████████| 3/3 [00:00<00:00,  3.40it/s]"
          ]
        },
        {
          "name": "stdout",
          "output_type": "stream",
          "text": [
            "                   all         67        143      0.978      0.987      0.994      0.925\n"
          ]
        },
        {
          "name": "stderr",
          "output_type": "stream",
          "text": [
            "\n"
          ]
        },
        {
          "name": "stdout",
          "output_type": "stream",
          "text": [
            "\n",
            "      Epoch    GPU_mem   box_loss   cls_loss   dfl_loss  Instances       Size\n"
          ]
        },
        {
          "name": "stderr",
          "output_type": "stream",
          "text": [
            "     95/100      2.45G     0.2427     0.2502     0.7973         17        640: 100%|██████████| 19/19 [00:04<00:00,  4.21it/s]\n",
            "                 Class     Images  Instances      Box(P          R      mAP50  mAP50-95): 100%|██████████| 3/3 [00:00<00:00,  4.07it/s]"
          ]
        },
        {
          "name": "stdout",
          "output_type": "stream",
          "text": [
            "                   all         67        143      0.978       0.99      0.994      0.926\n"
          ]
        },
        {
          "name": "stderr",
          "output_type": "stream",
          "text": [
            "\n"
          ]
        },
        {
          "name": "stdout",
          "output_type": "stream",
          "text": [
            "\n",
            "      Epoch    GPU_mem   box_loss   cls_loss   dfl_loss  Instances       Size\n"
          ]
        },
        {
          "name": "stderr",
          "output_type": "stream",
          "text": [
            "     96/100      2.45G     0.2454     0.2521     0.7939         13        640: 100%|██████████| 19/19 [00:07<00:00,  2.45it/s]\n",
            "                 Class     Images  Instances      Box(P          R      mAP50  mAP50-95): 100%|██████████| 3/3 [00:01<00:00,  2.12it/s]"
          ]
        },
        {
          "name": "stdout",
          "output_type": "stream",
          "text": [
            "                   all         67        143      0.975      0.992      0.994      0.925\n"
          ]
        },
        {
          "name": "stderr",
          "output_type": "stream",
          "text": [
            "\n"
          ]
        },
        {
          "name": "stdout",
          "output_type": "stream",
          "text": [
            "\n",
            "      Epoch    GPU_mem   box_loss   cls_loss   dfl_loss  Instances       Size\n"
          ]
        },
        {
          "name": "stderr",
          "output_type": "stream",
          "text": [
            "     97/100      2.45G     0.2342     0.2404      0.789         13        640: 100%|██████████| 19/19 [00:05<00:00,  3.41it/s]\n",
            "                 Class     Images  Instances      Box(P          R      mAP50  mAP50-95): 100%|██████████| 3/3 [00:00<00:00,  4.14it/s]"
          ]
        },
        {
          "name": "stdout",
          "output_type": "stream",
          "text": [
            "                   all         67        143      0.985      0.979      0.994      0.924\n"
          ]
        },
        {
          "name": "stderr",
          "output_type": "stream",
          "text": [
            "\n"
          ]
        },
        {
          "name": "stdout",
          "output_type": "stream",
          "text": [
            "\n",
            "      Epoch    GPU_mem   box_loss   cls_loss   dfl_loss  Instances       Size\n"
          ]
        },
        {
          "name": "stderr",
          "output_type": "stream",
          "text": [
            "     98/100      2.45G     0.2353     0.2395     0.7967         16        640: 100%|██████████| 19/19 [00:04<00:00,  4.09it/s]\n",
            "                 Class     Images  Instances      Box(P          R      mAP50  mAP50-95): 100%|██████████| 3/3 [00:00<00:00,  3.07it/s]"
          ]
        },
        {
          "name": "stdout",
          "output_type": "stream",
          "text": [
            "                   all         67        143      0.968      0.992      0.994      0.931\n"
          ]
        },
        {
          "name": "stderr",
          "output_type": "stream",
          "text": [
            "\n"
          ]
        },
        {
          "name": "stdout",
          "output_type": "stream",
          "text": [
            "\n",
            "      Epoch    GPU_mem   box_loss   cls_loss   dfl_loss  Instances       Size\n"
          ]
        },
        {
          "name": "stderr",
          "output_type": "stream",
          "text": [
            "     99/100      2.45G     0.2378     0.2415     0.7844         10        640: 100%|██████████| 19/19 [00:07<00:00,  2.38it/s]\n",
            "                 Class     Images  Instances      Box(P          R      mAP50  mAP50-95): 100%|██████████| 3/3 [00:01<00:00,  1.86it/s]"
          ]
        },
        {
          "name": "stdout",
          "output_type": "stream",
          "text": [
            "                   all         67        143      0.978      0.991      0.994      0.931\n"
          ]
        },
        {
          "name": "stderr",
          "output_type": "stream",
          "text": [
            "\n"
          ]
        },
        {
          "name": "stdout",
          "output_type": "stream",
          "text": [
            "\n",
            "      Epoch    GPU_mem   box_loss   cls_loss   dfl_loss  Instances       Size\n"
          ]
        },
        {
          "name": "stderr",
          "output_type": "stream",
          "text": [
            "    100/100      2.45G     0.2254     0.2328     0.7842         12        640: 100%|██████████| 19/19 [00:05<00:00,  3.53it/s]\n",
            "                 Class     Images  Instances      Box(P          R      mAP50  mAP50-95): 100%|██████████| 3/3 [00:00<00:00,  4.03it/s]"
          ]
        },
        {
          "name": "stdout",
          "output_type": "stream",
          "text": [
            "                   all         67        143      0.976      0.995      0.994      0.931\n"
          ]
        },
        {
          "name": "stderr",
          "output_type": "stream",
          "text": [
            "\n"
          ]
        },
        {
          "name": "stdout",
          "output_type": "stream",
          "text": [
            "\n",
            "100 epochs completed in 0.249 hours.\n",
            "Optimizer stripped from runs/detect/train2/weights/last.pt, 6.2MB\n",
            "Optimizer stripped from runs/detect/train2/weights/best.pt, 6.2MB\n",
            "\n",
            "Validating runs/detect/train2/weights/best.pt...\n",
            "Ultralytics YOLOv8.2.45 🚀 Python-3.10.12 torch-2.3.0+cu121 CUDA:0 (Tesla T4, 15102MiB)\n",
            "Model summary (fused): 168 layers, 3006818 parameters, 0 gradients, 8.1 GFLOPs\n"
          ]
        },
        {
          "name": "stderr",
          "output_type": "stream",
          "text": [
            "                 Class     Images  Instances      Box(P          R      mAP50  mAP50-95): 100%|██████████| 3/3 [00:01<00:00,  2.97it/s]\n"
          ]
        },
        {
          "name": "stdout",
          "output_type": "stream",
          "text": [
            "                   all         67        143      0.958      0.989      0.994      0.935\n",
            "                   ace         20         26      0.926      0.962       0.99      0.938\n",
            "                  king         20         23      0.957      0.975      0.992      0.921\n",
            "                 queen         20         26      0.965          1      0.995      0.927\n",
            "                  jack         17         24      0.985          1      0.995      0.918\n",
            "                   ten         15         18      0.916          1      0.995       0.96\n",
            "                  nine         19         26      0.997          1      0.995      0.945\n",
            "Speed: 0.4ms preprocess, 3.3ms inference, 0.0ms loss, 2.3ms postprocess per image\n",
            "Results saved to \u001b[1mruns/detect/train2\u001b[0m\n"
          ]
        }
      ],
      "source": [
        "\n",
        "model = YOLO('yolov8n.pt')\n",
        "results = model.train(data='cards_dataset/data.yaml', epochs=100)\n"
      ]
    },
    {
      "cell_type": "markdown",
      "metadata": {
        "id": "OJ4qHnTP3cls"
      },
      "source": [
        "### Export best weights"
      ]
    },
    {
      "cell_type": "code",
      "execution_count": 7,
      "metadata": {
        "colab": {
          "base_uri": "https://localhost:8080/",
          "height": 275
        },
        "id": "w4GIXz6YoYmW",
        "outputId": "c53f7c47-943c-4cd7-8c75-b657c1b94dd2"
      },
      "outputs": [
        {
          "name": "stdout",
          "output_type": "stream",
          "text": [
            "Ultralytics YOLOv8.2.45 🚀 Python-3.10.12 torch-2.3.0+cu121 CPU (Intel Xeon 2.00GHz)\n",
            "Model summary (fused): 168 layers, 3006818 parameters, 0 gradients, 8.1 GFLOPs\n",
            "\n",
            "\u001b[34m\u001b[1mPyTorch:\u001b[0m starting from 'runs/detect/train2/weights/best.pt' with input shape (1, 3, 640, 640) BCHW and output shape(s) (1, 10, 8400) (6.0 MB)\n",
            "\n",
            "\u001b[34m\u001b[1mTorchScript:\u001b[0m starting export with torch 2.3.0+cu121...\n",
            "\u001b[34m\u001b[1mTorchScript:\u001b[0m export success ✅ 2.9s, saved as 'runs/detect/train2/weights/best.torchscript' (11.9 MB)\n",
            "\n",
            "Export complete (4.7s)\n",
            "Results saved to \u001b[1m/content/runs/detect/train2/weights\u001b[0m\n",
            "Predict:         yolo predict task=detect model=runs/detect/train2/weights/best.torchscript imgsz=640  \n",
            "Validate:        yolo val task=detect model=runs/detect/train2/weights/best.torchscript imgsz=640 data=cards_dataset/data.yaml  \n",
            "Visualize:       https://netron.app\n"
          ]
        },
        {
          "data": {
            "application/vnd.google.colaboratory.intrinsic+json": {
              "type": "string"
            },
            "text/plain": [
              "'runs/detect/train2/weights/best.torchscript'"
            ]
          },
          "execution_count": 7,
          "metadata": {},
          "output_type": "execute_result"
        }
      ],
      "source": [
        "model.export()"
      ]
    },
    {
      "cell_type": "markdown",
      "metadata": {},
      "source": [
        "### Import weights (if needed)"
      ]
    },
    {
      "cell_type": "code",
      "execution_count": 2,
      "metadata": {},
      "outputs": [],
      "source": [
        "model = YOLO('best_weights/yolov8n_cards_detection.pt')"
      ]
    },
    {
      "cell_type": "markdown",
      "metadata": {
        "id": "Dh-QY1gi3f5M"
      },
      "source": [
        "### Inference"
      ]
    },
    {
      "cell_type": "code",
      "execution_count": 3,
      "metadata": {
        "id": "xKnrGnao5C8q"
      },
      "outputs": [],
      "source": [
        "import cv2\n",
        "import os"
      ]
    },
    {
      "cell_type": "code",
      "execution_count": 22,
      "metadata": {},
      "outputs": [
        {
          "data": {
            "text/plain": [
              "['cam_image2.jpg',\n",
              " 'cam_image4.jpg',\n",
              " 'cam_image45.jpg',\n",
              " 'cam_image5.jpg',\n",
              " 'cam_image6.jpg',\n",
              " 'cam_image7.jpg',\n",
              " 'cam_image8.jpg',\n",
              " 'IMG_2383.JPG',\n",
              " 'IMG_2384.JPG',\n",
              " 'IMG_2387.JPG',\n",
              " 'IMG_2391.JPG',\n",
              " 'IMG_2395.JPG',\n",
              " 'IMG_2403.JPG',\n",
              " 'IMG_2432.JPG',\n",
              " 'IMG_2433.JPG',\n",
              " 'IMG_2435.JPG',\n",
              " 'IMG_2436.JPG',\n",
              " 'IMG_2440.JPG',\n",
              " 'IMG_2461.JPG',\n",
              " 'IMG_2463.JPG',\n",
              " 'IMG_2470.JPG',\n",
              " 'IMG_2476.JPG',\n",
              " 'IMG_2479.JPG',\n",
              " 'IMG_2482.JPG',\n",
              " 'IMG_2485.JPG',\n",
              " 'IMG_2510.JPG',\n",
              " 'IMG_2530.JPG',\n",
              " 'IMG_2531.JPG',\n",
              " 'IMG_2532.JPG',\n",
              " 'IMG_2539.JPG',\n",
              " 'IMG_2540.JPG',\n",
              " 'IMG_2544.JPG',\n",
              " 'IMG_2550.JPG',\n",
              " 'IMG_2551.JPG',\n",
              " 'IMG_2554.JPG',\n",
              " 'IMG_2555.JPG',\n",
              " 'IMG_2557.JPG',\n",
              " 'IMG_2560.JPG',\n",
              " 'IMG_2561.JPG',\n",
              " 'IMG_2564.JPG',\n",
              " 'IMG_2568.JPG',\n",
              " 'IMG_2571.JPG',\n",
              " 'IMG_2573.JPG',\n",
              " 'IMG_2580.JPG',\n",
              " 'IMG_2583.JPG',\n",
              " 'IMG_2585.JPG',\n",
              " 'IMG_2591.JPG',\n",
              " 'IMG_2592.JPG',\n",
              " 'IMG_2594.JPG',\n",
              " 'IMG_2595.JPG',\n",
              " 'IMG_2598.JPG',\n",
              " 'IMG_2600.JPG',\n",
              " 'IMG_2604.JPG',\n",
              " 'IMG_2634.JPG',\n",
              " 'IMG_2636.JPG',\n",
              " 'IMG_2639.JPG',\n",
              " 'IMG_2640.JPG',\n",
              " 'IMG_2647.JPG',\n",
              " 'IMG_2651.JPG',\n",
              " 'IMG_2654.JPG',\n",
              " 'IMG_2656.JPG',\n",
              " 'IMG_2662.JPG',\n",
              " 'IMG_2670.JPG',\n",
              " 'IMG_2675.JPG',\n",
              " 'IMG_2677.JPG',\n",
              " 'IMG_2678.JPG',\n",
              " 'IMG_2686.JPG']"
            ]
          },
          "execution_count": 22,
          "metadata": {},
          "output_type": "execute_result"
        }
      ],
      "source": [
        "dir = r'cards_dataset\\images\\val'\n",
        "all_images = os.listdir(dir)\n",
        "test_imgs = [img for img in all_images if img.endswith(('.jpg', '.png', '.JPG'))]\n",
        "test_imgs"
      ]
    },
    {
      "cell_type": "code",
      "execution_count": 23,
      "metadata": {
        "id": "_L7f0IO03gQU"
      },
      "outputs": [
        {
          "name": "stdout",
          "output_type": "stream",
          "text": [
            "\n",
            "image 1/1 c:\\Users\\79252\\Desktop\\\\6 \\\\Yolo-detecting-cards\\cards_dataset\\images\\val\\cam_image2.jpg: 384x640 4 kings, 164.2ms\n",
            "Speed: 14.8ms preprocess, 164.2ms inference, 0.0ms postprocess per image at shape (1, 3, 384, 640)\n",
            "\n",
            "image 1/1 c:\\Users\\79252\\Desktop\\\\6 \\\\Yolo-detecting-cards\\cards_dataset\\images\\val\\cam_image4.jpg: 384x640 4 jacks, 107.8ms\n",
            "Speed: 0.0ms preprocess, 107.8ms inference, 0.0ms postprocess per image at shape (1, 3, 384, 640)\n",
            "\n",
            "image 1/1 c:\\Users\\79252\\Desktop\\\\6 \\\\Yolo-detecting-cards\\cards_dataset\\images\\val\\cam_image45.jpg: 384x640 1 ace, 1 king, 1 jack, 1 nine, 104.4ms\n",
            "Speed: 3.3ms preprocess, 104.4ms inference, 0.0ms postprocess per image at shape (1, 3, 384, 640)\n",
            "\n",
            "image 1/1 c:\\Users\\79252\\Desktop\\\\6 \\\\Yolo-detecting-cards\\cards_dataset\\images\\val\\cam_image5.jpg: 384x640 4 tens, 110.6ms\n",
            "Speed: 0.0ms preprocess, 110.6ms inference, 0.0ms postprocess per image at shape (1, 3, 384, 640)\n",
            "\n",
            "image 1/1 c:\\Users\\79252\\Desktop\\\\6 \\\\Yolo-detecting-cards\\cards_dataset\\images\\val\\cam_image6.jpg: 384x640 1 ten, 4 nines, 98.6ms\n",
            "Speed: 0.0ms preprocess, 98.6ms inference, 0.0ms postprocess per image at shape (1, 3, 384, 640)\n",
            "\n",
            "image 1/1 c:\\Users\\79252\\Desktop\\\\6 \\\\Yolo-detecting-cards\\cards_dataset\\images\\val\\cam_image7.jpg: 384x640 4 queens, 1 ten, 97.8ms\n",
            "Speed: 0.0ms preprocess, 97.8ms inference, 0.0ms postprocess per image at shape (1, 3, 384, 640)\n",
            "\n",
            "image 1/1 c:\\Users\\79252\\Desktop\\\\6 \\\\Yolo-detecting-cards\\cards_dataset\\images\\val\\cam_image8.jpg: 384x640 4 aces, 100.1ms\n",
            "Speed: 0.0ms preprocess, 100.1ms inference, 0.0ms postprocess per image at shape (1, 3, 384, 640)\n",
            "\n",
            "image 1/1 c:\\Users\\79252\\Desktop\\\\6 \\\\Yolo-detecting-cards\\cards_dataset\\images\\val\\IMG_2383.JPG: 640x480 1 ace, 126.1ms\n",
            "Speed: 0.9ms preprocess, 126.1ms inference, 0.0ms postprocess per image at shape (1, 3, 640, 480)\n",
            "\n",
            "image 1/1 c:\\Users\\79252\\Desktop\\\\6 \\\\Yolo-detecting-cards\\cards_dataset\\images\\val\\IMG_2384.JPG: 640x480 1 king, 126.1ms\n",
            "Speed: 0.0ms preprocess, 126.1ms inference, 0.0ms postprocess per image at shape (1, 3, 640, 480)\n",
            "\n",
            "image 1/1 c:\\Users\\79252\\Desktop\\\\6 \\\\Yolo-detecting-cards\\cards_dataset\\images\\val\\IMG_2387.JPG: 640x480 1 queen, 131.2ms\n",
            "Speed: 0.0ms preprocess, 131.2ms inference, 0.9ms postprocess per image at shape (1, 3, 640, 480)\n",
            "\n",
            "image 1/1 c:\\Users\\79252\\Desktop\\\\6 \\\\Yolo-detecting-cards\\cards_dataset\\images\\val\\IMG_2391.JPG: 640x480 1 nine, 123.6ms\n",
            "Speed: 0.0ms preprocess, 123.6ms inference, 0.0ms postprocess per image at shape (1, 3, 640, 480)\n",
            "\n",
            "image 1/1 c:\\Users\\79252\\Desktop\\\\6 \\\\Yolo-detecting-cards\\cards_dataset\\images\\val\\IMG_2395.JPG: 640x480 1 ten, 114.9ms\n",
            "Speed: 0.4ms preprocess, 114.9ms inference, 0.0ms postprocess per image at shape (1, 3, 640, 480)\n",
            "\n",
            "image 1/1 c:\\Users\\79252\\Desktop\\\\6 \\\\Yolo-detecting-cards\\cards_dataset\\images\\val\\IMG_2403.JPG: 640x480 1 jack, 122.9ms\n",
            "Speed: 0.0ms preprocess, 122.9ms inference, 0.0ms postprocess per image at shape (1, 3, 640, 480)\n",
            "\n",
            "image 1/1 c:\\Users\\79252\\Desktop\\\\6 \\\\Yolo-detecting-cards\\cards_dataset\\images\\val\\IMG_2432.JPG: 640x480 1 ten, 125.0ms\n",
            "Speed: 0.0ms preprocess, 125.0ms inference, 0.0ms postprocess per image at shape (1, 3, 640, 480)\n",
            "\n",
            "image 1/1 c:\\Users\\79252\\Desktop\\\\6 \\\\Yolo-detecting-cards\\cards_dataset\\images\\val\\IMG_2433.JPG: 640x480 1 queen, 120.2ms\n",
            "Speed: 10.0ms preprocess, 120.2ms inference, 0.0ms postprocess per image at shape (1, 3, 640, 480)\n",
            "\n",
            "image 1/1 c:\\Users\\79252\\Desktop\\\\6 \\\\Yolo-detecting-cards\\cards_dataset\\images\\val\\IMG_2435.JPG: 640x480 1 nine, 117.1ms\n",
            "Speed: 0.0ms preprocess, 117.1ms inference, 0.0ms postprocess per image at shape (1, 3, 640, 480)\n",
            "\n",
            "image 1/1 c:\\Users\\79252\\Desktop\\\\6 \\\\Yolo-detecting-cards\\cards_dataset\\images\\val\\IMG_2436.JPG: 640x480 1 jack, 107.7ms\n",
            "Speed: 2.7ms preprocess, 107.7ms inference, 0.0ms postprocess per image at shape (1, 3, 640, 480)\n",
            "\n",
            "image 1/1 c:\\Users\\79252\\Desktop\\\\6 \\\\Yolo-detecting-cards\\cards_dataset\\images\\val\\IMG_2440.JPG: 640x480 1 king, 113.5ms\n",
            "Speed: 0.0ms preprocess, 113.5ms inference, 0.0ms postprocess per image at shape (1, 3, 640, 480)\n",
            "\n",
            "image 1/1 c:\\Users\\79252\\Desktop\\\\6 \\\\Yolo-detecting-cards\\cards_dataset\\images\\val\\IMG_2461.JPG: 640x480 1 ten, 119.5ms\n",
            "Speed: 3.9ms preprocess, 119.5ms inference, 0.0ms postprocess per image at shape (1, 3, 640, 480)\n",
            "\n",
            "image 1/1 c:\\Users\\79252\\Desktop\\\\6 \\\\Yolo-detecting-cards\\cards_dataset\\images\\val\\IMG_2463.JPG: 640x480 1 nine, 119.9ms\n",
            "Speed: 1.9ms preprocess, 119.9ms inference, 1.0ms postprocess per image at shape (1, 3, 640, 480)\n",
            "\n",
            "image 1/1 c:\\Users\\79252\\Desktop\\\\6 \\\\Yolo-detecting-cards\\cards_dataset\\images\\val\\IMG_2470.JPG: 640x480 1 ace, 138.6ms\n",
            "Speed: 4.7ms preprocess, 138.6ms inference, 0.0ms postprocess per image at shape (1, 3, 640, 480)\n",
            "\n",
            "image 1/1 c:\\Users\\79252\\Desktop\\\\6 \\\\Yolo-detecting-cards\\cards_dataset\\images\\val\\IMG_2476.JPG: 640x480 1 ace, 122.6ms\n",
            "Speed: 0.0ms preprocess, 122.6ms inference, 0.0ms postprocess per image at shape (1, 3, 640, 480)\n",
            "\n",
            "image 1/1 c:\\Users\\79252\\Desktop\\\\6 \\\\Yolo-detecting-cards\\cards_dataset\\images\\val\\IMG_2479.JPG: 640x480 1 jack, 114.3ms\n",
            "Speed: 1.8ms preprocess, 114.3ms inference, 0.0ms postprocess per image at shape (1, 3, 640, 480)\n",
            "\n",
            "image 1/1 c:\\Users\\79252\\Desktop\\\\6 \\\\Yolo-detecting-cards\\cards_dataset\\images\\val\\IMG_2482.JPG: 640x480 1 queen, 120.0ms\n",
            "Speed: 0.0ms preprocess, 120.0ms inference, 3.0ms postprocess per image at shape (1, 3, 640, 480)\n",
            "\n",
            "image 1/1 c:\\Users\\79252\\Desktop\\\\6 \\\\Yolo-detecting-cards\\cards_dataset\\images\\val\\IMG_2485.JPG: 640x480 1 king, 113.8ms\n",
            "Speed: 0.0ms preprocess, 113.8ms inference, 0.0ms postprocess per image at shape (1, 3, 640, 480)\n",
            "\n",
            "image 1/1 c:\\Users\\79252\\Desktop\\\\6 \\\\Yolo-detecting-cards\\cards_dataset\\images\\val\\IMG_2510.JPG: 640x480 1 king, 116.4ms\n",
            "Speed: 0.0ms preprocess, 116.4ms inference, 0.0ms postprocess per image at shape (1, 3, 640, 480)\n",
            "\n",
            "image 1/1 c:\\Users\\79252\\Desktop\\\\6 \\\\Yolo-detecting-cards\\cards_dataset\\images\\val\\IMG_2530.JPG: 640x480 1 queen, 112.1ms\n",
            "Speed: 0.0ms preprocess, 112.1ms inference, 0.0ms postprocess per image at shape (1, 3, 640, 480)\n",
            "\n",
            "image 1/1 c:\\Users\\79252\\Desktop\\\\6 \\\\Yolo-detecting-cards\\cards_dataset\\images\\val\\IMG_2531.JPG: 640x480 1 jack, 106.5ms\n",
            "Speed: 10.0ms preprocess, 106.5ms inference, 0.0ms postprocess per image at shape (1, 3, 640, 480)\n",
            "\n",
            "image 1/1 c:\\Users\\79252\\Desktop\\\\6 \\\\Yolo-detecting-cards\\cards_dataset\\images\\val\\IMG_2532.JPG: 640x480 1 ace, 1 jack, 112.5ms\n",
            "Speed: 0.5ms preprocess, 112.5ms inference, 0.0ms postprocess per image at shape (1, 3, 640, 480)\n",
            "\n",
            "image 1/1 c:\\Users\\79252\\Desktop\\\\6 \\\\Yolo-detecting-cards\\cards_dataset\\images\\val\\IMG_2539.JPG: 640x480 1 king, 107.9ms\n",
            "Speed: 2.3ms preprocess, 107.9ms inference, 0.0ms postprocess per image at shape (1, 3, 640, 480)\n",
            "\n",
            "image 1/1 c:\\Users\\79252\\Desktop\\\\6 \\\\Yolo-detecting-cards\\cards_dataset\\images\\val\\IMG_2540.JPG: 640x480 1 ten, 109.9ms\n",
            "Speed: 1.9ms preprocess, 109.9ms inference, 3.3ms postprocess per image at shape (1, 3, 640, 480)\n",
            "\n",
            "image 1/1 c:\\Users\\79252\\Desktop\\\\6 \\\\Yolo-detecting-cards\\cards_dataset\\images\\val\\IMG_2544.JPG: 640x480 1 nine, 112.1ms\n",
            "Speed: 2.7ms preprocess, 112.1ms inference, 0.0ms postprocess per image at shape (1, 3, 640, 480)\n",
            "\n",
            "image 1/1 c:\\Users\\79252\\Desktop\\\\6 \\\\Yolo-detecting-cards\\cards_dataset\\images\\val\\IMG_2550.JPG: 640x480 1 ace, 1 queen, 116.5ms\n",
            "Speed: 0.0ms preprocess, 116.5ms inference, 0.0ms postprocess per image at shape (1, 3, 640, 480)\n",
            "\n",
            "image 1/1 c:\\Users\\79252\\Desktop\\\\6 \\\\Yolo-detecting-cards\\cards_dataset\\images\\val\\IMG_2551.JPG: 640x480 1 ace, 113.2ms\n",
            "Speed: 3.3ms preprocess, 113.2ms inference, 0.0ms postprocess per image at shape (1, 3, 640, 480)\n",
            "\n",
            "image 1/1 c:\\Users\\79252\\Desktop\\\\6 \\\\Yolo-detecting-cards\\cards_dataset\\images\\val\\IMG_2554.JPG: 640x480 1 jack, 126.8ms\n",
            "Speed: 0.0ms preprocess, 126.8ms inference, 0.9ms postprocess per image at shape (1, 3, 640, 480)\n",
            "\n",
            "image 1/1 c:\\Users\\79252\\Desktop\\\\6 \\\\Yolo-detecting-cards\\cards_dataset\\images\\val\\IMG_2555.JPG: 640x480 1 ace, 1 king, 1 jack, 111.9ms\n",
            "Speed: 1.0ms preprocess, 111.9ms inference, 0.0ms postprocess per image at shape (1, 3, 640, 480)\n",
            "\n",
            "image 1/1 c:\\Users\\79252\\Desktop\\\\6 \\\\Yolo-detecting-cards\\cards_dataset\\images\\val\\IMG_2557.JPG: 640x480 1 queen, 116.5ms\n",
            "Speed: 0.0ms preprocess, 116.5ms inference, 0.0ms postprocess per image at shape (1, 3, 640, 480)\n",
            "\n",
            "image 1/1 c:\\Users\\79252\\Desktop\\\\6 \\\\Yolo-detecting-cards\\cards_dataset\\images\\val\\IMG_2560.JPG: 640x480 1 king, 2 queens, 1 ten, 117.9ms\n",
            "Speed: 2.4ms preprocess, 117.9ms inference, 0.0ms postprocess per image at shape (1, 3, 640, 480)\n",
            "\n",
            "image 1/1 c:\\Users\\79252\\Desktop\\\\6 \\\\Yolo-detecting-cards\\cards_dataset\\images\\val\\IMG_2561.JPG: 640x480 1 ace, 1 king, 2 nines, 110.3ms\n",
            "Speed: 2.0ms preprocess, 110.3ms inference, 0.0ms postprocess per image at shape (1, 3, 640, 480)\n",
            "\n",
            "image 1/1 c:\\Users\\79252\\Desktop\\\\6 \\\\Yolo-detecting-cards\\cards_dataset\\images\\val\\IMG_2564.JPG: 640x480 1 ace, 2 queens, 1 jack, 1 ten, 112.3ms\n",
            "Speed: 7.0ms preprocess, 112.3ms inference, 0.0ms postprocess per image at shape (1, 3, 640, 480)\n",
            "\n",
            "image 1/1 c:\\Users\\79252\\Desktop\\\\6 \\\\Yolo-detecting-cards\\cards_dataset\\images\\val\\IMG_2568.JPG: 640x480 1 king, 1 ten, 117.3ms\n",
            "Speed: 0.0ms preprocess, 117.3ms inference, 0.0ms postprocess per image at shape (1, 3, 640, 480)\n",
            "\n",
            "image 1/1 c:\\Users\\79252\\Desktop\\\\6 \\\\Yolo-detecting-cards\\cards_dataset\\images\\val\\IMG_2571.JPG: 640x480 1 queen, 1 ten, 1 nine, 112.5ms\n",
            "Speed: 0.0ms preprocess, 112.5ms inference, 0.0ms postprocess per image at shape (1, 3, 640, 480)\n",
            "\n",
            "image 1/1 c:\\Users\\79252\\Desktop\\\\6 \\\\Yolo-detecting-cards\\cards_dataset\\images\\val\\IMG_2573.JPG: 640x480 2 aces, 1 king, 1 queen, 112.8ms\n",
            "Speed: 0.0ms preprocess, 112.8ms inference, 0.0ms postprocess per image at shape (1, 3, 640, 480)\n",
            "\n",
            "image 1/1 c:\\Users\\79252\\Desktop\\\\6 \\\\Yolo-detecting-cards\\cards_dataset\\images\\val\\IMG_2580.JPG: 640x480 2 aces, 1 king, 1 jack, 2 nines, 109.6ms\n",
            "Speed: 0.0ms preprocess, 109.6ms inference, 0.0ms postprocess per image at shape (1, 3, 640, 480)\n",
            "\n",
            "image 1/1 c:\\Users\\79252\\Desktop\\\\6 \\\\Yolo-detecting-cards\\cards_dataset\\images\\val\\IMG_2583.JPG: 640x480 1 ace, 1 jack, 1 ten, 1 nine, 130.9ms\n",
            "Speed: 20.5ms preprocess, 130.9ms inference, 1.1ms postprocess per image at shape (1, 3, 640, 480)\n",
            "\n",
            "image 1/1 c:\\Users\\79252\\Desktop\\\\6 \\\\Yolo-detecting-cards\\cards_dataset\\images\\val\\IMG_2585.JPG: 640x480 1 king, 2 queens, 2 jacks, 1 ten, 129.7ms\n",
            "Speed: 3.1ms preprocess, 129.7ms inference, 1.0ms postprocess per image at shape (1, 3, 640, 480)\n",
            "\n",
            "image 1/1 c:\\Users\\79252\\Desktop\\\\6 \\\\Yolo-detecting-cards\\cards_dataset\\images\\val\\IMG_2591.JPG: 640x480 2 aces, 1 king, 1 nine, 138.6ms\n",
            "Speed: 2.2ms preprocess, 138.6ms inference, 0.0ms postprocess per image at shape (1, 3, 640, 480)\n",
            "\n",
            "image 1/1 c:\\Users\\79252\\Desktop\\\\6 \\\\Yolo-detecting-cards\\cards_dataset\\images\\val\\IMG_2592.JPG: 640x480 2 aces, 1 king, 1 queen, 1 ten, 136.8ms\n",
            "Speed: 2.0ms preprocess, 136.8ms inference, 0.0ms postprocess per image at shape (1, 3, 640, 480)\n",
            "\n",
            "image 1/1 c:\\Users\\79252\\Desktop\\\\6 \\\\Yolo-detecting-cards\\cards_dataset\\images\\val\\IMG_2594.JPG: 640x480 1 queen, 2 jacks, 1 ten, 131.8ms\n",
            "Speed: 0.0ms preprocess, 131.8ms inference, 0.0ms postprocess per image at shape (1, 3, 640, 480)\n",
            "\n",
            "image 1/1 c:\\Users\\79252\\Desktop\\\\6 \\\\Yolo-detecting-cards\\cards_dataset\\images\\val\\IMG_2595.JPG: 640x480 1 ace, 1 queen, 119.3ms\n",
            "Speed: 3.0ms preprocess, 119.3ms inference, 1.0ms postprocess per image at shape (1, 3, 640, 480)\n",
            "\n",
            "image 1/1 c:\\Users\\79252\\Desktop\\\\6 \\\\Yolo-detecting-cards\\cards_dataset\\images\\val\\IMG_2598.JPG: 640x480 2 aces, 1 nine, 114.5ms\n",
            "Speed: 2.0ms preprocess, 114.5ms inference, 1.0ms postprocess per image at shape (1, 3, 640, 480)\n",
            "\n",
            "image 1/1 c:\\Users\\79252\\Desktop\\\\6 \\\\Yolo-detecting-cards\\cards_dataset\\images\\val\\IMG_2600.JPG: 640x480 1 king, 1 jack, 1 ten, 1 nine, 128.2ms\n",
            "Speed: 1.0ms preprocess, 128.2ms inference, 0.0ms postprocess per image at shape (1, 3, 640, 480)\n",
            "\n",
            "image 1/1 c:\\Users\\79252\\Desktop\\\\6 \\\\Yolo-detecting-cards\\cards_dataset\\images\\val\\IMG_2604.JPG: 640x480 1 ace, 1 nine, 117.1ms\n",
            "Speed: 2.0ms preprocess, 117.1ms inference, 0.0ms postprocess per image at shape (1, 3, 640, 480)\n",
            "\n",
            "image 1/1 c:\\Users\\79252\\Desktop\\\\6 \\\\Yolo-detecting-cards\\cards_dataset\\images\\val\\IMG_2634.JPG: 640x480 2 jacks, 114.0ms\n",
            "Speed: 2.0ms preprocess, 114.0ms inference, 0.0ms postprocess per image at shape (1, 3, 640, 480)\n",
            "\n",
            "image 1/1 c:\\Users\\79252\\Desktop\\\\6 \\\\Yolo-detecting-cards\\cards_dataset\\images\\val\\IMG_2636.JPG: 640x480 2 queens, 116.3ms\n",
            "Speed: 0.0ms preprocess, 116.3ms inference, 0.0ms postprocess per image at shape (1, 3, 640, 480)\n",
            "\n",
            "image 1/1 c:\\Users\\79252\\Desktop\\\\6 \\\\Yolo-detecting-cards\\cards_dataset\\images\\val\\IMG_2639.JPG: 640x480 1 king, 1 jack, 1 ten, 1 nine, 130.0ms\n",
            "Speed: 0.0ms preprocess, 130.0ms inference, 0.7ms postprocess per image at shape (1, 3, 640, 480)\n",
            "\n",
            "image 1/1 c:\\Users\\79252\\Desktop\\\\6 \\\\Yolo-detecting-cards\\cards_dataset\\images\\val\\IMG_2640.JPG: 640x480 1 ace, 1 king, 116.6ms\n",
            "Speed: 0.0ms preprocess, 116.6ms inference, 0.0ms postprocess per image at shape (1, 3, 640, 480)\n",
            "\n",
            "image 1/1 c:\\Users\\79252\\Desktop\\\\6 \\\\Yolo-detecting-cards\\cards_dataset\\images\\val\\IMG_2647.JPG: 640x480 1 ace, 1 ten, 116.4ms\n",
            "Speed: 0.0ms preprocess, 116.4ms inference, 0.0ms postprocess per image at shape (1, 3, 640, 480)\n",
            "\n",
            "image 1/1 c:\\Users\\79252\\Desktop\\\\6 \\\\Yolo-detecting-cards\\cards_dataset\\images\\val\\IMG_2651.JPG: 640x480 1 king, 1 queen, 114.0ms\n",
            "Speed: 0.0ms preprocess, 114.0ms inference, 0.0ms postprocess per image at shape (1, 3, 640, 480)\n",
            "\n",
            "image 1/1 c:\\Users\\79252\\Desktop\\\\6 \\\\Yolo-detecting-cards\\cards_dataset\\images\\val\\IMG_2654.JPG: 640x480 2 aces, 2 nines, 113.7ms\n",
            "Speed: 2.6ms preprocess, 113.7ms inference, 0.0ms postprocess per image at shape (1, 3, 640, 480)\n",
            "\n",
            "image 1/1 c:\\Users\\79252\\Desktop\\\\6 \\\\Yolo-detecting-cards\\cards_dataset\\images\\val\\IMG_2656.JPG: 640x480 1 jack, 1 ten, 1 nine, 107.9ms\n",
            "Speed: 2.6ms preprocess, 107.9ms inference, 0.0ms postprocess per image at shape (1, 3, 640, 480)\n",
            "\n",
            "image 1/1 c:\\Users\\79252\\Desktop\\\\6 \\\\Yolo-detecting-cards\\cards_dataset\\images\\val\\IMG_2662.JPG: 640x480 1 king, 1 queen, 116.3ms\n",
            "Speed: 0.0ms preprocess, 116.3ms inference, 1.0ms postprocess per image at shape (1, 3, 640, 480)\n",
            "\n",
            "image 1/1 c:\\Users\\79252\\Desktop\\\\6 \\\\Yolo-detecting-cards\\cards_dataset\\images\\val\\IMG_2670.JPG: 640x480 2 aces, 116.3ms\n",
            "Speed: 0.0ms preprocess, 116.3ms inference, 0.0ms postprocess per image at shape (1, 3, 640, 480)\n",
            "\n",
            "image 1/1 c:\\Users\\79252\\Desktop\\\\6 \\\\Yolo-detecting-cards\\cards_dataset\\images\\val\\IMG_2675.JPG: 640x480 1 king, 1 queen, 1 jack, 1 ten, 1 nine, 112.3ms\n",
            "Speed: 0.0ms preprocess, 112.3ms inference, 0.0ms postprocess per image at shape (1, 3, 640, 480)\n",
            "\n",
            "image 1/1 c:\\Users\\79252\\Desktop\\\\6 \\\\Yolo-detecting-cards\\cards_dataset\\images\\val\\IMG_2677.JPG: 640x480 1 ten, 1 nine, 112.9ms\n",
            "Speed: 2.7ms preprocess, 112.9ms inference, 0.0ms postprocess per image at shape (1, 3, 640, 480)\n",
            "\n",
            "image 1/1 c:\\Users\\79252\\Desktop\\\\6 \\\\Yolo-detecting-cards\\cards_dataset\\images\\val\\IMG_2678.JPG: 640x480 2 jacks, 117.3ms\n",
            "Speed: 0.0ms preprocess, 117.3ms inference, 0.0ms postprocess per image at shape (1, 3, 640, 480)\n",
            "\n",
            "image 1/1 c:\\Users\\79252\\Desktop\\\\6 \\\\Yolo-detecting-cards\\cards_dataset\\images\\val\\IMG_2686.JPG: 640x480 1 ace, 2 queens, 1 ten, 104.3ms\n",
            "Speed: 2.5ms preprocess, 104.3ms inference, 0.0ms postprocess per image at shape (1, 3, 640, 480)\n"
          ]
        }
      ],
      "source": [
        "\n",
        "res_dir = 'test_photos/'\n",
        "\n",
        "for img_path in test_imgs:\n",
        "\n",
        "    results = model(dir+'/'+img_path)\n",
        "    img_name = img_path.split('.')[0]\n",
        "    for res in results:\n",
        "\n",
        "        res.save(filename=f'{res_dir}/result_{img_name}.jpg')"
      ]
    }
  ],
  "metadata": {
    "accelerator": "GPU",
    "colab": {
      "name": "YOLOv8 Tutorial",
      "provenance": []
    },
    "kernelspec": {
      "display_name": "Python 3",
      "name": "python3"
    },
    "language_info": {
      "codemirror_mode": {
        "name": "ipython",
        "version": 3
      },
      "file_extension": ".py",
      "mimetype": "text/x-python",
      "name": "python",
      "nbconvert_exporter": "python",
      "pygments_lexer": "ipython3",
      "version": "3.10.11"
    }
  },
  "nbformat": 4,
  "nbformat_minor": 0
}
